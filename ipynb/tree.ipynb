{
 "cells": [
  {
   "cell_type": "markdown",
   "metadata": {},
   "source": [
    "# Tree "
   ]
  },
  {
   "cell_type": "markdown",
   "metadata": {},
   "source": [
    "## Pre run "
   ]
  },
  {
   "cell_type": "code",
   "execution_count": null,
   "metadata": {
    "ExecuteTime": {
     "end_time": "2020-03-10T08:15:51.573234Z",
     "start_time": "2020-03-10T08:15:51.570238Z"
    }
   },
   "outputs": [],
   "source": [
    "from typing import List\n",
    "from helpers.misc import *\n",
    "from helpers.tree import *"
   ]
  },
  {
   "cell_type": "markdown",
   "metadata": {},
   "source": [
    "## Basics "
   ]
  },
  {
   "cell_type": "markdown",
   "metadata": {},
   "source": [
    "* **BFS**: Breadth First Search.\n",
    "* **DFS**: Depth First Search.\n",
    "    * **Preorder**: root -> left -> right\n",
    "    * **Inorder**: left -> root -> right\n",
    "        * The core of BST is inorder, keep practicing!\n",
    "        * We can use [Morris Traversal](https://en.wikipedia.org/wiki/Tree_traversal#Morris_in-order_traversal_using_threading)  to do inorder without using a stack.\n",
    "    * **Postorder**: left -> right -> root\n",
    "* We can construct a distinct binary tree from [preorder+inorder](https://leetcode.com/problems/construct-binary-tree-from-preorder-and-inorder-traversal/) and [inorder+postorder](https://leetcode.com/problems/construct-binary-tree-from-inorder-and-postorder-traversal/).\n",
    "* We cannot construct a distinct binary tree from preorder+postorder, because without inorder we cannot tell which part is the left tree and which part is the right tree, thus arbitrary trees may occur."
   ]
  },
  {
   "cell_type": "code",
   "execution_count": null,
   "metadata": {
    "ExecuteTime": {
     "end_time": "2020-03-10T08:19:53.072548Z",
     "start_time": "2020-03-10T08:19:53.058447Z"
    }
   },
   "outputs": [],
   "source": [
    "class TreeOrders:\n",
    "    '''Do tree order using iteration.'''\n",
    "    \n",
    "    def pre_order(self, root: TreeNode) -> List[int]:\n",
    "        '''Do preorder for a tree.'''\n",
    "        # sequence: self -> left -> right\n",
    "        tr = []\n",
    "        stack = []\n",
    "        if root:\n",
    "            stack.append(root)\n",
    "        while stack:\n",
    "            root = stack.pop()\n",
    "            tr.append(root.val)\n",
    "            if root.right:\n",
    "                stack.append(root.right)\n",
    "            if root.left:\n",
    "                stack.append(root.left)\n",
    "        return tr\n",
    "    \n",
    "    def in_order(self, root: TreeNode) -> List[int]:\n",
    "        '''Do inorder for a tree.'''\n",
    "        # sequence: left -> self -> right\n",
    "        stack, traverse = [], []\n",
    "        while stack or root:\n",
    "            while root:\n",
    "                # scan left\n",
    "                stack.append(root)\n",
    "                root = root.left\n",
    "            # there is no left child for root\n",
    "            # scan itself\n",
    "            root = stack.pop()\n",
    "            traverse.append(root.val)\n",
    "            # scan right\n",
    "            root = root.right\n",
    "        return traverse\n",
    "\n",
    "    # Iterative function for inorder tree traversal \n",
    "    def morris_traversal(self, root: TreeNode) -> List[int]: \n",
    "        '''Traverse the binary tree in-order by Morris Traversal which use constant space.'''\n",
    "        traverse = []\n",
    "        # Set current to root of binary tree \n",
    "        current = root  \n",
    "\n",
    "        while(current is not None): \n",
    "\n",
    "            if current.left is None: \n",
    "                traverse.append(current.val) \n",
    "                current = current.right \n",
    "            else: \n",
    "                # Find the inorder predecessor of current \n",
    "                pre = current.left \n",
    "                while(pre.right is not None and pre.right != current): \n",
    "                    pre = pre.right \n",
    "\n",
    "                # Make current as right child of its inorder predecessor \n",
    "                if(pre.right is None): \n",
    "                    pre.right = current \n",
    "                    current = current.left \n",
    "\n",
    "                # Revert the changes made in if part to restore the  \n",
    "                # original tree i.e., fix the right child of predecessor \n",
    "                else: \n",
    "                    pre.right = None\n",
    "                    traverse.append(current.val) \n",
    "                    current = current.right\n",
    "        return traverse\n",
    "\n",
    "    def post_order(self, root: TreeNode) -> List[int]:\n",
    "        '''Do postorder for a tree.'''\n",
    "        # sequence: left -> right -> self\n",
    "        traverse = []\n",
    "        stack = []\n",
    "        stack.append(root)\n",
    "        while stack:\n",
    "            root = stack[-1]\n",
    "            if not root.left and not root.right:\n",
    "                stack.pop()\n",
    "                traverse.append(root.val)\n",
    "            elif root.left:\n",
    "                stack.append(root.left)\n",
    "                # TRICK: left is traversed\n",
    "                root.left = None\n",
    "            else:\n",
    "                stack.append(root.right)\n",
    "                # TRICK: right is traversed\n",
    "                root.right = None\n",
    "        return traverse"
   ]
  },
  {
   "cell_type": "code",
   "execution_count": null,
   "metadata": {
    "ExecuteTime": {
     "end_time": "2020-03-10T08:19:54.248230Z",
     "start_time": "2020-03-10T08:19:54.242206Z"
    }
   },
   "outputs": [],
   "source": [
    "print(TreeOrders().pre_order(string_to_tree_node(\"[1,2,5,3,4]\")))\n",
    "print(TreeOrders().in_order(string_to_tree_node(\"[4,2,5,1,3]\")))\n",
    "print(TreeOrders().post_order(string_to_tree_node(\"[5,3,4,1,2]\")))\n",
    "print(TreeOrders().morris_traversal(string_to_tree_node(\"[4,2,5,1,3]\")))"
   ]
  },
  {
   "cell_type": "markdown",
   "metadata": {},
   "source": [
    "## Binary Search Trees"
   ]
  },
  {
   "cell_type": "markdown",
   "metadata": {},
   "source": [
    "* There must be no same value in the BST tree."
   ]
  },
  {
   "cell_type": "markdown",
   "metadata": {},
   "source": [
    "## 98 [Validate Binary Search Tree](https://leetcode.com/problems/validate-binary-search-tree/) - M - ByteDance"
   ]
  },
  {
   "cell_type": "markdown",
   "metadata": {},
   "source": [
    "### Inorder"
   ]
  },
  {
   "cell_type": "markdown",
   "metadata": {},
   "source": [
    "* The inorder of a BST must be ordered **without same val**.\n",
    "* Runtime: 40 ms, faster than 84.99% of Python3 online submissions for Validate Binary Search Tree.\n",
    "* Memory Usage: 14.9 MB, less than 100.00% of Python3 online submissions for Validate Binary Search Tree."
   ]
  },
  {
   "cell_type": "code",
   "execution_count": null,
   "metadata": {
    "ExecuteTime": {
     "end_time": "2020-02-27T14:00:06.003204Z",
     "start_time": "2020-02-27T14:00:05.997179Z"
    }
   },
   "outputs": [],
   "source": [
    "class Solution:\n",
    "    def isValidBST(self, root: TreeNode) -> bool:\n",
    "        '''Given a binary tree, determine if it is a valid binary search tree by Inorder.'''\n",
    "        # Inorder: left -> root -> right\n",
    "        stack, before = [], float('-inf')\n",
    "        while stack or root:\n",
    "            while root:\n",
    "                # scan left\n",
    "                stack.append(root)\n",
    "                root = root.left\n",
    "            # there is no left child for root\n",
    "            # scan itself\n",
    "            root = stack.pop()\n",
    "            if root.val <= before:\n",
    "                return False\n",
    "            else:\n",
    "                # scan right\n",
    "                before = root.val\n",
    "                root = root.right\n",
    "        return True"
   ]
  },
  {
   "cell_type": "code",
   "execution_count": null,
   "metadata": {
    "ExecuteTime": {
     "end_time": "2020-02-27T14:00:06.744539Z",
     "start_time": "2020-02-27T14:00:06.740543Z"
    }
   },
   "outputs": [],
   "source": [
    "# test\n",
    "eq(Solution().isValidBST(string_to_tree_node(\"[2,1,3]\")), True)\n",
    "eq(Solution().isValidBST(string_to_tree_node(\"[5,1,4,null,null,3,6]\")), False)\n",
    "eq(Solution().isValidBST(string_to_tree_node(\"[1,1]\")), False)"
   ]
  },
  {
   "cell_type": "markdown",
   "metadata": {},
   "source": [
    "## 530 [Minimum Absolute Difference in BST](https://leetcode.com/problems/minimum-absolute-difference-in-bst/) -  E"
   ]
  },
  {
   "cell_type": "markdown",
   "metadata": {},
   "source": [
    "### Inorder "
   ]
  },
  {
   "cell_type": "markdown",
   "metadata": {},
   "source": [
    "* Runtime: 48 ms, faster than 96.88% of Python3 online submissions for Minimum Absolute Difference in BST.\n",
    "* Memory Usage: 14.7 MB, less than 100.00% of Python3 online submissions for Minimum Absolute Difference in BST."
   ]
  },
  {
   "cell_type": "code",
   "execution_count": null,
   "metadata": {
    "ExecuteTime": {
     "end_time": "2020-02-27T14:00:08.811190Z",
     "start_time": "2020-02-27T14:00:08.806188Z"
    }
   },
   "outputs": [],
   "source": [
    "class Solution:\n",
    "    def getMinimumDifference(self, root: TreeNode) -> int:\n",
    "        '''Get the minimun difference by traversing the BST Inorder.'''\n",
    "        stack = []\n",
    "        now, before = -1, -1\n",
    "        result = float('inf')\n",
    "        while stack or root:\n",
    "            while root:\n",
    "                stack.append(root)\n",
    "                root = root.left\n",
    "            root = stack.pop()\n",
    "            now = root.val\n",
    "            result = min(now-before, result) if before >= 0 else float('inf')\n",
    "            before = now\n",
    "            root = root.right\n",
    "        return result"
   ]
  },
  {
   "cell_type": "code",
   "execution_count": null,
   "metadata": {
    "ExecuteTime": {
     "end_time": "2020-02-27T14:00:11.464488Z",
     "start_time": "2020-02-27T14:00:11.460490Z"
    }
   },
   "outputs": [],
   "source": [
    "# test\n",
    "eq(Solution().getMinimumDifference(string_to_tree_node(\"[1,null,3,2]\")), 1)"
   ]
  },
  {
   "cell_type": "markdown",
   "metadata": {},
   "source": [
    "## 700 [Search in a Binary Search Tree](https://leetcode.com/problems/search-in-a-binary-search-tree/) - E"
   ]
  },
  {
   "cell_type": "markdown",
   "metadata": {},
   "source": [
    "### Inorder "
   ]
  },
  {
   "cell_type": "markdown",
   "metadata": {},
   "source": [
    "* Runtime: 76 ms, faster than 61.93% of Python3 online submissions for Search in a Binary Search Tree.\n",
    "* Memory Usage: 14.5 MB, less than 100.00% of Python3 online submissions for Search in a Binary Search Tree."
   ]
  },
  {
   "cell_type": "code",
   "execution_count": null,
   "metadata": {
    "ExecuteTime": {
     "end_time": "2020-02-27T14:00:13.834599Z",
     "start_time": "2020-02-27T14:00:13.828620Z"
    }
   },
   "outputs": [],
   "source": [
    "class Solution:\n",
    "    def searchBST(self, root: TreeNode, val: int) -> TreeNode:\n",
    "        '''Search a node in BST by inorder traverse.'''\n",
    "        stack = []\n",
    "        while stack or root:\n",
    "            while root:\n",
    "                stack.append(root)\n",
    "                root = root.left\n",
    "            root = stack.pop()\n",
    "            if root.val == val:\n",
    "                return root\n",
    "            else:\n",
    "                root = root.right\n",
    "        # not found\n",
    "        return None"
   ]
  },
  {
   "cell_type": "code",
   "execution_count": null,
   "metadata": {
    "ExecuteTime": {
     "end_time": "2020-02-27T14:00:14.560235Z",
     "start_time": "2020-02-27T14:00:14.556216Z"
    }
   },
   "outputs": [],
   "source": [
    "# test\n",
    "eq(str(Solution().searchBST(string_to_tree_node(\"[4,2,7,1,3]\"), 2)), \"[2,1,3]\")"
   ]
  },
  {
   "cell_type": "markdown",
   "metadata": {},
   "source": [
    "## 701 [Insert into a Binary Search Tree](https://leetcode.com/problems/insert-into-a-binary-search-tree/) - M "
   ]
  },
  {
   "cell_type": "markdown",
   "metadata": {},
   "source": [
    "### DFS"
   ]
  },
  {
   "cell_type": "markdown",
   "metadata": {},
   "source": [
    "* Runtime: 140 ms, faster than 65.05% of Python3 online submissions for Insert into a Binary Search Tree.\n",
    "* Memory Usage: 15 MB, less than 100.00% of Python3 online submissions for Insert into a Binary Search Tree."
   ]
  },
  {
   "cell_type": "code",
   "execution_count": null,
   "metadata": {
    "ExecuteTime": {
     "end_time": "2020-02-27T14:00:17.101333Z",
     "start_time": "2020-02-27T14:00:17.094304Z"
    }
   },
   "outputs": [],
   "source": [
    "class Solution:\n",
    "    def insertIntoBST(self, root: TreeNode, val: int) -> TreeNode:\n",
    "        '''Insert into BST by DFS.'''\n",
    "        head = root\n",
    "        ancestor = root\n",
    "        while root:\n",
    "            ancestor = root\n",
    "            if val < root.val:\n",
    "                root = root.left\n",
    "            else:\n",
    "                root = root.right\n",
    "        if val < ancestor.val:\n",
    "            ancestor.left = TreeNode(val)\n",
    "        else:\n",
    "            ancestor.right = TreeNode(val)\n",
    "        return head"
   ]
  },
  {
   "cell_type": "code",
   "execution_count": null,
   "metadata": {
    "ExecuteTime": {
     "end_time": "2020-02-27T14:00:39.217362Z",
     "start_time": "2020-02-27T14:00:39.213364Z"
    }
   },
   "outputs": [],
   "source": [
    "# test\n",
    "eq(str(Solution().insertIntoBST(string_to_tree_node(\"[4,2,7,1,3]\"), 5)), \"[4,2,7,1,3,5]\")"
   ]
  },
  {
   "cell_type": "markdown",
   "metadata": {},
   "source": [
    "### Recursion "
   ]
  },
  {
   "cell_type": "markdown",
   "metadata": {},
   "source": [
    "* Runtime: 136 ms, faster than 82.29% of Python3 online submissions for Insert into a Binary Search Tree.\n",
    "* Memory Usage: 14.8 MB, less than 100.00% of Python3 online submissions for Insert into a Binary Search Tree."
   ]
  },
  {
   "cell_type": "code",
   "execution_count": null,
   "metadata": {
    "ExecuteTime": {
     "end_time": "2020-02-27T14:06:14.440568Z",
     "start_time": "2020-02-27T14:06:14.435500Z"
    }
   },
   "outputs": [],
   "source": [
    "class Solution:\n",
    "    def insertIntoBST(self, root: TreeNode, val: int) -> TreeNode:\n",
    "        '''Insert into BST by recursion.\n",
    "        \n",
    "        TC: O(log n to n)\n",
    "        SC: O(log n to n)\n",
    "        '''\n",
    "        if not root:\n",
    "            return TreeNode(val)\n",
    "        if val > root.val:\n",
    "            root.right = self.insertIntoBST(root.right, val)\n",
    "        else:\n",
    "            root.left = self.insertIntoBST(root.left, val)\n",
    "        return root"
   ]
  },
  {
   "cell_type": "code",
   "execution_count": null,
   "metadata": {
    "ExecuteTime": {
     "end_time": "2020-02-27T14:06:16.699685Z",
     "start_time": "2020-02-27T14:06:16.695668Z"
    }
   },
   "outputs": [],
   "source": [
    "# test\n",
    "eq(str(Solution().insertIntoBST(string_to_tree_node(\"[4,2,7,1,3]\"), 5)), \"[4,2,7,1,3,5]\")"
   ]
  },
  {
   "cell_type": "markdown",
   "metadata": {},
   "source": [
    "## 230 [Kth Smallest Element in a BST](https://leetcode.com/problems/kth-smallest-element-in-a-bst/) - M"
   ]
  },
  {
   "cell_type": "markdown",
   "metadata": {},
   "source": [
    "### Inorder "
   ]
  },
  {
   "cell_type": "markdown",
   "metadata": {},
   "source": [
    "* Runtime: 52 ms, faster than 58.46% of Python3 online submissions for Kth Smallest Element in a BST.\n",
    "* Memory Usage: 16.7 MB, less than 98.18% of Python3 online submissions for Kth Smallest Element in a BST."
   ]
  },
  {
   "cell_type": "code",
   "execution_count": null,
   "metadata": {
    "ExecuteTime": {
     "end_time": "2020-02-28T13:23:09.858107Z",
     "start_time": "2020-02-28T13:23:09.853079Z"
    }
   },
   "outputs": [],
   "source": [
    "class Solution:\n",
    "    def kthSmallest(self, root: TreeNode, k: int) -> int:\n",
    "        '''Find the kth smallest element in a BST by inorder.\n",
    "        \n",
    "        TC: O(log N + k) ~ O(N)\n",
    "        SC: O(log N + k) ~ O(N)\n",
    "        '''\n",
    "        stack = []\n",
    "        while stack or root:\n",
    "            while root:\n",
    "                stack.append(root)\n",
    "                root = root.left\n",
    "            root = stack.pop()\n",
    "            if k == 1:\n",
    "                return root.val\n",
    "            else:\n",
    "                k -= 1\n",
    "                root = root.right\n",
    "        return -1"
   ]
  },
  {
   "cell_type": "code",
   "execution_count": null,
   "metadata": {
    "ExecuteTime": {
     "end_time": "2020-02-28T13:24:29.018040Z",
     "start_time": "2020-02-28T13:24:29.014010Z"
    }
   },
   "outputs": [],
   "source": [
    "# test\n",
    "eq(Solution().kthSmallest(string_to_tree_node(\"[3,1,4,null,2]\"), 1), 1)\n",
    "eq(Solution().kthSmallest(string_to_tree_node(\"[5,3,6,2,4,null,null,1]\"), 3), 3)"
   ]
  },
  {
   "cell_type": "markdown",
   "metadata": {},
   "source": [
    "What if the BST is modified (insert/delete operations) often and you need to find the kth smallest frequently? How would you optimize the kthSmallest routine?\n",
    "* Use [LRU Cache](https://leetcode.com/articles/kth-smallest-element-in-a-bst/)."
   ]
  },
  {
   "cell_type": "markdown",
   "metadata": {},
   "source": [
    "## 99 [Recover Binary Search Tree](https://leetcode.com/problems/recover-binary-search-tree/) - H"
   ]
  },
  {
   "cell_type": "markdown",
   "metadata": {},
   "source": [
    "### [Morris Traversal](https://en.wikipedia.org/wiki/Tree_traversal#Morris_in-order_traversal_using_threading) "
   ]
  },
  {
   "cell_type": "markdown",
   "metadata": {},
   "source": [
    "* Runtime: 68 ms, faster than 90.16% of Python3 online submissions for Recover Binary Search Tree.\n",
    "* Memory Usage: 12.9 MB, less than 100.00% of Python3 online submissions for Recover Binary Search Tree."
   ]
  },
  {
   "cell_type": "code",
   "execution_count": null,
   "metadata": {
    "ExecuteTime": {
     "end_time": "2020-02-28T14:37:21.886579Z",
     "start_time": "2020-02-28T14:37:21.878587Z"
    }
   },
   "outputs": [],
   "source": [
    "class Solution:\n",
    "    def recoverTree(self, root: TreeNode) -> None:\n",
    "        '''Recover the tree by Morris Traversal.'''\n",
    "        cur = root\n",
    "        prev = None\n",
    "        left_swap = None\n",
    "        right_swap = None\n",
    "        while cur:\n",
    "            if not cur.left:\n",
    "                # current value should be greater than previous value\n",
    "                if prev and cur.val < prev.val:\n",
    "                    # find and lock the left swap place\n",
    "                    if not left_swap:\n",
    "                        left_swap = prev\n",
    "                    # the right swap place should always be refreshed until\n",
    "                    # there is no cur.val < prev.val, which means that after\n",
    "                    # that place, inorder traversal list is sorted\n",
    "                    right_swap = cur\n",
    "                prev = cur\n",
    "                cur = cur.right\n",
    "            else:\n",
    "                node = cur.left\n",
    "                while node.right and node.right != cur:\n",
    "                    node = node.right\n",
    "                if node.right:\n",
    "                    # recover the tree by removing the pseudo right child\n",
    "                    node.right = None\n",
    "                    if prev and cur.val < prev.val:\n",
    "                        # find and lock the left swap place\n",
    "                        if not left_swap:\n",
    "                            left_swap = prev\n",
    "                        # the right swap place should always be refreshed\n",
    "                        # until there is no cur.val < prev.val, which means\n",
    "                        # that after that place, inorder traversal list is\n",
    "                        # sorted\n",
    "                        right_swap = cur\n",
    "                    prev = cur\n",
    "                    cur = cur.right\n",
    "                else:\n",
    "                    # add a temporary pseudo right child to the tree\n",
    "                    node.right = cur\n",
    "                    cur = cur.left\n",
    "        left_swap.val, right_swap.val = right_swap.val, left_swap.val\n",
    "        return"
   ]
  },
  {
   "cell_type": "code",
   "execution_count": null,
   "metadata": {
    "ExecuteTime": {
     "end_time": "2020-02-28T14:37:23.329090Z",
     "start_time": "2020-02-28T14:37:23.325090Z"
    }
   },
   "outputs": [],
   "source": [
    "# test\n",
    "tree = string_to_tree_node(\"[3,1,4,null,null,2]\")\n",
    "Solution().recoverTree(tree)\n",
    "eq(str(tree), \"[2,1,4,null,null,3]\")"
   ]
  },
  {
   "cell_type": "markdown",
   "metadata": {},
   "source": [
    "## 108 [Convert Sorted Array to Binary Search Tree](https://leetcode.com/problems/convert-sorted-array-to-binary-search-tree/) - E"
   ]
  },
  {
   "cell_type": "markdown",
   "metadata": {},
   "source": [
    "###  Recursion / Divide and Conquer"
   ]
  },
  {
   "cell_type": "markdown",
   "metadata": {},
   "source": [
    "* Runtime: 64 ms, faster than 97.29% of Python3 online submissions for Convert Sorted Array to Binary Search Tree.\n",
    "* Memory Usage: 14.9 MB, less than 100.00% of Python3 online submissions for Convert Sorted Array to Binary Search Tree."
   ]
  },
  {
   "cell_type": "code",
   "execution_count": null,
   "metadata": {
    "ExecuteTime": {
     "end_time": "2020-02-29T14:25:51.598661Z",
     "start_time": "2020-02-29T14:25:51.592660Z"
    }
   },
   "outputs": [],
   "source": [
    "class Solution:\n",
    "    def sortedArrayToBST(self, nums: List[int]) -> TreeNode:\n",
    "        '''Convert sorted array to a height balanced BST by recursion.'''\n",
    "        if not nums:\n",
    "            return None\n",
    "        mid = len(nums) // 2\n",
    "        root = TreeNode(nums[mid])\n",
    "        root.left = self.sortedArrayToBST(nums[:mid]) \n",
    "        root.right = self.sortedArrayToBST(nums[mid+1:]) \n",
    "        return root"
   ]
  },
  {
   "cell_type": "code",
   "execution_count": null,
   "metadata": {
    "ExecuteTime": {
     "end_time": "2020-02-29T14:25:53.246076Z",
     "start_time": "2020-02-29T14:25:53.241061Z"
    }
   },
   "outputs": [],
   "source": [
    "# test\n",
    "eq(str(Solution().sortedArrayToBST([0,1,2,3,4,5])), '[3,1,5,0,2,4]')"
   ]
  },
  {
   "cell_type": "markdown",
   "metadata": {},
   "source": [
    "## 501 [Find Mode in Binary Search Tree](https://leetcode.com/problems/find-mode-in-binary-search-tree/) - E "
   ]
  },
  {
   "cell_type": "markdown",
   "metadata": {},
   "source": [
    "### Morris Traversal "
   ]
  },
  {
   "cell_type": "markdown",
   "metadata": {},
   "source": [
    "* Runtime: 56 ms, faster than 67.47% of Python3 online submissions for Find Mode in Binary Search Tree.\n",
    "* Memory Usage: 16.5 MB, less than 100.00% of Python3 online submissions for Find Mode in Binary Search Tree."
   ]
  },
  {
   "cell_type": "code",
   "execution_count": null,
   "metadata": {
    "ExecuteTime": {
     "end_time": "2020-03-01T02:06:36.497932Z",
     "start_time": "2020-03-01T02:06:36.488933Z"
    }
   },
   "outputs": [],
   "source": [
    "class Solution:\n",
    "    def findMode(self, root: TreeNode) -> List[int]:\n",
    "        '''Find mode of a BST with duplicates by morris traversal.'''\n",
    "        self.result = []\n",
    "        self.max_count = 0\n",
    "        self.count = 1\n",
    "        self.pre_num = None\n",
    "        cur = root\n",
    "        \n",
    "        def update_mode(cur: TreeNode):\n",
    "            '''Update the mode result whenever traverse a new node.'''\n",
    "            if self.pre_num is not None:\n",
    "                # update the count\n",
    "                if self.pre_num == cur.val:\n",
    "                    self.count += 1\n",
    "                else:\n",
    "                    self.count = 1\n",
    "            # update the result\n",
    "            if self.count > self.max_count:\n",
    "                self.result = [cur.val]\n",
    "                self.max_count = self.count\n",
    "            elif self.count == self.max_count:\n",
    "                self.result.append(cur.val)\n",
    "        \n",
    "        while cur:\n",
    "            if not cur.left:\n",
    "                update_mode(cur)\n",
    "                self.pre_num = cur.val\n",
    "                cur = cur.right\n",
    "            else:\n",
    "                pre = cur.left\n",
    "                while pre.right and pre.right != cur:\n",
    "                    pre = pre.right\n",
    "                if not pre.right:\n",
    "                    pre.right = cur\n",
    "                    cur = cur.left\n",
    "                else:\n",
    "                    pre.right = None\n",
    "                    update_mode(cur)\n",
    "                    self.pre_num = cur.val\n",
    "                    cur = cur.right\n",
    "        return self.result"
   ]
  },
  {
   "cell_type": "code",
   "execution_count": null,
   "metadata": {
    "ExecuteTime": {
     "end_time": "2020-03-01T02:06:38.500852Z",
     "start_time": "2020-03-01T02:06:38.495824Z"
    }
   },
   "outputs": [],
   "source": [
    "# test\n",
    "eq(Solution().findMode(string_to_tree_node(\"[1,null,2,2]\")), [2])\n",
    "eq(Solution().findMode(string_to_tree_node(\"[]\")), [])\n",
    "eq(Solution().findMode(string_to_tree_node(\"[1,null,2]\")), [1,2])\n",
    "eq(Solution().findMode(string_to_tree_node(\"[1,1,2]\")), [1])"
   ]
  },
  {
   "cell_type": "markdown",
   "metadata": {},
   "source": [
    "## 450 [Delete Node in a BST](https://leetcode.com/problems/delete-node-in-a-bst/) - M "
   ]
  },
  {
   "cell_type": "markdown",
   "metadata": {},
   "source": [
    "### Recursion / 4 Cases / Swap Nodes"
   ]
  },
  {
   "cell_type": "markdown",
   "metadata": {},
   "source": [
    "* Runtime: 76 ms, faster than 65.19% of Python3 online submissions for Delete Node in a BST.\n",
    "* Memory Usage: 16.8 MB, less than 100.00% of Python3 online submissions for Delete Node in a BST."
   ]
  },
  {
   "cell_type": "code",
   "execution_count": null,
   "metadata": {
    "ExecuteTime": {
     "end_time": "2020-03-01T02:23:32.086556Z",
     "start_time": "2020-03-01T02:23:32.080399Z"
    }
   },
   "outputs": [],
   "source": [
    "class Solution:\n",
    "    def deleteNode(self, root: TreeNode, key: int) -> TreeNode:\n",
    "        '''Delete node in a BST by recursion.'''\n",
    "        if not root:\n",
    "            return None\n",
    "        elif key < root.val:\n",
    "            root.left = self.deleteNode(root.left, key)\n",
    "            return root\n",
    "        elif key > root.val:\n",
    "            root.right = self.deleteNode(root.right, key)\n",
    "            return root\n",
    "        else:\n",
    "            # key == root.val\n",
    "            # if not root.left and not root.right:\n",
    "            #     return None\n",
    "            if not root.right:\n",
    "                return root.left\n",
    "            elif not root.left:\n",
    "                return root.right\n",
    "            else:\n",
    "                # root.left and root.right both exists.\n",
    "                # find the inorder successor of root.\n",
    "                suc = root.right\n",
    "                # a is the ancestor of suc\n",
    "                a = root \n",
    "                # CAUTION: There are two scenarios.\n",
    "                while suc.left:\n",
    "                    a = suc\n",
    "                    suc = suc.left\n",
    "                if a != root:\n",
    "                    a.left = suc.right\n",
    "                    suc.right = root.right\n",
    "                suc.left = root.left \n",
    "                return suc"
   ]
  },
  {
   "cell_type": "code",
   "execution_count": null,
   "metadata": {
    "ExecuteTime": {
     "end_time": "2020-03-01T02:24:46.938421Z",
     "start_time": "2020-03-01T02:24:46.935450Z"
    }
   },
   "outputs": [],
   "source": [
    "# test\n",
    "eq(str(Solution().deleteNode(string_to_tree_node('[5,3,6,2,4,null,7]'), 3)), \n",
    "   '[5,4,6,2,null,null,7]')"
   ]
  },
  {
   "cell_type": "markdown",
   "metadata": {},
   "source": [
    "## 94 [Binary Tree Inorder Traversal](https://leetcode.com/problems/binary-tree-inorder-traversal/) - M "
   ]
  },
  {
   "cell_type": "markdown",
   "metadata": {},
   "source": [
    "### Morris Traversal "
   ]
  },
  {
   "cell_type": "markdown",
   "metadata": {},
   "source": [
    "* Runtime: 28 ms, faster than 64.47% of Python3 online submissions for Binary Tree Inorder Traversal.\n",
    "* Memory Usage: 12.6 MB, less than 100.00% of Python3 online submissions for Binary Tree Inorder Traversal."
   ]
  },
  {
   "cell_type": "code",
   "execution_count": null,
   "metadata": {
    "ExecuteTime": {
     "end_time": "2020-03-01T13:50:13.930399Z",
     "start_time": "2020-03-01T13:50:13.924387Z"
    }
   },
   "outputs": [],
   "source": [
    "class Solution:\n",
    "    def inorderTraversal(self, root: TreeNode) -> List[int]:\n",
    "        '''Do inorder traversal by Morris Traversal.'''\n",
    "        tr = []\n",
    "        while root:\n",
    "            if not root.left:\n",
    "                tr.append(root.val)\n",
    "                root = root.right\n",
    "            else:\n",
    "                pre = root.left\n",
    "                while pre.right and pre.right != root:\n",
    "                    pre = pre.right\n",
    "                if pre.right:\n",
    "                    pre.right = None\n",
    "                    tr.append(root.val)\n",
    "                    root = root.right\n",
    "                else:\n",
    "                    pre.right = root\n",
    "                    root = root.left\n",
    "        return tr"
   ]
  },
  {
   "cell_type": "code",
   "execution_count": null,
   "metadata": {
    "ExecuteTime": {
     "end_time": "2020-03-01T13:50:46.404476Z",
     "start_time": "2020-03-01T13:50:46.400476Z"
    }
   },
   "outputs": [],
   "source": [
    "# test\n",
    "eq(Solution().inorderTraversal(string_to_tree_node('[1,null,2,3]')), [1,3,2])"
   ]
  },
  {
   "cell_type": "markdown",
   "metadata": {},
   "source": [
    "## 144 [Binary Tree Preorder Traversal](https://leetcode.com/problems/binary-tree-preorder-traversal/) - M "
   ]
  },
  {
   "cell_type": "markdown",
   "metadata": {},
   "source": [
    "### Iteration"
   ]
  },
  {
   "cell_type": "markdown",
   "metadata": {},
   "source": [
    "* Runtime: 32 ms, faster than 24.39% of Python3 online submissions for Binary Tree Preorder Traversal.\n",
    "* Memory Usage: 12.8 MB, less than 100.00% of Python3 online submissions for Binary Tree Preorder Traversal."
   ]
  },
  {
   "cell_type": "code",
   "execution_count": null,
   "metadata": {
    "ExecuteTime": {
     "end_time": "2020-03-01T15:05:38.335974Z",
     "start_time": "2020-03-01T15:05:38.328982Z"
    }
   },
   "outputs": [],
   "source": [
    "class Solution:\n",
    "    def preorderTraversal(self, root: TreeNode) -> List[int]:\n",
    "        '''Do preorder traversal iteratively.'''\n",
    "        tr = []\n",
    "        stack = []\n",
    "        if root:\n",
    "            stack.append(root)\n",
    "        while stack:\n",
    "            root = stack.pop()\n",
    "            tr.append(root.val)\n",
    "            if root.right:\n",
    "                stack.append(root.right)\n",
    "            if root.left:\n",
    "                stack.append(root.left)\n",
    "        return tr"
   ]
  },
  {
   "cell_type": "code",
   "execution_count": null,
   "metadata": {
    "ExecuteTime": {
     "end_time": "2020-03-01T15:06:05.652466Z",
     "start_time": "2020-03-01T15:06:05.649465Z"
    }
   },
   "outputs": [],
   "source": [
    "# test\n",
    "eq(Solution().preorderTraversal(string_to_tree_node('[1,null,2,3]')), [1,2,3])"
   ]
  },
  {
   "cell_type": "markdown",
   "metadata": {},
   "source": [
    "## 145 [Binary Tree Postorder Traversal](https://leetcode.com/problems/binary-tree-postorder-traversal/) - H"
   ]
  },
  {
   "cell_type": "markdown",
   "metadata": {},
   "source": [
    "### Recursion"
   ]
  },
  {
   "cell_type": "markdown",
   "metadata": {},
   "source": [
    "* Runtime: 20 ms, faster than 97.39% of Python3 online submissions for Binary Tree Postorder Traversal.\n",
    "* Memory Usage: 12.6 MB, less than 100.00% of Python3 online submissions for Binary Tree Postorder Traversal."
   ]
  },
  {
   "cell_type": "code",
   "execution_count": null,
   "metadata": {
    "ExecuteTime": {
     "end_time": "2020-03-01T15:20:17.551295Z",
     "start_time": "2020-03-01T15:20:17.546310Z"
    }
   },
   "outputs": [],
   "source": [
    "class Solution:\n",
    "    def postorderTraversal(self, root: TreeNode) -> List[int]:\n",
    "        '''Do postorder traversal recursively.'''\n",
    "        if not root:\n",
    "            return []\n",
    "        else:\n",
    "            return self.postorderTraversal(root.left) + self.postorderTraversal(root.right) + [root.val]"
   ]
  },
  {
   "cell_type": "code",
   "execution_count": null,
   "metadata": {
    "ExecuteTime": {
     "end_time": "2020-03-01T15:20:51.837204Z",
     "start_time": "2020-03-01T15:20:51.834204Z"
    }
   },
   "outputs": [],
   "source": [
    "# test\n",
    "eq(Solution().postorderTraversal(string_to_tree_node('[1,null,2,3]')), \n",
    "   [3,2,1])"
   ]
  },
  {
   "cell_type": "markdown",
   "metadata": {},
   "source": [
    "### Iteration"
   ]
  },
  {
   "cell_type": "markdown",
   "metadata": {},
   "source": [
    "* Runtime: 32 ms, faster than 25.23% of Python3 online submissions for Binary Tree Postorder Traversal.\n",
    "* Memory Usage: 12.9 MB, less than 100.00% of Python3 online submissions for Binary Tree Postorder Traversal."
   ]
  },
  {
   "cell_type": "code",
   "execution_count": null,
   "metadata": {
    "ExecuteTime": {
     "end_time": "2020-03-10T08:16:03.118488Z",
     "start_time": "2020-03-10T08:16:03.107485Z"
    }
   },
   "outputs": [],
   "source": [
    "class Solution:\n",
    "    def postorderTraversal(self, root: TreeNode) -> List[int]:\n",
    "        '''Do postorder traversal iteratively.'''\n",
    "        if not root:\n",
    "            return []\n",
    "        traverse = []\n",
    "        stack = []\n",
    "        stack.append(root)\n",
    "        while stack:\n",
    "            root = stack[-1]\n",
    "            if not root.left and not root.right:\n",
    "                stack.pop()\n",
    "                traverse.append(root.val)\n",
    "            elif root.left:\n",
    "                stack.append(root.left)\n",
    "                root.left = None\n",
    "            else:\n",
    "                stack.append(root.right)\n",
    "                root.right = None\n",
    "        return traverse"
   ]
  },
  {
   "cell_type": "code",
   "execution_count": null,
   "metadata": {
    "ExecuteTime": {
     "end_time": "2020-03-10T08:16:08.486839Z",
     "start_time": "2020-03-10T08:16:08.482836Z"
    }
   },
   "outputs": [],
   "source": [
    "# test\n",
    "eq(Solution().postorderTraversal(string_to_tree_node('[1,null,2,3]')), \n",
    "   [3,2,1])"
   ]
  },
  {
   "cell_type": "markdown",
   "metadata": {},
   "source": [
    "## 105 [Construct Binary Tree from Preorder and Inorder Traversal](https://leetcode.com/problems/construct-binary-tree-from-preorder-and-inorder-traversal/) - M"
   ]
  },
  {
   "cell_type": "markdown",
   "metadata": {},
   "source": [
    "### Recursion"
   ]
  },
  {
   "cell_type": "markdown",
   "metadata": {},
   "source": [
    "* Runtime: 224 ms, faster than 19.42% of Python3 online submissions for Construct Binary Tree from Preorder and Inorder Traversal.\n",
    "* Memory Usage: 86.6 MB, less than 31.58% of Python3 online submissions for Construct Binary Tree from Preorder and Inorder Traversal."
   ]
  },
  {
   "cell_type": "code",
   "execution_count": null,
   "metadata": {
    "ExecuteTime": {
     "end_time": "2020-03-09T16:07:48.506051Z",
     "start_time": "2020-03-09T16:07:48.500987Z"
    }
   },
   "outputs": [],
   "source": [
    "class Solution:\n",
    "    def buildTree(self, preorder: List[int], inorder: List[int]) -> TreeNode:\n",
    "        '''Construct a binary tree from preorder and inorder traversal.'''\n",
    "        if not preorder:\n",
    "            return None\n",
    "        root = TreeNode(preorder[0])\n",
    "        seq = inorder.index(preorder[0])\n",
    "        if len(preorder) >= 1:\n",
    "            root.left = self.buildTree(preorder[1:seq+1], inorder[:seq])\n",
    "            root.right = self.buildTree(preorder[seq+1:], inorder[seq+1:])\n",
    "        return root"
   ]
  },
  {
   "cell_type": "code",
   "execution_count": null,
   "metadata": {
    "ExecuteTime": {
     "end_time": "2020-03-09T16:08:28.610438Z",
     "start_time": "2020-03-09T16:08:28.605413Z"
    }
   },
   "outputs": [],
   "source": [
    "# test\n",
    "eq(str(Solution().buildTree([3,9,20,15,7], [9,3,15,20,7])), \n",
    "   '[3,9,20,null,null,15,7]')"
   ]
  },
  {
   "cell_type": "markdown",
   "metadata": {},
   "source": [
    "## 106 [Construct Binary Tree from Inorder and Postorder Traversal](https://leetcode.com/problems/construct-binary-tree-from-inorder-and-postorder-traversal/) - M"
   ]
  },
  {
   "cell_type": "markdown",
   "metadata": {},
   "source": [
    "### Recursion"
   ]
  },
  {
   "cell_type": "markdown",
   "metadata": {},
   "source": [
    "* Runtime: 204 ms, faster than 24.85% of Python3 online submissions for Construct Binary Tree from Inorder and Postorder Traversal.\n",
    "* Memory Usage: 86.6 MB, less than 55.56% of Python3 online submissions for Construct Binary Tree from Inorder and Postorder Traversal."
   ]
  },
  {
   "cell_type": "code",
   "execution_count": null,
   "metadata": {
    "ExecuteTime": {
     "end_time": "2020-03-09T15:54:03.947046Z",
     "start_time": "2020-03-09T15:54:03.942066Z"
    }
   },
   "outputs": [],
   "source": [
    "class Solution:\n",
    "    def buildTree(self, inorder: List[int], postorder: List[int]) -> TreeNode:\n",
    "        '''Build a tree from inorder and postorder traversal.'''\n",
    "        if not inorder:\n",
    "            return None\n",
    "        # find the root node\n",
    "        root = TreeNode(postorder[-1])\n",
    "        seq = inorder.index(postorder[-1])\n",
    "        \n",
    "        root.left = self.buildTree(inorder[:seq], postorder[:seq])\n",
    "        if seq+1 < len(inorder):\n",
    "            root.right = self.buildTree(inorder[seq+1:], postorder[seq:-1])\n",
    "        return root"
   ]
  },
  {
   "cell_type": "code",
   "execution_count": null,
   "metadata": {
    "ExecuteTime": {
     "end_time": "2020-03-09T15:55:02.427675Z",
     "start_time": "2020-03-09T15:55:02.421644Z"
    }
   },
   "outputs": [],
   "source": [
    "# test\n",
    "eq(str(Solution().buildTree([9,3,15,20,7], [9,15,7,20,3])), \n",
    "   '[3,9,20,null,null,15,7]')"
   ]
  },
  {
   "cell_type": "markdown",
   "metadata": {},
   "source": [
    "## 103 [Binary Tree Zigzag Level Order Traversal](https://leetcode.com/problems/binary-tree-zigzag-level-order-traversal/) - M "
   ]
  },
  {
   "cell_type": "markdown",
   "metadata": {},
   "source": [
    "### BFS"
   ]
  },
  {
   "cell_type": "markdown",
   "metadata": {},
   "source": [
    "* Runtime: 32 ms, faster than 54.37% of Python3 online submissions for Binary Tree Zigzag Level Order Traversal.\n",
    "* Memory Usage: 12.8 MB, less than 100.00% of Python3 online submissions for Binary Tree Zigzag Level Order Traversal."
   ]
  },
  {
   "cell_type": "code",
   "execution_count": null,
   "metadata": {},
   "outputs": [],
   "source": [
    "class Solution:\n",
    "    def zigzagLevelOrder(self, root: TreeNode) -> List[List[int]]:\n",
    "        '''Zigzag level order by BFS.'''\n",
    "        if not root:\n",
    "            return []\n",
    "        traversal = []\n",
    "        new = [root]\n",
    "        left_to_right = True\n",
    "        while new:\n",
    "            newer = []\n",
    "            for node in new:\n",
    "                if node.left:\n",
    "                    newer.append(node.left)\n",
    "                if node.right:\n",
    "                    newer.append(node.right)\n",
    "            if left_to_right:\n",
    "                traversal.append([x.val for x in new])\n",
    "            else:\n",
    "                traversal.append([x.val for x in new][::-1])\n",
    "            new = newer\n",
    "            left_to_right = not left_to_right\n",
    "        return traversal"
   ]
  },
  {
   "cell_type": "code",
   "execution_count": null,
   "metadata": {},
   "outputs": [],
   "source": [
    "eq(Solution().zigzagLevelOrder(string_to_tree_node('[3,9,20,null,null,15,7]')),\n",
    "   [[3],[20,9],[15,7]])\n",
    "eq(Solution().zigzagLevelOrder(string_to_tree_node('[1,2,3,4,null,null,5]')),\n",
    "   [[1],[3,2],[4,5]])"
   ]
  },
  {
   "cell_type": "markdown",
   "metadata": {},
   "source": [
    "## 429 [N-ary Tree Level Order Traversal](https://leetcode.com/problems/n-ary-tree-level-order-traversal/) - M "
   ]
  },
  {
   "cell_type": "markdown",
   "metadata": {},
   "source": [
    "###  BFS"
   ]
  },
  {
   "cell_type": "markdown",
   "metadata": {},
   "source": [
    "* Runtime: 72 ms, faster than 10.43% of Python3 online submissions for N-ary Tree Level Order Traversal.\n",
    "* Memory Usage: 14.5 MB, less than 100.00% of Python3 online submissions for N-ary Tree Level Order Traversal."
   ]
  },
  {
   "cell_type": "code",
   "execution_count": null,
   "metadata": {
    "ExecuteTime": {
     "end_time": "2020-03-02T11:52:48.590112Z",
     "start_time": "2020-03-02T11:52:48.582111Z"
    }
   },
   "outputs": [],
   "source": [
    "class Solution:\n",
    "    def levelOrder(self, root: 'Node') -> List[List[int]]:\n",
    "        '''Do the level order for n-ary tree.'''\n",
    "        if not root:\n",
    "            return []\n",
    "        traversal = []\n",
    "        new = [root]\n",
    "        while new:\n",
    "            newer = []\n",
    "            for node in new:\n",
    "                if node.children:\n",
    "                    newer += node.children\n",
    "            traversal.append([x.val for x in new])\n",
    "            new = newer\n",
    "        return traversal"
   ]
  },
  {
   "cell_type": "markdown",
   "metadata": {},
   "source": [
    "## 589 [N-ary Tree Preorder Traversal](https://leetcode.com/problems/n-ary-tree-preorder-traversal/) - E"
   ]
  },
  {
   "cell_type": "markdown",
   "metadata": {},
   "source": [
    "### Iteration"
   ]
  },
  {
   "cell_type": "markdown",
   "metadata": {},
   "source": [
    "* Runtime: 52 ms, faster than 58.96% of Python3 online submissions for N-ary Tree Preorder Traversal.\n",
    "* Memory Usage: 14.8 MB, less than 100.00% of Python3 online submissions for N-ary Tree Preorder Traversal."
   ]
  },
  {
   "cell_type": "code",
   "execution_count": null,
   "metadata": {
    "ExecuteTime": {
     "end_time": "2020-03-02T11:40:12.187125Z",
     "start_time": "2020-03-02T11:40:12.180127Z"
    }
   },
   "outputs": [],
   "source": [
    "class Solution:\n",
    "    def preorder(self, root: 'Node') -> List[int]:\n",
    "        '''Do preorder for the n-ary tree iteratively.'''\n",
    "        if not root:\n",
    "            return []\n",
    "        stack = [root]\n",
    "        traversal = []\n",
    "        while stack:\n",
    "            root = stack.pop()\n",
    "            traversal.append(root.val)\n",
    "            if root.children:\n",
    "                for i in range(len(root.children)-1, -1, -1):\n",
    "                    stack.append(root.children[i])\n",
    "        return traversal"
   ]
  },
  {
   "cell_type": "code",
   "execution_count": null,
   "metadata": {
    "ExecuteTime": {
     "end_time": "2020-03-02T11:40:14.223287Z",
     "start_time": "2020-03-02T11:40:14.220280Z"
    }
   },
   "outputs": [],
   "source": [
    "# test\n",
    "# currently not available"
   ]
  },
  {
   "cell_type": "markdown",
   "metadata": {},
   "source": [
    "## 100 [Same Tree](https://leetcode.com/problems/same-tree/submissions/) - E "
   ]
  },
  {
   "cell_type": "markdown",
   "metadata": {},
   "source": [
    "### Recursion "
   ]
  },
  {
   "cell_type": "markdown",
   "metadata": {},
   "source": [
    "* Runtime: 40 ms, faster than 9.74% of Python3 online submissions for Same Tree.\n",
    "* Memory Usage: 12.7 MB, less than 100.00% of Python3 online submissions for Same Tree. "
   ]
  },
  {
   "cell_type": "code",
   "execution_count": null,
   "metadata": {
    "ExecuteTime": {
     "end_time": "2020-03-02T12:02:10.003115Z",
     "start_time": "2020-03-02T12:02:09.998097Z"
    }
   },
   "outputs": [],
   "source": [
    "class Solution:\n",
    "    def isSameTree(self, p: TreeNode, q: TreeNode) -> bool:\n",
    "        '''Check whether the two trees are identical recursively.'''\n",
    "        if not p and not q:\n",
    "            return True\n",
    "        elif not p or not q:\n",
    "            return False\n",
    "        elif p.val != q.val:\n",
    "            return False\n",
    "        else:\n",
    "            return self.isSameTree(p.left, q.left) and self.isSameTree(p.right, q.right)"
   ]
  },
  {
   "cell_type": "code",
   "execution_count": null,
   "metadata": {
    "ExecuteTime": {
     "end_time": "2020-03-02T12:05:39.847661Z",
     "start_time": "2020-03-02T12:05:39.844663Z"
    }
   },
   "outputs": [],
   "source": [
    "# test\n",
    "eq(Solution().isSameTree(string_to_tree_node('[1,2,3]'), \n",
    "                         string_to_tree_node('[1,2,3]')), True)"
   ]
  },
  {
   "cell_type": "markdown",
   "metadata": {},
   "source": [
    "### Iteration "
   ]
  },
  {
   "cell_type": "markdown",
   "metadata": {},
   "source": [
    "* Runtime: 28 ms, faster than 69.74% of Python3 online submissions for Same Tree.\n",
    "* Memory Usage: 12.9 MB, less than 100.00% of Python3 online submissions for Same Tree."
   ]
  },
  {
   "cell_type": "code",
   "execution_count": null,
   "metadata": {
    "ExecuteTime": {
     "end_time": "2020-03-02T12:17:24.802840Z",
     "start_time": "2020-03-02T12:17:24.796841Z"
    }
   },
   "outputs": [],
   "source": [
    "class Solution:\n",
    "    def isSameTree(self, p: TreeNode, q: TreeNode) -> bool:\n",
    "        '''Check whether the two trees are identical iteratively.'''\n",
    "        pstack = [p]\n",
    "        qstack = [q]\n",
    "        while pstack and qstack:\n",
    "            p = pstack.pop()\n",
    "            q = qstack.pop()\n",
    "            if not p and not q:\n",
    "                continue\n",
    "            elif not p or not q:\n",
    "                return False\n",
    "            elif p.val != q.val:\n",
    "                return False\n",
    "            pstack.append(p.right)\n",
    "            pstack.append(p.left)\n",
    "            qstack.append(q.right)\n",
    "            qstack.append(q.left)\n",
    "        return not pstack and not qstack "
   ]
  },
  {
   "cell_type": "code",
   "execution_count": null,
   "metadata": {
    "ExecuteTime": {
     "end_time": "2020-03-02T12:17:40.960468Z",
     "start_time": "2020-03-02T12:17:40.957468Z"
    }
   },
   "outputs": [],
   "source": [
    "# test\n",
    "eq(Solution().isSameTree(string_to_tree_node('[1,2,3]'), \n",
    "                         string_to_tree_node('[1,2,3]')), True)\n",
    "eq(Solution().isSameTree(string_to_tree_node('[1,2]'), \n",
    "                         string_to_tree_node('[1,null,2]')), False)"
   ]
  },
  {
   "cell_type": "markdown",
   "metadata": {},
   "source": [
    "## 543 [Diameter of Binary Tree](https://leetcode.com/problems/diameter-of-binary-tree/submissions/) - E "
   ]
  },
  {
   "cell_type": "markdown",
   "metadata": {},
   "source": [
    "### DFS / use both children, return one"
   ]
  },
  {
   "cell_type": "markdown",
   "metadata": {},
   "source": [
    "* Runtime: 44 ms, faster than 66.15% of Python3 online submissions for Diameter of Binary Tree.\n",
    "* Memory Usage: 15.7 MB, less than 58.62% of Python3 online submissions for Diameter of Binary Tree."
   ]
  },
  {
   "cell_type": "code",
   "execution_count": null,
   "metadata": {},
   "outputs": [],
   "source": [
    "class Solution:\n",
    "    def diameterOfBinaryTree(self, root: TreeNode) -> int:\n",
    "        '''Solved by DFS.'''\n",
    "        self.ans = 1\n",
    "        def depth(node: TreeNode) -> int:\n",
    "            if not node:\n",
    "                return 0\n",
    "            L = depth(node.left)\n",
    "            R = depth(node.right)\n",
    "            self.ans = max(self.ans, L+R+1)\n",
    "            return max(L, R) + 1\n",
    "        \n",
    "        depth(root)\n",
    "        return self.ans - 1"
   ]
  },
  {
   "cell_type": "markdown",
   "metadata": {},
   "source": [
    "## 222 [Count Complete Tree Nodes](https://leetcode.com/problems/count-complete-tree-nodes/) - M"
   ]
  },
  {
   "cell_type": "markdown",
   "metadata": {},
   "source": [
    "### Recursion"
   ]
  },
  {
   "cell_type": "markdown",
   "metadata": {},
   "source": [
    "* Runtime: 72 ms, faster than 93.24% of Python3 online submissions for Count Complete Tree Nodes.\n",
    "* Memory Usage: 20.2 MB, less than 100.00% of Python3 online submissions for Count Complete Tree Nodes."
   ]
  },
  {
   "cell_type": "code",
   "execution_count": null,
   "metadata": {},
   "outputs": [],
   "source": [
    "class Solution:\n",
    "    def _countLevel(self, root: TreeNode) -> int:\n",
    "        '''Count level of a complete binary tree.'''\n",
    "        ans = 0\n",
    "        while root:\n",
    "            root = root.left\n",
    "            ans += 1\n",
    "        return ans\n",
    "        \n",
    "    def countNodes(self, root: TreeNode) -> int:\n",
    "        '''Count complete tree nodes by recursion.'''\n",
    "        if not root:\n",
    "            return 0\n",
    "        full_tree_nodes = lambda level : 2 ** level - 1\n",
    "        level_left = self._countLevel(root.left)\n",
    "        level_right = self._countLevel(root.right)\n",
    "        # left tree is complete and full\n",
    "        if level_left == level_right:\n",
    "            return 1 + full_tree_nodes(level_left) + self.countNodes(root.right)\n",
    "        # right tree is complete and full\n",
    "        else:\n",
    "            return 1 + full_tree_nodes(level_right) + self.countNodes(root.left)"
   ]
  },
  {
   "cell_type": "code",
   "execution_count": null,
   "metadata": {},
   "outputs": [],
   "source": [
    "# test\n",
    "eq(Solution().countNodes(string_to_tree_node('[1,2,3,4,5,6]')), 6)\n",
    "eq(Solution().countNodes(string_to_tree_node('[1,2,3,4,5,6,7,8]')), 8)"
   ]
  }
 ],
 "metadata": {
  "kernelspec": {
   "display_name": "Python 3",
   "language": "python",
   "name": "python3"
  },
  "language_info": {
   "codemirror_mode": {
    "name": "ipython",
    "version": 3
   },
   "file_extension": ".py",
   "mimetype": "text/x-python",
   "name": "python",
   "nbconvert_exporter": "python",
   "pygments_lexer": "ipython3",
   "version": "3.6.9"
  },
  "toc": {
   "base_numbering": 1,
   "nav_menu": {},
   "number_sections": false,
   "sideBar": true,
   "skip_h1_title": true,
   "title_cell": "Table of Contents",
   "title_sidebar": "Contents",
   "toc_cell": false,
   "toc_position": {
    "height": "calc(100% - 180px)",
    "left": "10px",
    "top": "150px",
    "width": "255.594px"
   },
   "toc_section_display": true,
   "toc_window_display": true
  }
 },
 "nbformat": 4,
 "nbformat_minor": 4
}