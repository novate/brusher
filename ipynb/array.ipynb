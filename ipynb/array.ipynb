{
 "cells": [
  {
   "cell_type": "markdown",
   "metadata": {},
   "source": [
    "# Array "
   ]
  },
  {
   "cell_type": "markdown",
   "metadata": {},
   "source": [
    "* [Leetcode刷题总结之滑动窗口法（尺取法）](https://zhuanlan.zhihu.com/p/61564531)\n",
    "* We can use prefixSum or Sliding Window to solve sub-array problems."
   ]
  },
  {
   "cell_type": "markdown",
   "metadata": {},
   "source": [
    "##  Pre-run"
   ]
  },
  {
   "cell_type": "code",
   "execution_count": null,
   "metadata": {
    "ExecuteTime": {
     "end_time": "2020-02-26T04:30:38.342476Z",
     "start_time": "2020-02-26T04:30:38.311326Z"
    }
   },
   "outputs": [],
   "source": [
    "from typing import List\n",
    "from helpers.misc import *"
   ]
  },
  {
   "cell_type": "markdown",
   "metadata": {},
   "source": [
    "## Algorithms "
   ]
  },
  {
   "cell_type": "markdown",
   "metadata": {},
   "source": [
    "### Quicksort "
   ]
  },
  {
   "cell_type": "code",
   "execution_count": null,
   "metadata": {},
   "outputs": [],
   "source": [
    "class Sort:\n",
    "    def quick_sort(self, nums: List[int]) -> List[int]:\n",
    "        '''Do quicksort for nums with last element as pivot.'''\n",
    "        N = len(nums)\n",
    "        if N <= 1:\n",
    "            return nums\n",
    "        # pivot is -1.\n",
    "        l, r = 0, N-2\n",
    "        while True:\n",
    "            while l < N-1 and nums[l] <= nums[-1]:\n",
    "                l += 1\n",
    "            if l == N-1:\n",
    "                return self.quick_sort(nums[:-1]) + [nums[-1]]\n",
    "            while r > l and nums[r] >= nums[-1]:\n",
    "                r -= 1\n",
    "            if l == r:\n",
    "                nums[l], nums[-1] = nums[-1], nums[l]\n",
    "                return self.quick_sort(nums[:l]) + [nums[l]] + self.quick_sort(nums[l+1:])\n",
    "            else:\n",
    "                nums[l], nums[r] = nums[r], nums[l]"
   ]
  },
  {
   "cell_type": "code",
   "execution_count": null,
   "metadata": {},
   "outputs": [],
   "source": [
    "# test\n",
    "eq(Sort().quick_sort([3,5,8,1,2,9,4,7,6]), sorted([3,5,8,1,2,9,4,7,6]))\n",
    "eq(Sort().quick_sort([3,3,1,2,3,2,1,2]), sorted([3,3,1,2,3,2,1,2]))"
   ]
  },
  {
   "cell_type": "markdown",
   "metadata": {},
   "source": [
    "##  438 [Find All Anagrams in a String](https://leetcode.com/problems/find-all-anagrams-in-a-string/) - M"
   ]
  },
  {
   "cell_type": "markdown",
   "metadata": {},
   "source": [
    "### Sliding Window"
   ]
  },
  {
   "cell_type": "markdown",
   "metadata": {},
   "source": [
    "* Runtime: 108 ms, faster than 80.33% of Python3 online submissions for Find All Anagrams in a String.\n",
    "* Memory Usage: 13.9 MB, less than 95.65% of Python3 online submissions for Find All Anagrams in a String."
   ]
  },
  {
   "cell_type": "code",
   "execution_count": null,
   "metadata": {
    "ExecuteTime": {
     "end_time": "2020-02-21T05:07:57.085479Z",
     "start_time": "2020-02-21T05:07:57.077474Z"
    }
   },
   "outputs": [],
   "source": [
    "from collections import defaultdict\n",
    "class Solution:\n",
    "    def findAnagrams(self, s: str, p: str) -> List[int]:\n",
    "        '''Find all the start indices of p's anagrams in s.'''\n",
    "        ds = defaultdict(int)     # dict of sliding window\n",
    "        dp = defaultdict(int)     # dict of p\n",
    "        lp = len(p)\n",
    "        ans = []\n",
    "        for i, ch in enumerate(s):\n",
    "            ds[ch] += 1\n",
    "            if i < lp:\n",
    "                dp[p[i]] += 1\n",
    "            else:\n",
    "                if ds[s[i-lp]] == 1:\n",
    "                    del(ds[s[i-lp]])\n",
    "                else:\n",
    "                    ds[s[i-lp]] -= 1\n",
    "            if i >= lp-1 and ds == dp:\n",
    "                ans.append(i-lp+1)\n",
    "        return ans"
   ]
  },
  {
   "cell_type": "code",
   "execution_count": null,
   "metadata": {
    "ExecuteTime": {
     "end_time": "2020-02-21T05:07:57.092478Z",
     "start_time": "2020-02-21T05:07:57.087477Z"
    }
   },
   "outputs": [],
   "source": [
    "# test\n",
    "eq(Solution().findAnagrams(\"cbaebabacd\", \"abc\"), [0, 6])\n",
    "eq(Solution().findAnagrams(\"abab\", \"ab\"), [0, 1, 2])"
   ]
  },
  {
   "cell_type": "markdown",
   "metadata": {},
   "source": [
    "## 239 [Sliding Window Maximum](https://leetcode.com/problems/sliding-window-maximum/) - H"
   ]
  },
  {
   "cell_type": "markdown",
   "metadata": {},
   "source": [
    "* [Solution 1](https://blog.csdn.net/summer2day/article/details/89853737)\n",
    "* [Solution 2](https://zxi.mytechroad.com/blog/heap/leetcode-239-sliding-window-maximum/)\n",
    "* Monotonic Queue"
   ]
  },
  {
   "cell_type": "markdown",
   "metadata": {},
   "source": [
    "### Monotonic Queue"
   ]
  },
  {
   "cell_type": "markdown",
   "metadata": {},
   "source": [
    "* Runtime: 192 ms, faster than 38.78% of Python3 online submissions for Sliding Window Maximum.\n",
    "* Memory Usage: 19.4 MB, less than 92.31% of Python3 online submissions for Sliding Window Maximum."
   ]
  },
  {
   "cell_type": "code",
   "execution_count": null,
   "metadata": {
    "ExecuteTime": {
     "end_time": "2020-02-21T05:07:57.102473Z",
     "start_time": "2020-02-21T05:07:57.094476Z"
    }
   },
   "outputs": [],
   "source": [
    "from collections import deque\n",
    "class MonotonicQueue:\n",
    "    def __init__(self):\n",
    "        '''Init the monotonic queue as a deque.'''\n",
    "        self._q = deque()\n",
    "    \n",
    "    def append(self, e: int):\n",
    "        '''Append an element e into the monotonic queue to keep the queue monotonically decreasing.'''\n",
    "        while self._q and e > self._q[-1]:\n",
    "            self._q.pop()\n",
    "        self._q.append(e)\n",
    "    \n",
    "    def pop(self) -> int:\n",
    "        '''Pop an element out from the left.'''\n",
    "        self._q.popleft()\n",
    "        \n",
    "    def max(self) -> int:\n",
    "        '''Get the maximum number of the monotonic queue from the top.'''\n",
    "        return self._q[0]\n",
    "        \n",
    "class Solution:\n",
    "    def maxSlidingWindow(self, nums: List[int], k: int) -> List[int]:\n",
    "        '''Solve sliding window maximum by monotonic queue in linear time.'''\n",
    "        mq = MonotonicQueue()\n",
    "        ans = []\n",
    "        for i, num in enumerate(nums):\n",
    "            mq.append(num)\n",
    "            # CAUTION!!!\n",
    "            if i >= k-1:\n",
    "                if i >= k and mq.max() == nums[i-k]:\n",
    "                    mq.pop()\n",
    "                ans.append(mq.max())\n",
    "        return ans"
   ]
  },
  {
   "cell_type": "code",
   "execution_count": null,
   "metadata": {
    "ExecuteTime": {
     "end_time": "2020-02-21T05:07:57.110472Z",
     "start_time": "2020-02-21T05:07:57.104473Z"
    }
   },
   "outputs": [],
   "source": [
    "# test\n",
    "eq(Solution().maxSlidingWindow([1,3,-1,-3,5,3,6,7], 3), [3, 3, 5, 5, 6, 7])"
   ]
  },
  {
   "cell_type": "markdown",
   "metadata": {},
   "source": [
    "## 209 [Minimum Size Subarray Sum](https://leetcode.com/problems/minimum-size-subarray-sum) - M"
   ]
  },
  {
   "cell_type": "markdown",
   "metadata": {},
   "source": [
    "### Sliding Window"
   ]
  },
  {
   "cell_type": "markdown",
   "metadata": {},
   "source": [
    "* Runtime: 76 ms, faster than 70.47% of Python3 online submissions for Minimum Size Subarray Sum.\n",
    "* Memory Usage: 15.1 MB, less than 7.69% of Python3 online submissions for Minimum Size Subarray Sum."
   ]
  },
  {
   "cell_type": "code",
   "execution_count": null,
   "metadata": {
    "ExecuteTime": {
     "end_time": "2020-02-21T05:07:57.120475Z",
     "start_time": "2020-02-21T05:07:57.112473Z"
    }
   },
   "outputs": [],
   "source": [
    "class Solution:\n",
    "    def minSubArrayLen(self, s: int, nums: List[int]) -> int:\n",
    "        '''Find the minimal length of a contiguous subarray of which the sum >= s or return 0 if not found.'''\n",
    "        hi, lo = 0, 0\n",
    "        sum = 0\n",
    "        ans = len(nums)+1\n",
    "        while lo < len(nums):\n",
    "            # lo can move forward if sum not less than 0.\n",
    "            if sum >= s:\n",
    "                ans = min(hi-lo, ans)\n",
    "                sum -= nums[lo]\n",
    "                lo += 1\n",
    "            # hi not point to the end, thus can move forward.\n",
    "            elif hi < len(nums):\n",
    "                sum += nums[hi]\n",
    "                hi += 1\n",
    "            # hi points to the end, lo cannot move forward.\n",
    "            else:\n",
    "                break\n",
    "        # not found\n",
    "        if ans == len(nums)+1:\n",
    "            return 0\n",
    "        else:\n",
    "            return ans"
   ]
  },
  {
   "cell_type": "code",
   "execution_count": null,
   "metadata": {
    "ExecuteTime": {
     "end_time": "2020-02-21T05:07:57.129478Z",
     "start_time": "2020-02-21T05:07:57.123476Z"
    }
   },
   "outputs": [],
   "source": [
    "# test\n",
    "eq(Solution().minSubArrayLen(7, [2,3,1,2,4,3]), 2)\n",
    "eq(Solution().minSubArrayLen(20, [2,3,1,2,4,3]), 0)\n",
    "eq(Solution().minSubArrayLen(15, [2,3,1,2,4,3]), 6)"
   ]
  },
  {
   "cell_type": "markdown",
   "metadata": {},
   "source": [
    "## 3 [Longest Substring Without Repeating Characters](https://leetcode.com/problems/longest-substring-without-repeating-characters) - M"
   ]
  },
  {
   "cell_type": "markdown",
   "metadata": {},
   "source": [
    "### Sliding Window"
   ]
  },
  {
   "cell_type": "markdown",
   "metadata": {},
   "source": [
    "* Runtime: 88 ms, faster than 30.93% of Python3 online submissions for Longest Substring Without Repeating Characters.\n",
    "* Memory Usage: 12.9 MB, less than 100.00% of Python3 online submissions for Longest Substring Without Repeating Characters."
   ]
  },
  {
   "cell_type": "code",
   "execution_count": null,
   "metadata": {
    "ExecuteTime": {
     "end_time": "2020-02-21T05:07:57.139477Z",
     "start_time": "2020-02-21T05:07:57.131476Z"
    }
   },
   "outputs": [],
   "source": [
    "class Solution:\n",
    "    def lengthOfLongestSubstring(self, s: str) -> int:\n",
    "        '''Find the length of the longest substring without repeating characters by sliding window.'''\n",
    "        ans = 0\n",
    "        hi, lo = 0, 0\n",
    "        while lo < len(s):\n",
    "            while hi < len(s) and s[hi] not in s[lo:hi]:\n",
    "                hi += 1\n",
    "            # now hi == len(s) or s[hi] in s[lo:hi]\n",
    "            ans = max(ans, hi-lo)\n",
    "            if hi == len(s):\n",
    "                break\n",
    "            else:\n",
    "                while lo < len(s) and s[hi] in s[lo:hi]:\n",
    "                    lo += 1\n",
    "        return ans"
   ]
  },
  {
   "cell_type": "code",
   "execution_count": null,
   "metadata": {
    "ExecuteTime": {
     "end_time": "2020-02-21T05:07:57.147475Z",
     "start_time": "2020-02-21T05:07:57.141474Z"
    }
   },
   "outputs": [],
   "source": [
    "# test\n",
    "eq(Solution().lengthOfLongestSubstring(\"abcabcbb\"), 3)\n",
    "eq(Solution().lengthOfLongestSubstring(\"bbbbb\"), 1)\n",
    "eq(Solution().lengthOfLongestSubstring(\"pwwkew\"), 3)\n",
    "eq(Solution().lengthOfLongestSubstring(\"abcdef\"), 6)\n",
    "eq(Solution().lengthOfLongestSubstring(\"\"), 0)"
   ]
  },
  {
   "cell_type": "markdown",
   "metadata": {},
   "source": [
    "## 485 [Max Consecutive Ones](https://leetcode.com/problems/max-consecutive-ones/) - M"
   ]
  },
  {
   "cell_type": "markdown",
   "metadata": {},
   "source": [
    "### One Pass Traverse"
   ]
  },
  {
   "cell_type": "markdown",
   "metadata": {},
   "source": [
    "* Runtime: 364 ms, faster than 93.85% of Python3 online submissions for Max Consecutive Ones.\n",
    "* Memory Usage: 12.8 MB, less than 100.00% of Python3 online submissions for Max Consecutive Ones."
   ]
  },
  {
   "cell_type": "code",
   "execution_count": null,
   "metadata": {
    "ExecuteTime": {
     "end_time": "2020-02-21T08:57:42.711646Z",
     "start_time": "2020-02-21T08:57:42.706649Z"
    }
   },
   "outputs": [],
   "source": [
    "class Solution:\n",
    "    def findMaxConsecutiveOnes(self, nums: List[int]) -> int:\n",
    "        '''Find the maximum number of consecutive 1s in this array.'''\n",
    "        ans = 0     # final answer\n",
    "        cnt = 0     # partial counter\n",
    "        for num in nums:\n",
    "            if num == 1:\n",
    "                cnt += 1\n",
    "            else:\n",
    "                ans = max(cnt, ans)\n",
    "                cnt = 0\n",
    "        ans = max(cnt, ans)\n",
    "        return ans"
   ]
  },
  {
   "cell_type": "code",
   "execution_count": null,
   "metadata": {
    "ExecuteTime": {
     "end_time": "2020-02-21T08:58:46.282593Z",
     "start_time": "2020-02-21T08:58:46.276597Z"
    }
   },
   "outputs": [],
   "source": [
    "eq(Solution().findMaxConsecutiveOnes([1,1,0,1,1,1]), 3)\n",
    "eq(Solution().findMaxConsecutiveOnes([1,1,0,0,1,1]), 2)\n",
    "eq(Solution().findMaxConsecutiveOnes([1,1,0,0,0,1]), 2)\n",
    "eq(Solution().findMaxConsecutiveOnes([0,0,0,0,0,0]), 0)\n",
    "eq(Solution().findMaxConsecutiveOnes([0,0,1,0,0,0]), 1)"
   ]
  },
  {
   "cell_type": "markdown",
   "metadata": {},
   "source": [
    "## 1004 [Max Consecutive Ones III](https://leetcode.com/problems/max-consecutive-ones-iii) - E"
   ]
  },
  {
   "cell_type": "markdown",
   "metadata": {},
   "source": [
    "### Sliding Window "
   ]
  },
  {
   "cell_type": "markdown",
   "metadata": {},
   "source": [
    "* Runtime: 692 ms, faster than 55.62% of Python3 online submissions for Max Consecutive Ones III.\n",
    "* Memory Usage: 13 MB, less than 100.00% of Python3 online submissions for Max Consecutive Ones III."
   ]
  },
  {
   "cell_type": "code",
   "execution_count": null,
   "metadata": {
    "ExecuteTime": {
     "end_time": "2020-02-21T05:07:57.156476Z",
     "start_time": "2020-02-21T05:07:57.149476Z"
    }
   },
   "outputs": [],
   "source": [
    "class Solution:\n",
    "    def longestOnes(self, A: List[int], K: int) -> int:\n",
    "        '''Return the length of the longest contiguous subarray that contains only 1s by sliding window.'''\n",
    "        hi, lo = 0, 0\n",
    "        ans = 0\n",
    "        while lo < len(A):\n",
    "            while hi < len(A) and (A[hi] == 1 or K > 0):\n",
    "                if A[hi] == 0:\n",
    "                    K -= 1\n",
    "                hi += 1\n",
    "            # now hi == len(A) or K <= 0\n",
    "            ans = max(ans, hi-lo)\n",
    "            if hi == len(A):\n",
    "                break\n",
    "            else:\n",
    "                while lo < len(A) and K <= 0:\n",
    "                    if A[lo] == 0:\n",
    "                        K += 1\n",
    "                    lo += 1\n",
    "        return ans"
   ]
  },
  {
   "cell_type": "code",
   "execution_count": null,
   "metadata": {
    "ExecuteTime": {
     "end_time": "2020-02-21T05:07:57.164486Z",
     "start_time": "2020-02-21T05:07:57.158473Z"
    }
   },
   "outputs": [],
   "source": [
    "# test\n",
    "eq(Solution().longestOnes([1,1,1,0,0,0,1,1,1,1,0], 2), 6)\n",
    "eq(Solution().longestOnes([0,0,1,1,0,0,1,1,1,0,1,1,0,0,0,1,1,1,1], 3), 10)\n",
    "eq(Solution().longestOnes([0,0,0,1], 4), 4)"
   ]
  },
  {
   "cell_type": "markdown",
   "metadata": {},
   "source": [
    "## 11 [Container With Most Water](https://leetcode.com/problems/container-with-most-water/) - M"
   ]
  },
  {
   "cell_type": "markdown",
   "metadata": {},
   "source": [
    "### Two Pointers "
   ]
  },
  {
   "cell_type": "markdown",
   "metadata": {},
   "source": [
    "* Runtime: 124 ms, faster than 89.46% of Python3 online submissions for Container With Most Water.\n",
    "* Memory Usage: 14.6 MB, less than 13.68% of Python3 online submissions for Container With Most Water."
   ]
  },
  {
   "cell_type": "code",
   "execution_count": null,
   "metadata": {
    "ExecuteTime": {
     "end_time": "2020-02-24T08:29:35.216278Z",
     "start_time": "2020-02-24T08:29:35.210271Z"
    }
   },
   "outputs": [],
   "source": [
    "class Solution:\n",
    "    def maxArea(self, height: List[int]) -> int:\n",
    "        '''Find the max area using two pointers shrink'''\n",
    "        lo, hi = 0, len(height) - 1\n",
    "        result = 0\n",
    "        while lo < hi:\n",
    "            if height[lo] < height[hi]:\n",
    "                result = max(result, height[lo] * (hi-lo))\n",
    "                lo += 1\n",
    "            else:\n",
    "                result = max(result, height[hi] * (hi-lo))\n",
    "                hi -= 1\n",
    "        return result"
   ]
  },
  {
   "cell_type": "code",
   "execution_count": null,
   "metadata": {
    "ExecuteTime": {
     "end_time": "2020-02-24T08:29:36.813973Z",
     "start_time": "2020-02-24T08:29:36.810970Z"
    }
   },
   "outputs": [],
   "source": [
    "# test\n",
    "eq(Solution().maxArea([1,8,6,2,5,4,8,3,7]), 49)"
   ]
  },
  {
   "cell_type": "markdown",
   "metadata": {},
   "source": [
    "## 42 [Trapping Rain Water](https://leetcode.com/problems/trapping-rain-water/submissions/) - M - ByteDance"
   ]
  },
  {
   "cell_type": "markdown",
   "metadata": {},
   "source": [
    "### Two Pointers "
   ]
  },
  {
   "cell_type": "markdown",
   "metadata": {},
   "source": [
    "* Runtime: 48 ms, faster than 85.57% of Python3 online submissions for Trapping Rain Water.\n",
    "* Memory Usage: 13.2 MB, less than 100.00% of Python3 online submissions for Trapping Rain Water. "
   ]
  },
  {
   "cell_type": "code",
   "execution_count": null,
   "metadata": {
    "ExecuteTime": {
     "end_time": "2020-02-23T09:45:57.913990Z",
     "start_time": "2020-02-23T09:45:57.907990Z"
    }
   },
   "outputs": [],
   "source": [
    "class Solution:\n",
    "    def trap(self, height: List[int]) -> int:\n",
    "        l = len(height)\n",
    "        lo, hi = 0, 0\n",
    "        water = 0\n",
    "        while lo < l:\n",
    "            while lo < l and height[lo] == 0:\n",
    "                lo += 1\n",
    "            hi = lo+1\n",
    "            gully = 0\n",
    "            while hi < l-1 and height[hi] < height[lo]:\n",
    "                gully += height[lo] - height[hi]\n",
    "                hi += 1\n",
    "            # hi == l-1 or height[hi] >= height[lo]\n",
    "            # CAUTION: this is the hardest part!\n",
    "            # the water cannot be in the gully in this scenario \n",
    "            if hi == l-1 and height[hi] < height[lo]:\n",
    "                height = height[:lo] + height[lo:][::-1]\n",
    "            else:\n",
    "                water += gully\n",
    "                lo = hi\n",
    "        return water"
   ]
  },
  {
   "cell_type": "code",
   "execution_count": null,
   "metadata": {
    "ExecuteTime": {
     "end_time": "2020-02-23T09:45:59.513753Z",
     "start_time": "2020-02-23T09:45:59.506757Z"
    }
   },
   "outputs": [],
   "source": [
    "# test\n",
    "eq(Solution().trap([0,1,0,2,1,0,1,3,2,1,2,1]), 6)\n",
    "eq(Solution().trap([0,1,0,2,1,0,1,3,2,1,1,2]), 7)\n",
    "eq(Solution().trap([2,1,0,2,1,0,1,3,2,1,2,1]), 8)\n",
    "eq(Solution().trap([4,2,3]), 1)"
   ]
  },
  {
   "cell_type": "markdown",
   "metadata": {},
   "source": [
    "## 5 [Longest Palindromic Substring](https://leetcode.com/problems/longest-palindromic-substring/) - M "
   ]
  },
  {
   "cell_type": "markdown",
   "metadata": {},
   "source": [
    "### Two Pointers Expansion"
   ]
  },
  {
   "cell_type": "markdown",
   "metadata": {},
   "source": [
    "* Runtime: 928 ms, faster than 84.92% of Python3 online submissions for Longest Palindromic Substring.\n",
    "* Memory Usage: 12.8 MB, less than 100.00% of Python3 online submissions for Longest Palindromic Substring."
   ]
  },
  {
   "cell_type": "code",
   "execution_count": null,
   "metadata": {
    "ExecuteTime": {
     "end_time": "2020-02-24T08:09:04.835824Z",
     "start_time": "2020-02-24T08:09:04.826829Z"
    }
   },
   "outputs": [],
   "source": [
    "class Solution:\n",
    "    def longestPalindrome(self, s: str) -> str:\n",
    "        '''Find the longest palindrome by two pointers expansion.\n",
    "        \n",
    "        TC: O(n ^ 2)\n",
    "        SC: O(1)\n",
    "        '''\n",
    "        ans = ''\n",
    "        for i in range(len(s)):\n",
    "            len1 = self.length_of_palindrome(s, i, i)\n",
    "            len2 = self.length_of_palindrome(s, i, i+1)\n",
    "            if len1 > len2 and len1 > len(ans):\n",
    "                half = len1 // 2\n",
    "                ans = s[i-half:i+half+1]\n",
    "            elif len2 > len1 and len2 > len(ans):\n",
    "                half = len2 // 2\n",
    "                ans = s[i-half+1:i+half+1]\n",
    "        return ans\n",
    "        \n",
    "    def length_of_palindrome(self, s: str, l: int, r: int) -> int:\n",
    "        '''Check the length of longest palindrome from s[l:r], return the length of the longest found palindrome.'''\n",
    "        if l > r or l < 0 or r >= len(s):\n",
    "            return 0\n",
    "        while l >= 0 and r < len(s):\n",
    "            if s[l] == s[r]:\n",
    "                l = l - 1\n",
    "                r = r + 1\n",
    "            else:\n",
    "                break\n",
    "        return r - l - 1"
   ]
  },
  {
   "cell_type": "code",
   "execution_count": null,
   "metadata": {
    "ExecuteTime": {
     "end_time": "2020-02-24T08:10:00.517378Z",
     "start_time": "2020-02-24T08:10:00.514376Z"
    }
   },
   "outputs": [],
   "source": [
    "# test\n",
    "eq(Solution().longestPalindrome(\"cbbcd\"), \"cbbc\")\n",
    "eq(Solution().longestPalindrome(\"racecar\"), \"racecar\")"
   ]
  },
  {
   "cell_type": "markdown",
   "metadata": {},
   "source": [
    "## 413 [Arithmetic Slices](https://leetcode.com/problems/arithmetic-slices/) - M "
   ]
  },
  {
   "cell_type": "markdown",
   "metadata": {},
   "source": [
    "### Two Pointers "
   ]
  },
  {
   "cell_type": "markdown",
   "metadata": {},
   "source": [
    "* Runtime: 32 ms, faster than 87.48% of Python3 online submissions for Arithmetic Slices.\n",
    "* Memory Usage: 12.8 MB, less than 100.00% of Python3 online submissions for Arithmetic Slices. "
   ]
  },
  {
   "cell_type": "code",
   "execution_count": null,
   "metadata": {
    "ExecuteTime": {
     "end_time": "2020-02-24T10:29:20.127358Z",
     "start_time": "2020-02-24T10:29:20.122386Z"
    }
   },
   "outputs": [],
   "source": [
    "class Solution:\n",
    "    def numberOfArithmeticSlices(self, A: List[int]) -> int:\n",
    "        '''Count arithmetic slices by two pointers.'''\n",
    "        count = 0\n",
    "        lo = 0\n",
    "        while lo < len(A)-2:\n",
    "            hi = lo + 2\n",
    "            while hi < len(A):\n",
    "                if A[hi] - A[hi-1] == A[hi-1] - A[hi-2]:\n",
    "                    count += hi-lo-1\n",
    "                    hi += 1\n",
    "                else:\n",
    "                    break\n",
    "            if hi-lo > 2:\n",
    "                lo = hi\n",
    "            else:\n",
    "                lo += 1\n",
    "        return count"
   ]
  },
  {
   "cell_type": "code",
   "execution_count": null,
   "metadata": {
    "ExecuteTime": {
     "end_time": "2020-02-24T10:29:21.999009Z",
     "start_time": "2020-02-24T10:29:21.994439Z"
    }
   },
   "outputs": [],
   "source": [
    "# test\n",
    "eq(Solution().numberOfArithmeticSlices([1,2,3,4]), 3)\n",
    "eq(Solution().numberOfArithmeticSlices([1,2]), 0)\n",
    "eq(Solution().numberOfArithmeticSlices([1,2,3,4,5,6,8,9,10,11,13]), 13)"
   ]
  },
  {
   "cell_type": "markdown",
   "metadata": {},
   "source": [
    "## 446 [Arithmetic Slices II - Subsequence](https://leetcode.com/problems/arithmetic-slices-ii-subsequence/) - H "
   ]
  },
  {
   "cell_type": "markdown",
   "metadata": {},
   "source": [
    "### DP Bottom Up "
   ]
  },
  {
   "cell_type": "markdown",
   "metadata": {},
   "source": [
    "* **TRICK**: searching hash for slice with possible duplicate elements can be done with {key:List[int]}.\n",
    "* Runtime: 288 ms, faster than 98.82% of Python3 online submissions for Arithmetic Slices II - Subsequence.\n",
    "* Memory Usage: 13 MB, less than 100.00% of Python3 online submissions for Arithmetic Slices II - Subsequence."
   ]
  },
  {
   "cell_type": "code",
   "execution_count": null,
   "metadata": {
    "ExecuteTime": {
     "end_time": "2020-02-26T04:34:30.102485Z",
     "start_time": "2020-02-26T04:34:30.095489Z"
    }
   },
   "outputs": [],
   "source": [
    "from collections import defaultdict\n",
    "class Solution:\n",
    "    def numberOfArithmeticSlices(self, A: List[int]) -> int:\n",
    "        '''Find all arithmetic subsequences by DP bottom up.'''\n",
    "        # dp[i, j] are all arithmetic subsequences ending with A[j], A[i]\n",
    "        ans = 0\n",
    "        dp = defaultdict(int)\n",
    "        # TRICK: searching hash for slice with possible duplicate elements.\n",
    "        h = {}\n",
    "        for ii, num in enumerate(A):\n",
    "            if num not in h:\n",
    "                h[num] = [ii]\n",
    "            else:\n",
    "                h[num].append(ii)\n",
    "        \n",
    "        # CAUTION: i must be greater than j\n",
    "        for i in range(2, len(A)):\n",
    "            for j in range(i):\n",
    "                target = A[j] * 2 - A[i]\n",
    "                if target in h:\n",
    "                    for k in h[target]:\n",
    "                        if k < j:\n",
    "                            dp[i, j] += dp[j, k] + 1\n",
    "                    ans += dp[i, j]\n",
    "        return ans"
   ]
  },
  {
   "cell_type": "code",
   "execution_count": null,
   "metadata": {
    "ExecuteTime": {
     "end_time": "2020-02-26T04:34:34.149276Z",
     "start_time": "2020-02-26T04:34:34.144279Z"
    }
   },
   "outputs": [],
   "source": [
    "# test\n",
    "eq(Solution().numberOfArithmeticSlices([2,4,6,8,10]), 7)\n",
    "eq(Solution().numberOfArithmeticSlices([2,2,3,4]), 2)"
   ]
  },
  {
   "cell_type": "markdown",
   "metadata": {},
   "source": [
    "## 472 [Concatenated Words](https://leetcode.com/problems/concatenated-words/) - H "
   ]
  },
  {
   "cell_type": "markdown",
   "metadata": {},
   "source": [
    "### Two Pointers, Recursion "
   ]
  },
  {
   "cell_type": "markdown",
   "metadata": {},
   "source": [
    "* Runtime: 536 ms, faster than 53.15% of Python3 online submissions for Concatenated Words.\n",
    "* Memory Usage: 16.5 MB, less than 50.00% of Python3 online submissions for Concatenated Words."
   ]
  },
  {
   "cell_type": "code",
   "execution_count": null,
   "metadata": {
    "ExecuteTime": {
     "end_time": "2020-02-26T08:10:49.673286Z",
     "start_time": "2020-02-26T08:10:49.664313Z"
    }
   },
   "outputs": [],
   "source": [
    "class Solution:\n",
    "    def findAllConcatenatedWordsInADict(self, words: List[str]) -> List[str]:\n",
    "        '''Find all concatenates words using two pointers and recursion.'''\n",
    "        # CAUTION: must omit empty string\n",
    "        self.s = set(word for word in words if word)\n",
    "        self.lengths = sorted(list(set(len(w) for w in self.s)), reverse=True)\n",
    "        ans = []\n",
    "        for word in words:\n",
    "            if self._check_concat(word) == True:\n",
    "                ans.append(word)\n",
    "        return ans\n",
    "        \n",
    "    def _check_concat(self, word: str, count: int=0) -> bool:\n",
    "        '''Check whether a word is a concatenated word recursively.\n",
    "        \n",
    "        word:   word to be checked.\n",
    "        count:  substrings of the highest level word which is in the self.s hashset.\n",
    "        '''\n",
    "        if not word:\n",
    "            return True if count >= 2 else False\n",
    "        else:\n",
    "            for l in self.lengths:\n",
    "                if l <= len(word) and word[:l] in self.s:\n",
    "                    if self._check_concat(word[l:], count+1):\n",
    "                        return True\n",
    "            return False"
   ]
  },
  {
   "cell_type": "code",
   "execution_count": null,
   "metadata": {
    "ExecuteTime": {
     "end_time": "2020-02-26T08:10:51.658939Z",
     "start_time": "2020-02-26T08:10:51.654939Z"
    }
   },
   "outputs": [],
   "source": [
    "# test\n",
    "eq(set(Solution().findAllConcatenatedWordsInADict([\"cat\",\"cats\",\"catsdogcats\",\"dog\",\"dogcatsdog\",\"hippopotamuses\",\"rat\",\"ratcatdogcat\"])), set([\"catsdogcats\",\"dogcatsdog\",\"ratcatdogcat\"]))"
   ]
  },
  {
   "cell_type": "markdown",
   "metadata": {},
   "source": [
    "## 283 [Move Zeroes](https://leetcode.com/problems/move-zeroes/) - E "
   ]
  },
  {
   "cell_type": "markdown",
   "metadata": {},
   "source": [
    "### Two Pointers "
   ]
  },
  {
   "cell_type": "markdown",
   "metadata": {},
   "source": [
    "* Runtime: 404 ms, faster than 7.67% of Python3 online submissions for Move Zeroes.\n",
    "* Memory Usage: 15.1 MB, less than 5.97% of Python3 online submissions for Move Zeroes."
   ]
  },
  {
   "cell_type": "code",
   "execution_count": null,
   "metadata": {},
   "outputs": [],
   "source": [
    "class Solution:\n",
    "    def moveZeroes(self, nums: List[int]) -> None:\n",
    "        \"\"\"\n",
    "        Do not return anything, modify nums in-place instead.\n",
    "        \n",
    "        Solving this problem by two pointers\n",
    "        \"\"\"\n",
    "        N = len(nums)\n",
    "        if N < 2:\n",
    "            return nums\n",
    "        lo = 0\n",
    "        while lo < N-1:\n",
    "            if nums[lo] != 0:\n",
    "                lo += 1\n",
    "                continue\n",
    "            # nums[lo] == 0\n",
    "            hi = lo + 1\n",
    "            while hi < N and nums[hi] == 0:\n",
    "                hi += 1\n",
    "            if hi == N:\n",
    "                return\n",
    "            nums[lo], nums[hi] = nums[hi], nums[lo]\n",
    "            lo += 1"
   ]
  },
  {
   "cell_type": "markdown",
   "metadata": {},
   "source": [
    "### Better Two Pointers"
   ]
  },
  {
   "cell_type": "markdown",
   "metadata": {},
   "source": [
    "* Runtime: 40 ms, faster than 97.40% of Python3 online submissions for Move Zeroes.\n",
    "* Memory Usage: 15 MB, less than 5.97% of Python3 online submissions for Move Zeroes."
   ]
  },
  {
   "cell_type": "code",
   "execution_count": null,
   "metadata": {},
   "outputs": [],
   "source": [
    "class Solution:\n",
    "    def moveZeroes(self, nums: List[int]) -> None:\n",
    "        \"\"\"\n",
    "        Do not return anything, modify nums in-place instead.\n",
    "        \n",
    "        Solving this problem by two pointers\n",
    "        \"\"\"\n",
    "        N = len(nums)\n",
    "        last_non_zero_found_at = 0\n",
    "        for i in range(N):\n",
    "            if nums[i] != 0:\n",
    "                nums[last_non_zero_found_at], nums[i] = nums[i], nums[last_non_zero_found_at]\n",
    "                last_non_zero_found_at += 1"
   ]
  },
  {
   "cell_type": "code",
   "execution_count": null,
   "metadata": {},
   "outputs": [],
   "source": [
    "# test\n",
    "result = [1,0,0,3,12]\n",
    "Solution().moveZeroes(result)\n",
    "eq(result, [1,3,12,0,0])"
   ]
  },
  {
   "cell_type": "markdown",
   "metadata": {},
   "source": [
    "## 54 [Spiral Matrix](https://leetcode.com/problems/spiral-matrix/) - M"
   ]
  },
  {
   "cell_type": "markdown",
   "metadata": {},
   "source": [
    "* [Answer for Simulation and Layer-by-Layer](https://leetcode.com/articles/spiral-matrix/)"
   ]
  },
  {
   "cell_type": "markdown",
   "metadata": {},
   "source": [
    "### Recursion "
   ]
  },
  {
   "cell_type": "markdown",
   "metadata": {},
   "source": [
    "* Runtime: 24 ms, faster than 87.44% of Python3 online submissions for Spiral Matrix.\n",
    "* Memory Usage: 12.9 MB, less than 95.65% of Python3 online submissions for Spiral Matrix."
   ]
  },
  {
   "cell_type": "code",
   "execution_count": null,
   "metadata": {},
   "outputs": [],
   "source": [
    "class Solution:\n",
    "    def spiralOrder(self, matrix: List[List[int]]) -> List[int]:\n",
    "        M = len(matrix)\n",
    "        if M == 0:\n",
    "            return []\n",
    "        if M == 1:\n",
    "            return matrix[0]\n",
    "        N = len(matrix[0])\n",
    "        if N == 0:\n",
    "            return []\n",
    "        if N == 1:\n",
    "            return [a[0] for a in matrix]\n",
    "        return matrix[0] + [a[-1] for a in matrix[1:-1]] + matrix[-1][::-1] + [a[0] for a in matrix[-2:0:-1]] + self.spiralOrder([a[1:-1] for a in matrix[1:-1]])"
   ]
  },
  {
   "cell_type": "code",
   "execution_count": null,
   "metadata": {},
   "outputs": [],
   "source": [
    "# test\n",
    "eq(Solution().spiralOrder([[1,2,3],[4,5,6],[7,8,9]]), [1,2,3,6,9,8,7,4,5])\n",
    "eq(Solution().spiralOrder([[7],[9],[6]]), [7,9,6])\n",
    "eq(Solution().spiralOrder([[1,2,3,4],[5,6,7,8],[9,10,11,12],[13,14,15,16]]), [1,2,3,4,8,12,16,15,14,13,9,5,6,7,11,10])\n",
    "eq(Solution().spiralOrder([[1,11],[2,12],[3,13],[4,14],[5,15],[6,16],[7,17],[8,18],[9,19],[10,20]]), [1,11,12,13,14,15,16,17,18,19,20,10,9,8,7,6,5,4,3,2])"
   ]
  },
  {
   "cell_type": "markdown",
   "metadata": {},
   "source": [
    "## 41 [First Missing Positive](https://leetcode.com/problems/first-missing-positive) - H"
   ]
  },
  {
   "cell_type": "markdown",
   "metadata": {},
   "source": [
    "### One Pass Hashset"
   ]
  },
  {
   "cell_type": "markdown",
   "metadata": {},
   "source": [
    "* Runtime: 24 ms, faster than 99.03% of Python3 online submissions for First Missing Positive.\n",
    "* Memory Usage: 13 MB, less than 95.65% of Python3 online submissions for First Missing Positive."
   ]
  },
  {
   "cell_type": "code",
   "execution_count": null,
   "metadata": {},
   "outputs": [],
   "source": [
    "class Solution:\n",
    "    def firstMissingPositive(self, nums: List[int]) -> int:\n",
    "        '''Find the smallest missing positive by one pass hashset.'''\n",
    "        s = 1\n",
    "        h = set()\n",
    "        for num in nums:\n",
    "            if num > 0:\n",
    "                h.add(num)\n",
    "            while s in h:\n",
    "                s += 1\n",
    "        return s"
   ]
  },
  {
   "cell_type": "code",
   "execution_count": null,
   "metadata": {},
   "outputs": [],
   "source": [
    "# test\n",
    "eq(Solution().firstMissingPositive([1,2,0]), 3)\n",
    "eq(Solution().firstMissingPositive([3,4,-1,1]), 2)\n",
    "eq(Solution().firstMissingPositive([7,8,9,11,12]), 1)"
   ]
  },
  {
   "cell_type": "markdown",
   "metadata": {},
   "source": [
    "### O(1) Space "
   ]
  },
  {
   "cell_type": "markdown",
   "metadata": {},
   "source": [
    "* Runtime: 20 ms, faster than 99.79% of Python3 online submissions for First Missing Positive.\n",
    "* Memory Usage: 12.9 MB, less than 100.00% of Python3 online submissions for First Missing Positive."
   ]
  },
  {
   "cell_type": "code",
   "execution_count": null,
   "metadata": {},
   "outputs": [],
   "source": [
    "class Solution:\n",
    "    def firstMissingPositive(self, nums: List[int]) -> int:\n",
    "        '''Find the smallest missing positive in O(1) space.'''\n",
    "        for i, num in enumerate(nums):\n",
    "            # CAUTION: the last condition!\n",
    "            while nums[i] > 0 and nums[i] <= i+1 and nums[i] != nums[nums[i]-1]:\n",
    "                t= nums[i]\n",
    "                nums[i], nums[t-1] = nums[t-1], t\n",
    "        for i, num in enumerate(nums):\n",
    "            if num != i+1:\n",
    "                return i+1\n",
    "        return len(nums)+1"
   ]
  },
  {
   "cell_type": "code",
   "execution_count": null,
   "metadata": {},
   "outputs": [],
   "source": [
    "# test\n",
    "eq(Solution().firstMissingPositive([1,2,0]), 3)\n",
    "eq(Solution().firstMissingPositive([3,4,-1,1]), 2)\n",
    "eq(Solution().firstMissingPositive([7,8,9,11,12]), 1)"
   ]
  },
  {
   "cell_type": "markdown",
   "metadata": {},
   "source": [
    "## 152 [Maximum Product Subarray](https://leetcode.com/problems/maximum-product-subarray/) - M"
   ]
  },
  {
   "cell_type": "markdown",
   "metadata": {},
   "source": [
    "### One Pass Traversal"
   ]
  },
  {
   "cell_type": "markdown",
   "metadata": {},
   "source": [
    "* Runtime: 48 ms, faster than 94.71% of Python3 online submissions for Maximum Product Subarray.\n",
    "* Memory Usage: 13.2 MB, less than 93.10% of Python3 online submissions for Maximum Product Subarray."
   ]
  },
  {
   "cell_type": "code",
   "execution_count": null,
   "metadata": {},
   "outputs": [],
   "source": [
    "class Solution:\n",
    "    def maxProduct(self, nums: List[int]) -> int:\n",
    "        '''Find the max product by one pass traversal.'''\n",
    "        N = len(nums)\n",
    "        max_ending_here = nums[0]\n",
    "        min_ending_here = nums[0]\n",
    "        max_so_far = nums[0]\n",
    "        for i in range(1, N):\n",
    "            temp_max, temp_min = max_ending_here, min_ending_here\n",
    "            max_ending_here = max(nums[i], temp_max*nums[i], temp_min*nums[i])\n",
    "            min_ending_here = min(nums[i], temp_max*nums[i], temp_min*nums[i])\n",
    "            max_so_far = max(max_so_far, max_ending_here)\n",
    "        return max_so_far"
   ]
  },
  {
   "cell_type": "code",
   "execution_count": null,
   "metadata": {},
   "outputs": [],
   "source": [
    "# test\n",
    "eq(Solution().maxProduct([2,3,-2,4]), 6)\n",
    "eq(Solution().maxProduct([-2,0,-1]), 0)\n",
    "eq(Solution().maxProduct([-2,3,-4]), 24)\n",
    "eq(Solution().maxProduct([-1,-2,-9,-6]), 108)\n",
    "eq(Solution().maxProduct([2,-5,-2,-4,3]), 24)\n",
    "eq(Solution().maxProduct([-2]), -2)"
   ]
  },
  {
   "cell_type": "markdown",
   "metadata": {},
   "source": [
    "## 670 [Maximum Swap](https://leetcode.com/problems/maximum-swap/) - M"
   ]
  },
  {
   "cell_type": "markdown",
   "metadata": {},
   "source": [
    "### Recursion"
   ]
  },
  {
   "cell_type": "markdown",
   "metadata": {},
   "source": [
    "* Runtime: 28 ms, faster than 61.10% of Python3 online submissions for Maximum Swap.\n",
    "* Memory Usage: 12.7 MB, less than 100.00% of Python3 online submissions for Maximum Swap."
   ]
  },
  {
   "cell_type": "code",
   "execution_count": null,
   "metadata": {},
   "outputs": [],
   "source": [
    "class Solution:\n",
    "    def maximumSwap(self, num: int) -> int:\n",
    "        '''Find the maximum swap by recursion.'''\n",
    "        numbers = []\n",
    "        while num > 0:\n",
    "            numbers.append(num % 10)\n",
    "            num //= 10\n",
    "        \n",
    "        def swapper(nums: List[int]) -> List[int]:\n",
    "            '''Recursive swap helper.'''\n",
    "            if len(nums) <= 1:\n",
    "                return nums\n",
    "            max_num, max_i = -1, -1\n",
    "            for i in range(0, len(nums)-1):\n",
    "                if nums[i] > nums[-1] and nums[i] > max_num:\n",
    "                    max_num, max_i = nums[i], i\n",
    "            if max_i != -1:\n",
    "                nums[max_i], nums[-1] = nums[-1], nums[max_i]\n",
    "                return nums\n",
    "            else:\n",
    "                return swapper(nums[:-1]) + [nums[-1]]\n",
    "        \n",
    "        numbers = swapper(numbers)\n",
    "        \n",
    "        while numbers:\n",
    "            num += numbers.pop()\n",
    "            num *= 10\n",
    "        return num // 10"
   ]
  },
  {
   "cell_type": "code",
   "execution_count": null,
   "metadata": {},
   "outputs": [],
   "source": [
    "eq(Solution().maximumSwap(2736), 7236)\n",
    "eq(Solution().maximumSwap(9973), 9973)\n",
    "eq(Solution().maximumSwap(98368), 98863)"
   ]
  },
  {
   "cell_type": "markdown",
   "metadata": {},
   "source": [
    "### Greedy"
   ]
  },
  {
   "cell_type": "markdown",
   "metadata": {},
   "source": [
    "* Runtime: 32 ms, faster than 16.83% of Python3 online submissions for Maximum Swap.\n",
    "* Memory Usage: 12.8 MB, less than 100.00% of Python3 online submissions for Maximum Swap."
   ]
  },
  {
   "cell_type": "code",
   "execution_count": null,
   "metadata": {},
   "outputs": [],
   "source": [
    "class Solution:\n",
    "    def maximumSwap(self, num: int) -> int:\n",
    "        '''Find the maximum swap by greedy.'''\n",
    "        A = list(map(int, str(num))) \n",
    "        last = {x: i for i, x in enumerate(A)}\n",
    "        for i, x in enumerate(A):\n",
    "            for d in range(9, x, -1):\n",
    "                if d in last and last[d] > i:\n",
    "                    A[i], A[last[d]] = A[last[d]], A[i]\n",
    "                    return int(\"\".join(map(str, A)))\n",
    "        return num"
   ]
  },
  {
   "cell_type": "code",
   "execution_count": null,
   "metadata": {},
   "outputs": [],
   "source": [
    "eq(Solution().maximumSwap(2736), 7236)\n",
    "eq(Solution().maximumSwap(9973), 9973)\n",
    "eq(Solution().maximumSwap(98368), 98863)"
   ]
  },
  {
   "cell_type": "markdown",
   "metadata": {},
   "source": [
    "## 844 [Backspace String Compare](https://leetcode.com/problems/backspace-string-compare/) - E "
   ]
  },
  {
   "cell_type": "markdown",
   "metadata": {},
   "source": [
    "### Two Pointers "
   ]
  },
  {
   "cell_type": "markdown",
   "metadata": {},
   "source": [
    "* Runtime: 28 ms, faster than 70.73% of Python3 online submissions for Backspace String Compare.\n",
    "* Memory Usage: 13.8 MB, less than 8.00% of Python3 online submissions for Backspace String Compare."
   ]
  },
  {
   "cell_type": "code",
   "execution_count": null,
   "metadata": {},
   "outputs": [],
   "source": [
    "import itertools\n",
    "class Solution:\n",
    "    def backspaceCompare(self, S: str, T: str) -> bool:\n",
    "        def F(S):\n",
    "            skip = 0\n",
    "            for x in reversed(S):\n",
    "                if x == '#':\n",
    "                    skip += 1\n",
    "                elif skip:\n",
    "                    skip -= 1\n",
    "                else:\n",
    "                    yield x\n",
    "        return all(x == y for x, y in itertools.zip_longest(F(S), F(T)))"
   ]
  },
  {
   "cell_type": "code",
   "execution_count": null,
   "metadata": {
    "scrolled": false
   },
   "outputs": [],
   "source": [
    "# test\n",
    "eq(Solution().backspaceCompare('ab##', 'c#d#'), True)"
   ]
  }
 ],
 "metadata": {
  "kernelspec": {
   "display_name": "Python 3",
   "language": "python",
   "name": "python3"
  },
  "language_info": {
   "codemirror_mode": {
    "name": "ipython",
    "version": 3
   },
   "file_extension": ".py",
   "mimetype": "text/x-python",
   "name": "python",
   "nbconvert_exporter": "python",
   "pygments_lexer": "ipython3",
   "version": "3.7.3"
  },
  "toc": {
   "base_numbering": 1,
   "nav_menu": {},
   "number_sections": false,
   "sideBar": true,
   "skip_h1_title": true,
   "title_cell": "Table of Contents",
   "title_sidebar": "Contents",
   "toc_cell": false,
   "toc_position": {
    "height": "calc(100% - 180px)",
    "left": "10px",
    "top": "150px",
    "width": "255.594px"
   },
   "toc_section_display": true,
   "toc_window_display": true
  }
 },
 "nbformat": 4,
 "nbformat_minor": 4
}
