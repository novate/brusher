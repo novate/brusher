{
 "cells": [
  {
   "cell_type": "markdown",
   "metadata": {},
   "source": [
    "# Dynamic Programming"
   ]
  },
  {
   "cell_type": "markdown",
   "metadata": {},
   "source": [
    "I love bottom up.\n",
    "\n",
    "Bottom up shows off my technique.\n",
    "\n",
    "Sweet.\n",
    "\n",
    "- Dynamic Programming\n",
    "- Divide and Conquer\n",
    "- Greedy"
   ]
  },
  {
   "cell_type": "markdown",
   "metadata": {},
   "source": [
    "## Pre-run"
   ]
  },
  {
   "cell_type": "code",
   "execution_count": null,
   "metadata": {
    "ExecuteTime": {
     "end_time": "2020-02-22T10:29:10.664729Z",
     "start_time": "2020-02-22T10:29:10.658701Z"
    }
   },
   "outputs": [],
   "source": [
    "from typing import List\n",
    "from helpers.misc import *"
   ]
  },
  {
   "cell_type": "markdown",
   "metadata": {},
   "source": [
    "## Techniques"
   ]
  },
  {
   "cell_type": "markdown",
   "metadata": {},
   "source": [
    "* DFS <-> DP Top Down <-> Memoization Table <-> Recursion\n",
    "    * When finding all possible routes, we should use DFS to touch every end, i.e. [Word Break II](https://leetcode.com/problems/word-break-ii/).\n",
    "* BFS <-> DP Bottom Up <-> Growing Table\n",
    "* Two DP mem swapping\n",
    "    * **Approach**: Store the most recent two steps to save space, if there is no need to store results of all steps.\n",
    "    * **Problems**: [1155](https://leetcode.com/problems/number-of-dice-rolls-with-target-sum/), [688](https://leetcode.com/problems/knight-probability-in-chessboard/), [494](https://leetcode.com/problems/target-sum/)"
   ]
  },
  {
   "cell_type": "markdown",
   "metadata": {},
   "source": [
    "## DP Categories"
   ]
  },
  {
   "cell_type": "markdown",
   "metadata": {},
   "source": [
    "[Dynamic Programming Patterns Discussion](https://leetcode.com/discuss/general-discussion/458695/dynamic-programming-patterns)\n",
    "* Minimum (Maximum) Path to Reach a Target\n",
    "    * **Statement**: Given a target find minimum (maximum) cost / path / sum to reach the target.\n",
    "    * **Approach**:\n",
    "        * Choose minimum (maximum) path among all possible paths before the current state.\n",
    "        * Add value for the current state.\n",
    "        * Generate optimal solutions for all values in the target and return the value for the target.\n",
    "    * **Problems**: [746](https://leetcode.com/problems/min-cost-climbing-stairs/), [64](https://leetcode.com/problems/minimum-path-sum/), [322](https://leetcode.com/problems/coin-change/), [931](https://leetcode.com/problems/minimum-falling-path-sum/), [983](https://leetcode.com/problems/minimum-cost-for-tickets/), [650](https://leetcode.com/problems/2-keys-keyboard/), [279](https://leetcode.com/problems/perfect-squares/), [1049](https://leetcode.com/problems/last-stone-weight-ii/), [120](https://leetcode.com/problems/triangle/), [474](https://leetcode.com/problems/ones-and-zeroes/), [221](https://leetcode.com/problems/maximal-square/), [1240](https://leetcode.com/problems/tiling-a-rectangle-with-the-fewest-squares/), [174](https://leetcode.com/problems/dungeon-game/), [871](https://leetcode.com/problems/minimum-number-of-refueling-stops/)\n",
    "* Distinct Ways\n",
    "    * **Statement**: Given a target find a number of distinct ways to reach the target.\n",
    "    * **Approach**:\n",
    "        * Sum all possible ways to reach the current state.\n",
    "        * Generate sum for all values in the target.\n",
    "        * Return the value for the target.\n",
    "    * **Note**: Some questions point out the number of repetitions, in that case, add one more loop to simulate every repetition.\n",
    "    * **Problems**: [70](https://leetcode.com/problems/climbing-stairs/), [62](https://leetcode.com/problems/unique-paths/), [1155](https://leetcode.com/problems/number-of-dice-rolls-with-target-sum/), [688](https://leetcode.com/problems/knight-probability-in-chessboard/), [494](https://leetcode.com/problems/target-sum/), [377](https://leetcode.com/problems/combination-sum-iv/), [935](https://leetcode.com/problems/knight-dialer/), [1223](https://leetcode.com/problems/dice-roll-simulation/), [416](https://leetcode.com/problems/partition-equal-subset-sum/), [808](https://leetcode.com/problems/soup-servings/), [790](https://leetcode.com/problems/domino-and-tromino-tiling/), [801](https://leetcode.com/problems/minimum-swaps-to-make-sequences-increasing/), [673](https://leetcode.com/problems/number-of-longest-increasing-subsequence/), [63](https://leetcode.com/problems/unique-paths-ii/), [576](https://leetcode.com/problems/out-of-boundary-paths/), [1269](https://leetcode.com/problems/number-of-ways-to-stay-in-the-same-place-after-some-steps/), [1220](https://leetcode.com/problems/count-vowels-permutation/)\n",
    "* Merging Intervals\n",
    "    * **Statement**: Given a set of numbers find an optimal solution for a problem considering the current number and the best you can get from the left and right sides.\n",
    "    * **Approach**:\n",
    "        * Find all optimal solutions for every interval and return the best possible answer.\n",
    "        * Get the best from the left and right sides and add a solution for the current position.\n",
    "    * **Problems**: [1130](https://leetcode.com/problems/minimum-cost-tree-from-leaf-values/), [96](https://leetcode.com/problems/unique-binary-search-trees/), [1039](https://leetcode.com/problems/minimum-score-triangulation-of-polygon/), [546](https://leetcode.com/problems/remove-boxes/), [1000](https://leetcode.com/problems/minimum-cost-to-merge-stones/), [312](https://leetcode.com/problems/burst-balloons/), [375](https://leetcode.com/problems/guess-number-higher-or-lower-ii/)\n",
    "* DP on Strings\n",
    "* Decision Making"
   ]
  },
  {
   "cell_type": "markdown",
   "metadata": {},
   "source": [
    "## Good to Read"
   ]
  },
  {
   "cell_type": "markdown",
   "metadata": {},
   "source": [
    "* [MIT OCW Dynamic Programming (also see recitation)](https://ocw.mit.edu/courses/electrical-engineering-and-computer-science/6-00sc-introduction-to-computer-science-and-programming-spring-2011/unit-3/lecture-23-dynamic-programming/)\n",
    "* [My experience and notes for learning DP](https://leetcode.com/discuss/general-discussion/475924/my-experience-and-notes-for-learning-dp)\n",
    "* [DP IS EASY! 5 Steps to Think Through DP Questions](https://leetcode.com/problems/target-sum/discuss/455024/dp-is-easy-5-steps-to-think-through-dp-questions/424058)\n",
    "* [怎样学好动态规划](https://www.zhihu.com/question/291280715/answer/1007691283)"
   ]
  },
  {
   "cell_type": "markdown",
   "metadata": {},
   "source": [
    "## 746 [Min Cost Climbing Stairs](https://leetcode.com/problems/min-cost-climbing-stairs/) - E"
   ]
  },
  {
   "cell_type": "markdown",
   "metadata": {},
   "source": [
    "f[n] = cost[n] + min(f[n-1] + f[n-2])"
   ]
  },
  {
   "cell_type": "markdown",
   "metadata": {},
   "source": [
    "### Bottom Up "
   ]
  },
  {
   "cell_type": "markdown",
   "metadata": {},
   "source": [
    "* Runtime: 64 ms, faster than 24.48% of Python3 online submissions for Min Cost Climbing Stairs.\n",
    "* Memory Usage: 12.8 MB, less than 100.00% of Python3 online submissions for Min Cost Climbing Stairs."
   ]
  },
  {
   "cell_type": "code",
   "execution_count": null,
   "metadata": {
    "ExecuteTime": {
     "end_time": "2020-02-22T03:18:44.312745Z",
     "start_time": "2020-02-22T03:18:44.306744Z"
    }
   },
   "outputs": [],
   "source": [
    "class Solution:\n",
    "    def minCostClimbingStairs(self, cost: List[int]) -> int:\n",
    "        # dp[i] is the minimum cost to climb to i-th step.\n",
    "        dp = []\n",
    "        for i, c in enumerate(cost):\n",
    "            if i <= 1:\n",
    "                dp.append(c)\n",
    "            else:\n",
    "                dp.append(min(c + dp[i-1], c + dp[i-2]))\n",
    "        \n",
    "        return min(dp[-2:])"
   ]
  },
  {
   "cell_type": "code",
   "execution_count": null,
   "metadata": {
    "ExecuteTime": {
     "end_time": "2020-02-22T03:18:44.319746Z",
     "start_time": "2020-02-22T03:18:44.314747Z"
    }
   },
   "outputs": [],
   "source": [
    "# test\n",
    "eq(Solution().minCostClimbingStairs([10, 15, 20]), 15)\n",
    "eq(Solution().minCostClimbingStairs([1, 100, 1, 1, 1, 100, 1, 1, 100, 1]), 6)"
   ]
  },
  {
   "cell_type": "markdown",
   "metadata": {},
   "source": [
    "### Better Bottom Up "
   ]
  },
  {
   "cell_type": "markdown",
   "metadata": {},
   "source": [
    "* Runtime: 52 ms, faster than 91.81% of Python3 online submissions for Min Cost Climbing Stairs.\n",
    "* Memory Usage: 12.7 MB, less than 100.00% of Python3 online submissions for Min Cost Climbing Stairs."
   ]
  },
  {
   "cell_type": "code",
   "execution_count": null,
   "metadata": {
    "ExecuteTime": {
     "end_time": "2020-02-22T03:18:44.372744Z",
     "start_time": "2020-02-22T03:18:44.366749Z"
    }
   },
   "outputs": [],
   "source": [
    "class Solution:\n",
    "    def minCostClimbingStairs(self, cost: List[int]) -> int:\n",
    "        # all we need to store is the last two step.\n",
    "        f1 = f2 = 0\n",
    "        for x in reversed(cost):\n",
    "            f1, f2 = x + min(f1, f2), f1\n",
    "        return min(f1, f2)"
   ]
  },
  {
   "cell_type": "code",
   "execution_count": null,
   "metadata": {
    "ExecuteTime": {
     "end_time": "2020-02-22T03:18:44.383779Z",
     "start_time": "2020-02-22T03:18:44.374747Z"
    }
   },
   "outputs": [],
   "source": [
    "# test\n",
    "eq(Solution().minCostClimbingStairs([10, 15, 20]), 15)\n",
    "eq(Solution().minCostClimbingStairs([1, 100, 1, 1, 1, 100, 1, 1, 100, 1]), 6)"
   ]
  },
  {
   "cell_type": "markdown",
   "metadata": {},
   "source": [
    "## 64 [Minimum Path Sum](https://leetcode.com/problems/minimum-path-sum/) - M"
   ]
  },
  {
   "cell_type": "markdown",
   "metadata": {},
   "source": [
    "### Bottom Up "
   ]
  },
  {
   "cell_type": "markdown",
   "metadata": {},
   "source": [
    "* Runtime: 112 ms, faster than 33.40% of Python3 online submissions for Minimum Path Sum.\n",
    "* Memory Usage: 18 MB, less than 17.54% of Python3 online submissions for Minimum Path Sum."
   ]
  },
  {
   "cell_type": "code",
   "execution_count": null,
   "metadata": {
    "ExecuteTime": {
     "end_time": "2020-02-22T03:53:24.648984Z",
     "start_time": "2020-02-22T03:53:24.642008Z"
    }
   },
   "outputs": [],
   "source": [
    "class Solution:\n",
    "    def minPathSum(self, grid: List[List[int]]) -> int:\n",
    "        '''Solve the minimum path sum using DP bottom up.'''\n",
    "        if grid:\n",
    "            m = len(grid)\n",
    "        if m:\n",
    "            n = len(grid[0])\n",
    "        # dp[i, j] is the minimum path sum from (0, 0) to (i, j)\n",
    "        dp = {}\n",
    "        for i in range(m):\n",
    "            for j in range(n):\n",
    "                if i == 0 and j == 0:\n",
    "                    dp[i, j] = grid[i][j]\n",
    "                elif i == 0:\n",
    "                    dp[i, j] = grid[i][j] + dp[i, j-1]\n",
    "                elif j == 0:\n",
    "                    dp[i, j] = grid[i][j] + dp[i-1, j]\n",
    "                else:\n",
    "                    dp[i, j] = grid[i][j] + min(dp[i-1, j], dp[i, j-1])\n",
    "        return dp[m-1, n-1]"
   ]
  },
  {
   "cell_type": "code",
   "execution_count": null,
   "metadata": {
    "ExecuteTime": {
     "end_time": "2020-02-22T03:53:26.444364Z",
     "start_time": "2020-02-22T03:53:26.441329Z"
    }
   },
   "outputs": [],
   "source": [
    "# test\n",
    "eq(Solution().minPathSum([[1,3,1],[1,5,1],[4,2,1]]), 7)"
   ]
  },
  {
   "cell_type": "markdown",
   "metadata": {},
   "source": [
    "### Better Bottom Up "
   ]
  },
  {
   "cell_type": "markdown",
   "metadata": {},
   "source": [
    "* Reduce SC from O(mn) to O(1)\n",
    "* Runtime: 104 ms, faster than 57.93% of Python3 online submissions for Minimum Path Sum.\n",
    "* Memory Usage: 14.6 MB, less than 56.14% of Python3 online submissions for Minimum Path Sum."
   ]
  },
  {
   "cell_type": "code",
   "execution_count": null,
   "metadata": {
    "ExecuteTime": {
     "end_time": "2020-02-22T03:59:17.527771Z",
     "start_time": "2020-02-22T03:59:17.521781Z"
    }
   },
   "outputs": [],
   "source": [
    "class Solution:\n",
    "    def minPathSum(self, grid: List[List[int]]) -> int:\n",
    "        '''Solve the minimum path sum using DP bottom up.'''\n",
    "        if grid:\n",
    "            m = len(grid)\n",
    "        if m:\n",
    "            n = len(grid[0])\n",
    "        for i in range(m):\n",
    "            for j in range(n):\n",
    "                if i == 0 and j == 0:\n",
    "                    continue\n",
    "                elif i == 0:\n",
    "                    grid[i][j] += grid[i][j-1]\n",
    "                elif j == 0:\n",
    "                    grid[i][j] += grid[i-1][j]\n",
    "                else:\n",
    "                    grid[i][j] += min(grid[i][j-1], grid[i-1][j])\n",
    "        return grid[m-1][n-1]"
   ]
  },
  {
   "cell_type": "code",
   "execution_count": null,
   "metadata": {
    "ExecuteTime": {
     "end_time": "2020-02-22T03:59:19.309400Z",
     "start_time": "2020-02-22T03:59:19.305401Z"
    }
   },
   "outputs": [],
   "source": [
    "# test\n",
    "eq(Solution().minPathSum([[1,3,1],[1,5,1],[4,2,1]]), 7)"
   ]
  },
  {
   "cell_type": "markdown",
   "metadata": {},
   "source": [
    "## 120 [Triangle](https://leetcode.com/problems/triangle/) - M"
   ]
  },
  {
   "cell_type": "markdown",
   "metadata": {},
   "source": [
    "### Bottom Up "
   ]
  },
  {
   "cell_type": "markdown",
   "metadata": {},
   "source": [
    "* Runtime: 60 ms, faster than 67.85% of Python3 online submissions for Triangle.\n",
    "* Memory Usage: 13.7 MB, less than 26.67% of Python3 online submissions for Triangle."
   ]
  },
  {
   "cell_type": "code",
   "execution_count": null,
   "metadata": {},
   "outputs": [],
   "source": [
    "class Solution:\n",
    "    def minimumTotal(self, triangle: List[List[int]]) -> int:\n",
    "        '''Find the minimum total by DP bottom up.'''\n",
    "        height = len(triangle)\n",
    "        for x in range(1, height):\n",
    "            for y in range(0, x+1):\n",
    "                # t[x][y] can reach t[x-1][y-1] and t[x][y-1]\n",
    "                if y == 0:\n",
    "                    triangle[x][y] += triangle[x-1][y]\n",
    "                elif y == x:\n",
    "                    triangle[x][y] += triangle[x-1][y-1]\n",
    "                else:\n",
    "                    triangle[x][y] += min(triangle[x-1][y], triangle[x-1][y-1])\n",
    "        return min(triangle[height-1])"
   ]
  },
  {
   "cell_type": "code",
   "execution_count": null,
   "metadata": {},
   "outputs": [],
   "source": [
    "# test\n",
    "eq(Solution().minimumTotal([[2],[3,4],[6,5,7],[4,1,8,3]]), 11)"
   ]
  },
  {
   "cell_type": "markdown",
   "metadata": {},
   "source": [
    "## 174 [Dungeon Game](https://leetcode.com/problems/dungeon-game/) - H"
   ]
  },
  {
   "cell_type": "markdown",
   "metadata": {},
   "source": [
    "### Bottom Up, Backwards"
   ]
  },
  {
   "cell_type": "markdown",
   "metadata": {},
   "source": [
    "* This problem doesn't give the initial status, but gives the final status. Thus, we can do this problem backwards.\n",
    "* Runtime: 80 ms, faster than 31.19% of Python3 online submissions for Dungeon Game.\n",
    "* Memory Usage: 13.8 MB, less than 44.44% of Python3 online submissions for Dungeon Game."
   ]
  },
  {
   "cell_type": "code",
   "execution_count": null,
   "metadata": {},
   "outputs": [],
   "source": [
    "class Solution:\n",
    "    def calculateMinimumHP(self, dungeon: List[List[int]]) -> int:\n",
    "        '''Calculate Minimum HP needed by DP bottom up.'''\n",
    "        M = len(dungeon)\n",
    "        N = len(dungeon[0])\n",
    "        # update the dungeon grid, (-leastHP+1, minimum lost)\n",
    "        for x in range(M-1, -1, -1):\n",
    "            for y in range(N-1, -1, -1):\n",
    "                if x == M-1 and y == N-1:\n",
    "                    dungeon[x][y] = max(1, 1-dungeon[x][y])\n",
    "                elif x == M-1:\n",
    "                    dungeon[x][y] = max(1, dungeon[x][y+1]-dungeon[x][y])\n",
    "                elif y == N-1:\n",
    "                    dungeon[x][y] = max(1, dungeon[x+1][y]-dungeon[x][y])\n",
    "                else:\n",
    "                    dungeon[x][y] = max(1, min(dungeon[x+1][y], dungeon[x][y+1])-dungeon[x][y])\n",
    "        return dungeon[0][0]"
   ]
  },
  {
   "cell_type": "code",
   "execution_count": null,
   "metadata": {},
   "outputs": [],
   "source": [
    "# test\n",
    "eq(Solution().calculateMinimumHP([[-2,-3,3],[-5,-10,1],[10,30,-5]]), 7)\n",
    "eq(Solution().calculateMinimumHP([[1,-3,3],[0,-2,0],[-3,-3,-3]]), 3)"
   ]
  },
  {
   "cell_type": "markdown",
   "metadata": {},
   "source": [
    "## 70 [Climbing Stairs](https://leetcode.com/problems/climbing-stairs) - E"
   ]
  },
  {
   "cell_type": "markdown",
   "metadata": {},
   "source": [
    "Actually it is a Fibonacci problem."
   ]
  },
  {
   "cell_type": "markdown",
   "metadata": {},
   "source": [
    "### Top Down"
   ]
  },
  {
   "cell_type": "markdown",
   "metadata": {},
   "source": [
    "* Runtime: 24 ms, faster than 84.48% of Python3 online submissions for Climbing Stairs.\n",
    "* Memory Usage: 12.7 MB, less than 100.00% of Python3 online submissions for Climbing Stairs."
   ]
  },
  {
   "cell_type": "code",
   "execution_count": null,
   "metadata": {
    "ExecuteTime": {
     "end_time": "2020-02-22T03:18:44.402779Z",
     "start_time": "2020-02-22T03:18:44.385750Z"
    }
   },
   "outputs": [],
   "source": [
    "class Solution:\n",
    "    def climbStairs(self, n: int) -> int:\n",
    "        '''Count the distinct way to climb to the top by DP top down.'''\n",
    "        # The memoization table\n",
    "        self._mem = {0:1, 1:1}\n",
    "        if n in self._mem:\n",
    "            return self._mem[n]\n",
    "        else:\n",
    "            result = self.climbStairs(n-1) + self.climbStairs(n-2)\n",
    "            self._mem[n] = result\n",
    "            return result"
   ]
  },
  {
   "cell_type": "code",
   "execution_count": null,
   "metadata": {
    "ExecuteTime": {
     "end_time": "2020-02-22T03:18:44.417772Z",
     "start_time": "2020-02-22T03:18:44.403747Z"
    }
   },
   "outputs": [],
   "source": [
    "# test\n",
    "eq(Solution().climbStairs(3), 3)\n",
    "eq(Solution().climbStairs(4), 5)"
   ]
  },
  {
   "cell_type": "markdown",
   "metadata": {},
   "source": [
    "### Bottom Up"
   ]
  },
  {
   "cell_type": "markdown",
   "metadata": {},
   "source": [
    "* Runtime: 28 ms, faster than 58.10% of Python3 online submissions for Climbing Stairs.\n",
    "* Memory Usage: 12.8 MB, less than 100.00% of Python3 online submissions for Climbing Stairs."
   ]
  },
  {
   "cell_type": "code",
   "execution_count": null,
   "metadata": {
    "ExecuteTime": {
     "end_time": "2020-02-22T03:18:44.432747Z",
     "start_time": "2020-02-22T03:18:44.419746Z"
    }
   },
   "outputs": [],
   "source": [
    "class Solution:\n",
    "    def climbStairs(self, n: int) -> int:\n",
    "        '''Count the distinct way to climb to the top by DP bottom up.'''\n",
    "        dp = {0: 1, 1: 1}\n",
    "        for i in range(2, n+1):\n",
    "            dp[i] = dp[i-1] + dp[i-2]\n",
    "        return dp[n]"
   ]
  },
  {
   "cell_type": "code",
   "execution_count": null,
   "metadata": {
    "ExecuteTime": {
     "end_time": "2020-02-22T03:18:44.439745Z",
     "start_time": "2020-02-22T03:18:44.434744Z"
    }
   },
   "outputs": [],
   "source": [
    "# test\n",
    "eq(Solution().climbStairs(3), 3)\n",
    "eq(Solution().climbStairs(4), 5)"
   ]
  },
  {
   "cell_type": "markdown",
   "metadata": {},
   "source": [
    "## 62 [Unique Paths](https://leetcode.com/problems/unique-paths/) - M"
   ]
  },
  {
   "cell_type": "markdown",
   "metadata": {},
   "source": [
    "### Bottom Up "
   ]
  },
  {
   "cell_type": "markdown",
   "metadata": {},
   "source": [
    "* Runtime: 24 ms, faster than 90.26% of Python3 online submissions for Unique Paths.\n",
    "* Memory Usage: 12.8 MB, less than 100.00% of Python3 online submissions for Unique Paths."
   ]
  },
  {
   "cell_type": "code",
   "execution_count": null,
   "metadata": {
    "ExecuteTime": {
     "end_time": "2020-02-22T03:18:44.450750Z",
     "start_time": "2020-02-22T03:18:44.443744Z"
    }
   },
   "outputs": [],
   "source": [
    "from collections import defaultdict\n",
    "class Solution:\n",
    "    def uniquePaths(self, m: int, n: int) -> int:\n",
    "        '''Find unique paths by DP bottom up.'''\n",
    "        # dp[m, n] = uniquePaths(m, n)\n",
    "        dp = defaultdict(int)\n",
    "        # dp[m, n] = dp[m, n-1] + dp[n, m-1]\n",
    "        for i in range(1, m+1):\n",
    "            for j in range(1, n+1):\n",
    "                if i == 1 and j == 1:\n",
    "                    dp[i, j] = 1\n",
    "                else:\n",
    "                    dp[i, j] = dp[i, j-1] + dp[i-1, j]\n",
    "        return dp[m, n]"
   ]
  },
  {
   "cell_type": "code",
   "execution_count": null,
   "metadata": {
    "ExecuteTime": {
     "end_time": "2020-02-22T03:18:44.459744Z",
     "start_time": "2020-02-22T03:18:44.452747Z"
    }
   },
   "outputs": [],
   "source": [
    "# test\n",
    "eq(Solution().uniquePaths(3, 2), 3)\n",
    "eq(Solution().uniquePaths(7, 3), 28)"
   ]
  },
  {
   "cell_type": "markdown",
   "metadata": {},
   "source": [
    "## 1155 [Number of Dice Rolls With Target Sum](https://leetcode.com/problems/number-of-dice-rolls-with-target-sum/) - M"
   ]
  },
  {
   "cell_type": "markdown",
   "metadata": {},
   "source": [
    "* [Solution](https://massivealgorithms.blogspot.com/2019/09/leetcode-1155-number-of-dice-rolls-with.html)"
   ]
  },
  {
   "cell_type": "markdown",
   "metadata": {},
   "source": [
    "### Bottom Up"
   ]
  },
  {
   "cell_type": "markdown",
   "metadata": {},
   "source": [
    "* Technique: two DP mem swapping, can save space.\n",
    "* Runtime: 1380 ms, faster than 6.48% of Python3 online submissions for Number of Dice Rolls With Target Sum.\n",
    "* Memory Usage: 12.9 MB, less than 100.00% of Python3 online submissions for Number of Dice Rolls With Target Sum."
   ]
  },
  {
   "cell_type": "code",
   "execution_count": null,
   "metadata": {
    "ExecuteTime": {
     "end_time": "2020-02-22T03:18:44.467745Z",
     "start_time": "2020-02-22T03:18:44.461744Z"
    }
   },
   "outputs": [],
   "source": [
    "from collections import defaultdict\n",
    "class Solution:\n",
    "    def numRollsToTarget(self, d: int, f: int, target: int) -> int:\n",
    "        '''Find the number of possible ways modulo 10^9 + 7 to roll the dice so the sum of the face up numbers equals target by DP bottom up.\n",
    "        \n",
    "        TC:     O(d * f * target)\n",
    "        SC:     O(target)\n",
    "        '''\n",
    "        # dp[i] = numRollsToTarget(dd, f, i), dd start at 1\n",
    "        dp = defaultdict(int, {i:1 for i in range(1, f+1)})\n",
    "        \n",
    "        # dp[tt] += dpb[tt-m] for m in range(1, f+1) while tt-m>0\n",
    "        for dd in range(2, d+1):\n",
    "            # dpa[i] = numRollsToTarget(dd+1, f, i) after dp\n",
    "            dpa = defaultdict(int)\n",
    "            for tt in range(dd, target+1):\n",
    "                m = 1   # number on new die\n",
    "                while tt > m and m <= f:\n",
    "                    dpa[tt] = (dpa[tt] + dp[tt-m]) % int(1e9 + 7)\n",
    "                    # TRICK: this one is faster than dpa[tt] += dp[tt-m] then dpa[tt] %= int(1e9 + 7)\n",
    "                    m += 1\n",
    "            dp = dpa\n",
    "        \n",
    "        return dp[target]"
   ]
  },
  {
   "cell_type": "code",
   "execution_count": null,
   "metadata": {
    "ExecuteTime": {
     "end_time": "2020-02-22T03:18:44.694760Z",
     "start_time": "2020-02-22T03:18:44.469745Z"
    }
   },
   "outputs": [],
   "source": [
    "# test\n",
    "eq(Solution().numRollsToTarget(1, 6, 3), 1)\n",
    "eq(Solution().numRollsToTarget(2, 6, 7), 6)\n",
    "eq(Solution().numRollsToTarget(2, 5, 10), 1)\n",
    "eq(Solution().numRollsToTarget(1, 2, 3), 0)\n",
    "eq(Solution().numRollsToTarget(30, 30, 500), 222616187)"
   ]
  },
  {
   "cell_type": "markdown",
   "metadata": {},
   "source": [
    "## 688 [Knight Probability in chessboard](https://leetcode.com/problems/knight-probability-in-chessboard/) - M"
   ]
  },
  {
   "cell_type": "markdown",
   "metadata": {},
   "source": [
    "* [Solution](https://leetcode.com/articles/knight-probability-in-chessboard/)"
   ]
  },
  {
   "cell_type": "markdown",
   "metadata": {},
   "source": [
    "### Bottom Up"
   ]
  },
  {
   "cell_type": "markdown",
   "metadata": {},
   "source": [
    "* Runtime: 316 ms, faster than 17.38% of Python3 online submissions for Knight Probability in Chessboard.\n",
    "* Memory Usage: 13.1 MB, less than 100.00% of Python3 online submissions for Knight Probability in Chessboard."
   ]
  },
  {
   "cell_type": "code",
   "execution_count": null,
   "metadata": {
    "ExecuteTime": {
     "end_time": "2020-02-22T03:18:44.703756Z",
     "start_time": "2020-02-22T03:18:44.695746Z"
    }
   },
   "outputs": [],
   "source": [
    "from collections import defaultdict\n",
    "class Solution:\n",
    "    def knightProbability(self, N: int, K: int, r: int, c: int) -> float:\n",
    "        '''Calculate the probability by DP bottom up.\n",
    "        \n",
    "        TC: O(K * N^2) for the three loops, the fourth loop loops 8 times which is a constant.\n",
    "        SC: O(N^2) for dp and dpa\n",
    "        '''\n",
    "        # TRICK: for chessboard or map, we can have an array to store all possible move incursion.\n",
    "        moves = ((1, 2), (1, -2), (-1, 2), (-1, -2), (2, 1), (2, -1), (-2, 1), (-2, -1))\n",
    "        # dp[r, c] is the possibility of still being on board in the current step\n",
    "        dp = defaultdict(float, {(x, y):1.0 for x in range(N) for y in range(N)})\n",
    "        \n",
    "        for kk in range(K):\n",
    "            # dpa dp of the next step\n",
    "            dpa = defaultdict(float)\n",
    "            for rr in range(N):\n",
    "                for cc in range(N):\n",
    "                    for move in moves:\n",
    "                        dpa[rr, cc] += dp[rr+move[0], cc+move[1]]\n",
    "                    dpa[rr, cc] /= 8\n",
    "            dp = dpa\n",
    "        \n",
    "        return dp[r, c]"
   ]
  },
  {
   "cell_type": "code",
   "execution_count": null,
   "metadata": {
    "ExecuteTime": {
     "end_time": "2020-02-22T03:18:44.722290Z",
     "start_time": "2020-02-22T03:18:44.705288Z"
    }
   },
   "outputs": [],
   "source": [
    "# test\n",
    "eq(Solution().knightProbability(3, 2, 0, 0), 0.0625)\n",
    "eq(Solution().knightProbability(1, 0, 0, 0), 1.0)\n",
    "eq(Solution().knightProbability(3, 3, 0, 0), 0.015625)\n",
    "eq(Solution().knightProbability(8, 30, 6, 4), 0.00019052566298333648)"
   ]
  },
  {
   "cell_type": "markdown",
   "metadata": {},
   "source": [
    "## 494 [Target Sum](https://leetcode.com/problems/target-sum/) - M"
   ]
  },
  {
   "cell_type": "markdown",
   "metadata": {},
   "source": [
    "### Bottom Up"
   ]
  },
  {
   "cell_type": "markdown",
   "metadata": {},
   "source": [
    "* Runtime: 212 ms, faster than 76.53% of Python3 online submissions for Target Sum.\n",
    "* Memory Usage: 12.7 MB, less than 100.00% of Python3 online submissions for Target Sum."
   ]
  },
  {
   "cell_type": "code",
   "execution_count": null,
   "metadata": {
    "ExecuteTime": {
     "end_time": "2020-02-22T03:18:44.730299Z",
     "start_time": "2020-02-22T03:18:44.724292Z"
    }
   },
   "outputs": [],
   "source": [
    "from collections import defaultdict\n",
    "class Solution:\n",
    "    def findTargetSumWays(self, nums: List[int], S: int) -> int:\n",
    "        '''Find ways of having the target sum by DP bottom up.'''\n",
    "        # dp[i] is ways of i\n",
    "        dp = defaultdict(int)\n",
    "        \n",
    "        for num in nums:\n",
    "            dpa = defaultdict(int)\n",
    "            # first\n",
    "            if not dp:\n",
    "                dpa[num] += 1\n",
    "                dpa[-num] += 1\n",
    "            for key in dp:\n",
    "                dpa[key+num] += dp[key]\n",
    "                dpa[key-num] += dp[key]\n",
    "            dp = dpa\n",
    "        \n",
    "        return dp[S]"
   ]
  },
  {
   "cell_type": "markdown",
   "metadata": {},
   "source": [
    "## 63 [Unique Paths II](https://leetcode.com/problems/unique-paths-ii/) - M"
   ]
  },
  {
   "cell_type": "markdown",
   "metadata": {},
   "source": [
    "### Bottom Up "
   ]
  },
  {
   "cell_type": "markdown",
   "metadata": {},
   "source": [
    "* Runtime: 48 ms, faster than 38.84% of Python3 online submissions for Unique Paths II.\n",
    "* Memory Usage: 12.9 MB, less than 97.78% of Python3 online submissions for Unique Paths II."
   ]
  },
  {
   "cell_type": "code",
   "execution_count": null,
   "metadata": {
    "ExecuteTime": {
     "end_time": "2020-02-22T03:18:44.737292Z",
     "start_time": "2020-02-22T03:18:44.732288Z"
    }
   },
   "outputs": [],
   "source": [
    "# test\n",
    "eq(Solution().findTargetSumWays([1, 1, 1, 1, 1], 3), 5)\n",
    "eq(Solution().findTargetSumWays([1, 1, 1, 1, 1], 6), 0)"
   ]
  },
  {
   "cell_type": "code",
   "execution_count": null,
   "metadata": {},
   "outputs": [],
   "source": [
    "class Solution:\n",
    "    def uniquePathsWithObstacles(self, obstacleGrid: List[List[int]]) -> int:\n",
    "        '''Find unique paths by DP bottom up.'''\n",
    "        X = len(obstacleGrid)\n",
    "        Y = len(obstacleGrid[0])\n",
    "        for x in range(X):\n",
    "            for y in range(Y):\n",
    "                if obstacleGrid[x][y] == 1:\n",
    "                    obstacleGrid[x][y] = 0\n",
    "                elif x == 0 and y == 0:\n",
    "                    obstacleGrid[x][y] = 1\n",
    "                elif x == 0:\n",
    "                    obstacleGrid[x][y] = obstacleGrid[x][y-1]\n",
    "                elif y == 0:\n",
    "                    obstacleGrid[x][y] = obstacleGrid[x-1][y]\n",
    "                else:\n",
    "                    obstacleGrid[x][y] = obstacleGrid[x-1][y] + obstacleGrid[x][y-1]\n",
    "        return obstacleGrid[X-1][Y-1]"
   ]
  },
  {
   "cell_type": "code",
   "execution_count": null,
   "metadata": {},
   "outputs": [],
   "source": [
    "# test\n",
    "eq(Solution().uniquePathsWithObstacles([[0,0,0],[0,1,0],[0,0,0]]), 2)\n",
    "eq(Solution().uniquePathsWithObstacles([[1,0]]), 0)"
   ]
  },
  {
   "cell_type": "markdown",
   "metadata": {},
   "source": [
    "## 53 [Maximum Subarray](https://leetcode.com/problems/maximum-subarray/) - E"
   ]
  },
  {
   "cell_type": "markdown",
   "metadata": {},
   "source": [
    "### DP Bottom Up "
   ]
  },
  {
   "cell_type": "markdown",
   "metadata": {},
   "source": [
    "* Runtime: 72 ms, faster than 30.80% of Python3 online submissions for Maximum Subarray.\n",
    "* Memory Usage: 13.6 MB, less than 58.54% of Python3 online submissions for Maximum Subarray."
   ]
  },
  {
   "cell_type": "code",
   "execution_count": null,
   "metadata": {},
   "outputs": [],
   "source": [
    "class Solution:\n",
    "    def maxSubArray(self, nums: List[int]) -> int:\n",
    "        '''Find the contiguous subarray which has the largest sum and return its sum.\n",
    "        \n",
    "        TC: O(n)\n",
    "        SC: O(1)\n",
    "        '''\n",
    "        # sums[i] = sums[i-1] > 0 ? sums[i-1] + nums[i] : nums[i]\n",
    "        # nums  [-2, 1,-3, 4,-1, 2, 1,-5, 4]\n",
    "        # sums  [-2, 1,-2, 4, 3, 5, 6, 1, 5]\n",
    "        # ans   max(sums)\n",
    "        # no need to store sums, reduce space complexity from O(n) to O(1)\n",
    "        sums, ans = nums[0], nums[0]\n",
    "        for i in range(1, len(nums)):\n",
    "            sums = max(nums[i], sums+nums[i])\n",
    "            ans = max(ans, sums)\n",
    "        return ans"
   ]
  },
  {
   "cell_type": "code",
   "execution_count": null,
   "metadata": {},
   "outputs": [],
   "source": [
    "# test\n",
    "eq(Solution().maxSubArray([-2,1,-3,4,-1,2,1,-5,4]), 6)"
   ]
  },
  {
   "cell_type": "markdown",
   "metadata": {},
   "source": [
    "## 121 [Best Time to Buy and Sell Stock](https://leetcode.com/problems/best-time-to-buy-and-sell-stock/) - E"
   ]
  },
  {
   "cell_type": "markdown",
   "metadata": {},
   "source": [
    "### Two Pointers"
   ]
  },
  {
   "cell_type": "markdown",
   "metadata": {},
   "source": [
    "* Runtime: 56 ms, faster than 94.83% of Python3 online submissions for Best Time to Buy and Sell Stock.\n",
    "* Memory Usage: 13.8 MB, less than 90.80% of Python3 online submissions for Best Time to Buy and Sell Stock."
   ]
  },
  {
   "cell_type": "code",
   "execution_count": null,
   "metadata": {},
   "outputs": [],
   "source": [
    "class Solution:\n",
    "    def maxProfit(self, prices: List[int]) -> int:\n",
    "        '''Calculate the max profit by two pointers.'''\n",
    "        if len(prices) < 2:\n",
    "            return 0\n",
    "        profit = 0\n",
    "        l, r = 0, 1\n",
    "        while r < len(prices):\n",
    "            if prices[l] > prices[r]:\n",
    "                l, r = r, r+1\n",
    "            else:\n",
    "                profit = max(profit, prices[r] - prices[l])\n",
    "                r += 1\n",
    "        return profit"
   ]
  },
  {
   "cell_type": "code",
   "execution_count": null,
   "metadata": {},
   "outputs": [],
   "source": [
    "eq(Solution().maxProfit([7,1,5,3,6,4]), 5)"
   ]
  },
  {
   "cell_type": "markdown",
   "metadata": {},
   "source": [
    "## 122 [Best Time to Buy and Sell Stock II](https://leetcode.com/problems/best-time-to-buy-and-sell-stock-ii/) - E"
   ]
  },
  {
   "cell_type": "markdown",
   "metadata": {},
   "source": [
    "### Bottom Up"
   ]
  },
  {
   "cell_type": "markdown",
   "metadata": {},
   "source": [
    "* Runtime: 60 ms, faster than 77.56% of Python3 online submissions for Best Time to Buy and Sell Stock II.\n",
    "* Memory Usage: 13.9 MB, less than 63.42% of Python3 online submissions for Best Time to Buy and Sell Stock II."
   ]
  },
  {
   "cell_type": "code",
   "execution_count": null,
   "metadata": {},
   "outputs": [],
   "source": [
    "class Solution:\n",
    "    def maxProfit(self, prices: List[int]) -> int:\n",
    "        '''Calculate the max profit by DP bottom up.'''\n",
    "        if len(prices) < 2:\n",
    "            return 0\n",
    "        profit = 0\n",
    "        for i in range(1, len(prices)):\n",
    "            if prices[i] > prices[i-1]:\n",
    "                profit += prices[i]-prices[i-1]\n",
    "        return profit"
   ]
  },
  {
   "cell_type": "code",
   "execution_count": null,
   "metadata": {},
   "outputs": [],
   "source": [
    "eq(Solution().maxProfit([7,1,5,3,6,4]), 7)"
   ]
  },
  {
   "cell_type": "markdown",
   "metadata": {},
   "source": [
    "## 139 [Word Break](https://leetcode.com/problems/word-break/) - M"
   ]
  },
  {
   "cell_type": "markdown",
   "metadata": {},
   "source": [
    "### Bottom Up, Two Pointers"
   ]
  },
  {
   "cell_type": "markdown",
   "metadata": {},
   "source": [
    "* Runtime: 32 ms, faster than 88.06% of Python3 online submissions for Word Break.\n",
    "* Memory Usage: 12.7 MB, less than 100.00% of Python3 online submissions for Word Break."
   ]
  },
  {
   "cell_type": "code",
   "execution_count": null,
   "metadata": {
    "ExecuteTime": {
     "end_time": "2020-02-22T08:49:07.344370Z",
     "start_time": "2020-02-22T08:49:07.338398Z"
    }
   },
   "outputs": [],
   "source": [
    "from collections import defaultdict\n",
    "class Solution:\n",
    "    def wordBreak(self, s: str, wordDict: List[str]) -> bool:\n",
    "        '''Check whether there is a word break by DP bottom up.'''\n",
    "        # dp[i] = wordBreak(s[:i], wordDict)\n",
    "        dp = defaultdict(bool)\n",
    "        dp[0] = True\n",
    "        # dp[hi] = dp[lo] && dp[lo:hi] in wordDict\n",
    "        for lo in range(len(s)):\n",
    "            if not dp[lo]:\n",
    "                continue\n",
    "            for word in wordDict:\n",
    "                hi = lo + len(word)\n",
    "                if s[lo:hi] == word:\n",
    "                    dp[hi] = True\n",
    "        return dp[len(s)]"
   ]
  },
  {
   "cell_type": "code",
   "execution_count": null,
   "metadata": {
    "ExecuteTime": {
     "end_time": "2020-02-22T08:49:09.027141Z",
     "start_time": "2020-02-22T08:49:09.018112Z"
    }
   },
   "outputs": [],
   "source": [
    "# test\n",
    "eq(Solution().wordBreak(\"leetcode\", [\"leet\", \"code\"]), True)\n",
    "eq(Solution().wordBreak(\"applepenapple\", [\"apple\", \"pen\"]), True)\n",
    "eq(Solution().wordBreak(\"catsandog\", [\"cats\", \"dog\", \"sand\", \"and\", \"cat\"]), False)\n",
    "eq(Solution().wordBreak(\"acaaaaabbbdbcccdcdaadcdccacbcccabbbbcdaaaaaadb\", [\"abbcbda\",\"cbdaaa\",\"b\",\"dadaaad\",\"dccbbbc\",\"dccadd\",\"ccbdbc\",\"bbca\",\"bacbcdd\",\"a\",\"bacb\",\"cbc\",\"adc\",\"c\",\"cbdbcad\",\"cdbab\",\"db\",\"abbcdbd\",\"bcb\",\"bbdab\",\"aa\",\"bcadb\",\"bacbcb\",\"ca\",\"dbdabdb\",\"ccd\",\"acbb\",\"bdc\",\"acbccd\",\"d\",\"cccdcda\",\"dcbd\",\"cbccacd\",\"ac\",\"cca\",\"aaddc\",\"dccac\",\"ccdc\",\"bbbbcda\",\"ba\",\"adbcadb\",\"dca\",\"abd\",\"bdbb\",\"ddadbad\",\"badb\",\"ab\",\"aaaaa\",\"acba\",\"abbb\"]), True)"
   ]
  },
  {
   "cell_type": "markdown",
   "metadata": {},
   "source": [
    "## 198 [House Robber](https://leetcode.com/problems/house-robber/) - E"
   ]
  },
  {
   "cell_type": "markdown",
   "metadata": {},
   "source": [
    "### Iteration"
   ]
  },
  {
   "cell_type": "markdown",
   "metadata": {},
   "source": [
    "* Runtime: 28 ms, faster than 73.80% of Python3 online submissions for House Robber.\n",
    "* Memory Usage: 12.8 MB, less than 100.00% of Python3 online submissions for House Robber."
   ]
  },
  {
   "cell_type": "code",
   "execution_count": null,
   "metadata": {},
   "outputs": [],
   "source": [
    "class Solution:   \n",
    "    def rob(self, nums: List[int]) -> int:\n",
    "        '''Rob the house iteratively.'''\n",
    "        if not nums:\n",
    "            return 0\n",
    "        # max_rob_amounts[i] is the result of rob(nums[:i])\n",
    "        max_rob_amounts = []\n",
    "        N = len(nums)\n",
    "        for i in range(N):\n",
    "            if i == 0:\n",
    "                max_rob_amounts.append(nums[i])\n",
    "            elif i == 1:\n",
    "                max_rob_amounts.append(max(nums[i], max_rob_amounts[i-1]))\n",
    "            elif i == 2:\n",
    "                max_rob_amounts.append(max(nums[i]+max_rob_amounts[i-2], max_rob_amounts[i-1]))\n",
    "            else:\n",
    "                max_rob_amounts.append(max(nums[i]+max_rob_amounts[i-2], nums[i-1]+max_rob_amounts[i-3]))\n",
    "        return max_rob_amounts[N-1]"
   ]
  },
  {
   "cell_type": "markdown",
   "metadata": {},
   "source": [
    "### Iteration with O(1) space"
   ]
  },
  {
   "cell_type": "markdown",
   "metadata": {},
   "source": [
    "* Runtime: 28 ms, faster than 73.80% of Python3 online submissions for House Robber.\n",
    "* Memory Usage: 12.9 MB, less than 100.00% of Python3 online submissions for House Robber."
   ]
  },
  {
   "cell_type": "code",
   "execution_count": null,
   "metadata": {},
   "outputs": [],
   "source": [
    "class Solution:   \n",
    "    def rob(self, nums: List[int]) -> int:\n",
    "        '''Rob the house iteratively using constant space.'''\n",
    "        if not nums:\n",
    "            return 0\n",
    "        last_2_rob = 0\n",
    "        last_1_rob = 0\n",
    "        N = len(nums)\n",
    "        for i in range(N):\n",
    "            current_rob = max(last_1_rob, last_2_rob+nums[i])\n",
    "            last_2_rob = last_1_rob\n",
    "            last_1_rob = current_rob\n",
    "        return last_1_rob"
   ]
  },
  {
   "cell_type": "code",
   "execution_count": null,
   "metadata": {},
   "outputs": [],
   "source": [
    "# test\n",
    "eq(Solution().rob([1,2,3,1]), 4)\n",
    "eq(Solution().rob([2,7,9,3,1]), 12)"
   ]
  },
  {
   "cell_type": "markdown",
   "metadata": {},
   "source": [
    "### Bottom Up Ver.2"
   ]
  },
  {
   "cell_type": "markdown",
   "metadata": {},
   "source": [
    "* Runtime: 36 ms, faster than 70.93% of Python3 online submissions for Word Break.\n",
    "* Memory Usage: 12.9 MB, less than 100.00% of Python3 online submissions for Word Break."
   ]
  },
  {
   "cell_type": "code",
   "execution_count": null,
   "metadata": {
    "ExecuteTime": {
     "end_time": "2020-02-22T08:50:54.439665Z",
     "start_time": "2020-02-22T08:50:54.434666Z"
    }
   },
   "outputs": [],
   "source": [
    "class Solution:\n",
    "    def wordBreak(self, s: str, wordDict: List[str]) -> bool:\n",
    "        '''Check whether there is a word break by DP bottom up.'''\n",
    "        # i in true_points if wordBreak(s[:i], wordDict) == True\n",
    "        true_points = [0]\n",
    "        \n",
    "        for lo in true_points:\n",
    "            for word in wordDict:\n",
    "                hi = lo + len(word)\n",
    "                # CAUTION: Do not forget this to trim searching!\n",
    "                if hi in true_points:\n",
    "                    continue\n",
    "                if s[lo:hi] == word:\n",
    "                    true_points.append(hi)\n",
    "        return len(s) in true_points"
   ]
  },
  {
   "cell_type": "code",
   "execution_count": null,
   "metadata": {
    "ExecuteTime": {
     "end_time": "2020-02-22T08:50:56.001191Z",
     "start_time": "2020-02-22T08:50:55.993209Z"
    }
   },
   "outputs": [],
   "source": [
    "# test\n",
    "eq(Solution().wordBreak(\"leetcode\", [\"leet\", \"code\"]), True)\n",
    "eq(Solution().wordBreak(\"applepenapple\", [\"apple\", \"pen\"]), True)\n",
    "eq(Solution().wordBreak(\"catsandog\", [\"cats\", \"dog\", \"sand\", \"and\", \"cat\"]), False)\n",
    "eq(Solution().wordBreak(\"acaaaaabbbdbcccdcdaadcdccacbcccabbbbcdaaaaaadb\", [\"abbcbda\",\"cbdaaa\",\"b\",\"dadaaad\",\"dccbbbc\",\"dccadd\",\"ccbdbc\",\"bbca\",\"bacbcdd\",\"a\",\"bacb\",\"cbc\",\"adc\",\"c\",\"cbdbcad\",\"cdbab\",\"db\",\"abbcdbd\",\"bcb\",\"bbdab\",\"aa\",\"bcadb\",\"bacbcb\",\"ca\",\"dbdabdb\",\"ccd\",\"acbb\",\"bdc\",\"acbccd\",\"d\",\"cccdcda\",\"dcbd\",\"cbccacd\",\"ac\",\"cca\",\"aaddc\",\"dccac\",\"ccdc\",\"bbbbcda\",\"ba\",\"adbcadb\",\"dca\",\"abd\",\"bdbb\",\"ddadbad\",\"badb\",\"ab\",\"aaaaa\",\"acba\",\"abbb\"]), True)"
   ]
  },
  {
   "cell_type": "markdown",
   "metadata": {},
   "source": [
    "## 140 [Word Break II](https://leetcode.com/problems/word-break-ii/) - H"
   ]
  },
  {
   "cell_type": "markdown",
   "metadata": {},
   "source": [
    "### DFS with Top Down "
   ]
  },
  {
   "cell_type": "markdown",
   "metadata": {},
   "source": [
    "* Runtime: 52 ms, faster than 43.46% of Python3 online submissions for Word Break II.\n",
    "* Memory Usage: 13 MB, less than 100.00% of Python3 online submissions for Word Break II."
   ]
  },
  {
   "cell_type": "code",
   "execution_count": null,
   "metadata": {
    "ExecuteTime": {
     "end_time": "2020-02-22T10:29:38.352646Z",
     "start_time": "2020-02-22T10:29:38.346112Z"
    }
   },
   "outputs": [],
   "source": [
    "class Solution:\n",
    "    def wordBreak(self, s: str, wordDict: List[str]) -> List[str]:\n",
    "        '''''Word Break II using DP top down and DFS.'''\n",
    "        words = set(wordDict)\n",
    "        n = len(s)\n",
    "        self.memo = {}\n",
    "        \n",
    "        def dfs(lo: int) -> List[str]:\n",
    "            '''Answer of wordBreak(s[:lo], wordDict)'''\n",
    "            if lo == len(s):\n",
    "                return [[]]\n",
    "            if lo in self.memo:\n",
    "                return self.memo[lo]\n",
    "            sub_words = []\n",
    "            for word in words:\n",
    "                hi = lo + len(word)\n",
    "                if s[lo: hi] == word:\n",
    "                    sub_words += [[word] + next_word for next_word in dfs(hi)]\n",
    "            self.memo[lo] = sub_words\n",
    "            return sub_words\n",
    "        \n",
    "        paths = dfs(0)\n",
    "        return [' '.join(path) for path in paths]"
   ]
  },
  {
   "cell_type": "code",
   "execution_count": null,
   "metadata": {
    "ExecuteTime": {
     "end_time": "2020-02-22T10:30:30.057518Z",
     "start_time": "2020-02-22T10:30:30.050519Z"
    }
   },
   "outputs": [],
   "source": [
    "# test\n",
    "eq(set(Solution().wordBreak(\"catsanddog\", [\"cat\", \"cats\", \"and\", \"sand\", \"dog\"])), set([\"cats and dog\", \"cat sand dog\"]))\n",
    "eq(set(Solution().wordBreak(\"pineapplepenapple\", [\"apple\", \"pen\", \"applepen\", \"pine\", \"pineapple\"])), set([\"pine apple pen apple\", \"pineapple pen apple\", \"pine applepen apple\"]))\n",
    "eq(set(Solution().wordBreak(\"catsandog\", [\"cats\", \"dog\", \"sand\", \"and\", \"cat\"])), set([]))\n",
    "eq(set(Solution().wordBreak(\"aaaaaaaaaaaaaaaaaaaaaaaaaaaaaaaaaaaaaaaaaaaaaaaaaaaaaaaaaaaaaaaaaaaaaaaaaaabaaaaaaaaaaaaaaaaaaaaaaaaaaaaaaaaaaaaaaaaaaaaaaaaaaaaaaaaaaaaaaaaaaaaaaaaaaa\", [\"a\",\"aa\",\"aaa\",\"aaaa\",\"aaaaa\",\"aaaaaa\",\"aaaaaaa\",\"aaaaaaaa\",\"aaaaaaaaa\",\"aaaaaaaaaa\"])), set([]))"
   ]
  },
  {
   "cell_type": "markdown",
   "metadata": {},
   "source": [
    "## 218 [The Skyline Problem](https://leetcode.com/problems/the-skyline-problem/) - H"
   ]
  },
  {
   "cell_type": "markdown",
   "metadata": {},
   "source": [
    "### Greedy"
   ]
  },
  {
   "cell_type": "markdown",
   "metadata": {},
   "source": []
  },
  {
   "cell_type": "code",
   "execution_count": null,
   "metadata": {},
   "outputs": [],
   "source": []
  },
  {
   "cell_type": "code",
   "execution_count": null,
   "metadata": {},
   "outputs": [],
   "source": []
  },
  {
   "cell_type": "markdown",
   "metadata": {},
   "source": [
    "## 135 [Candy](https://leetcode.com/problems/candy/) - H"
   ]
  },
  {
   "cell_type": "markdown",
   "metadata": {},
   "source": [
    "* [Solution](https://leetcode.com/articles/candy/)"
   ]
  },
  {
   "cell_type": "markdown",
   "metadata": {},
   "source": [
    "### Two Arrays, Three Passes"
   ]
  },
  {
   "cell_type": "markdown",
   "metadata": {},
   "source": [
    "* Runtime: 192 ms, faster than 34.05% of Python3 online submissions for Candy.\n",
    "* Memory Usage: 15.3 MB, less than 60.00% of Python3 online submissions for Candy."
   ]
  },
  {
   "cell_type": "code",
   "execution_count": null,
   "metadata": {},
   "outputs": [],
   "source": [
    "class Solution:\n",
    "    def candy(self, ratings: List[int]) -> int:\n",
    "        '''Giving minimum candies to children by two arrays.'''\n",
    "        if not ratings:\n",
    "            return 0\n",
    "        N = len(ratings)\n",
    "        \n",
    "        # one pass traversal to build up the left_to_right list\n",
    "        # only consider whether the left one is smaller\n",
    "        left_to_right = [1] * N\n",
    "        for i in range(1, N):\n",
    "            if ratings[i] > ratings[i-1]:\n",
    "                left_to_right[i] += left_to_right[i-1]\n",
    "                \n",
    "        # one pass traversal to build up the right_to_left list\n",
    "        # only consider whether the right one is smaller\n",
    "        right_to_left = [1] * N\n",
    "        for i in range(N-2, -1, -1):\n",
    "            if ratings[i] > ratings[i+1]:\n",
    "                right_to_left[i] += right_to_left[i+1]\n",
    "        \n",
    "        # count all candies\n",
    "        candies = 0\n",
    "        for i in range(N):\n",
    "            candies += max(left_to_right[i], right_to_left[i])\n",
    "\n",
    "        return candies"
   ]
  },
  {
   "cell_type": "markdown",
   "metadata": {},
   "source": [
    "### One Array, Two Passes "
   ]
  },
  {
   "cell_type": "markdown",
   "metadata": {},
   "source": [
    "* Runtime: 172 ms, faster than 75.81% of Python3 online submissions for Candy.\n",
    "* Memory Usage: 15.4 MB, less than 60.00% of Python3 online submissions for Candy."
   ]
  },
  {
   "cell_type": "code",
   "execution_count": null,
   "metadata": {},
   "outputs": [],
   "source": [
    "class Solution:\n",
    "    def candy(self, ratings: List[int]) -> int:\n",
    "        '''Giving minimum candies to children by one array.'''\n",
    "        if not ratings:\n",
    "            return 0\n",
    "        N = len(ratings)\n",
    "        \n",
    "        # left to right scan\n",
    "        candies = [1] * N\n",
    "        for i in range(1, N):\n",
    "            if ratings[i] > ratings[i-1]:\n",
    "                candies[i] += candies[i-1]\n",
    "        \n",
    "        # right to left scan\n",
    "        for i in range(N-2, -1, -1):\n",
    "            if ratings[i] > ratings[i+1]:\n",
    "                candies[i] = max(candies[i], candies[i+1] + 1)\n",
    "\n",
    "        return sum(candies)"
   ]
  },
  {
   "cell_type": "markdown",
   "metadata": {},
   "source": [
    "### Constant Space, Single Pass"
   ]
  },
  {
   "cell_type": "markdown",
   "metadata": {},
   "source": [
    "* Whether to include the local peak point in the rising slope or the falling slope?\n",
    "    * In order to satisfy both the right neighbor and the left neighbor criteria, the peak point's count needs to be the max. Thus, the local peak point belongs to the longer slope.\n",
    "* Runtime: 180 ms, faster than 53.78% of Python3 online submissions for Candy.\n",
    "* Memory Usage: 15.1 MB, less than 80.00% of Python3 online submissions for Candy."
   ]
  },
  {
   "cell_type": "code",
   "execution_count": null,
   "metadata": {},
   "outputs": [],
   "source": [
    "class Solution:\n",
    "    def candy(self, ratings: List[int]) -> int:\n",
    "        '''Giving minimum candies to children by constant space single pass.'''\n",
    "        if not ratings:\n",
    "            return 0\n",
    "        N = len(ratings)\n",
    "        \n",
    "        count = lambda n : n * (n+1) // 2\n",
    "        \n",
    "        candies = 0\n",
    "        up = 0\n",
    "        down = 0\n",
    "        old_slope = 0\n",
    "        \n",
    "        for i in range(1, N):\n",
    "            new_slope = 0\n",
    "            if ratings[i] > ratings[i-1]:\n",
    "                new_slope = 1\n",
    "            if ratings[i] < ratings[i-1]:\n",
    "                new_slope = -1\n",
    "            # up-to-flat or down-to-up/flat\n",
    "            if (old_slope > 0 and new_slope == 0) or (old_slope < 0 and new_slope >= 0):\n",
    "                # does not count the current child\n",
    "                candies += count(up) + count(down) + max(up, down)\n",
    "                up = 0\n",
    "                down = 0\n",
    "            if new_slope > 0:\n",
    "                up += 1\n",
    "            if new_slope < 0:\n",
    "                down += 1\n",
    "            if new_slope == 0:\n",
    "                candies += 1\n",
    "            old_slope = new_slope\n",
    "        # +1 for the current child\n",
    "        candies += count(up) + count(down) + max(up, down) + 1\n",
    "        return candies"
   ]
  },
  {
   "cell_type": "code",
   "execution_count": null,
   "metadata": {},
   "outputs": [],
   "source": [
    "# test\n",
    "eq(Solution().candy([]), 0)\n",
    "eq(Solution().candy([1]), 1)\n",
    "eq(Solution().candy([1,0,2]), 5)\n",
    "eq(Solution().candy([1,2,2]), 4)\n",
    "eq(Solution().candy([3,2,1,0,0,2]), 13)\n",
    "eq(Solution().candy([1,3,2,1,0,0,2]), 14)\n",
    "eq(Solution().candy([1,3,2,2,1]), 7)\n",
    "eq(Solution().candy([1,2,87,87,87,2,1]), 13)\n",
    "eq(Solution().candy([1,3,4,5,2]), 11)"
   ]
  },
  {
   "cell_type": "markdown",
   "metadata": {},
   "source": [
    "## 1029 [Two City Scheduling](https://leetcode.com/problems/two-city-scheduling/) - E "
   ]
  },
  {
   "cell_type": "markdown",
   "metadata": {},
   "source": [
    "### Greedy "
   ]
  },
  {
   "cell_type": "markdown",
   "metadata": {},
   "source": [
    "* Runtime: 40 ms, faster than 47.85% of Python3 online submissions for Two City Scheduling.\n",
    "* Memory Usage: 13 MB, less than 100.00% of Python3 online submissions for Two City Scheduling."
   ]
  },
  {
   "cell_type": "code",
   "execution_count": null,
   "metadata": {},
   "outputs": [],
   "source": [
    "class Solution:\n",
    "    def twoCitySchedCost(self, costs: List[List[int]]) -> int:\n",
    "        '''Make cost to two cities minimum by greedy.'''\n",
    "        diff = [x[0]-x[1] for x in costs]\n",
    "        N = len(costs)\n",
    "        index = sorted(range(N), key=lambda k: diff[k])\n",
    "        ans = 0\n",
    "        for i in range(N//2):\n",
    "            ans += costs[index[i]][0]\n",
    "            ans += costs[index[-i-1]][1]\n",
    "        return ans"
   ]
  },
  {
   "cell_type": "code",
   "execution_count": null,
   "metadata": {},
   "outputs": [],
   "source": [
    "# test\n",
    "eq(Solution().twoCitySchedCost([[10,20],[30,200],[400,50],[30,20]]), 110)"
   ]
  },
  {
   "cell_type": "markdown",
   "metadata": {},
   "source": [
    "### Better Greedy"
   ]
  },
  {
   "cell_type": "markdown",
   "metadata": {},
   "source": [
    "* [Python Sorting](https://docs.python.org/3/howto/sorting.html)\n",
    "* Runtime: 40 ms, faster than 47.85% of Python3 online submissions for Two City Scheduling.\n",
    "* Memory Usage: 12.9 MB, less than 100.00% of Python3 online submissions for Two City Scheduling."
   ]
  },
  {
   "cell_type": "code",
   "execution_count": null,
   "metadata": {},
   "outputs": [],
   "source": [
    "class Solution:\n",
    "    def twoCitySchedCost(self, costs: List[List[int]]) -> int:\n",
    "        '''Make cost to two cities minimum by greedy.'''\n",
    "        costs.sort(key=lambda k: k[0]-k[1])\n",
    "        N = len(costs) // 2\n",
    "        ans = 0\n",
    "        for i in range(N):\n",
    "            ans += costs[i][0] + costs[-i-1][1]\n",
    "        return ans"
   ]
  },
  {
   "cell_type": "code",
   "execution_count": null,
   "metadata": {},
   "outputs": [],
   "source": [
    "# test\n",
    "eq(Solution().twoCitySchedCost([[10,20],[30,200],[400,50],[30,20]]), 110)"
   ]
  },
  {
   "cell_type": "markdown",
   "metadata": {},
   "source": [
    "## 991 [Broken Calculator](https://leetcode.com/problems/broken-calculator/) - M "
   ]
  },
  {
   "cell_type": "markdown",
   "metadata": {},
   "source": [
    "* To `* 2`, a more efficient way to do this is `<< 1`.\n",
    "* To `// 2`, a more efficient way to do this is `>> 1`.\n",
    "* To `% 2`, a more efficient way to do this is `& 1`."
   ]
  },
  {
   "cell_type": "markdown",
   "metadata": {},
   "source": [
    "### Greedy"
   ]
  },
  {
   "cell_type": "markdown",
   "metadata": {},
   "source": [
    "* Runtime: 28 ms, faster than 60.16% of Python3 online submissions for Broken Calculator.\n",
    "* Memory Usage: 12.9 MB, less than 100.00% of Python3 online submissions for Broken Calculator."
   ]
  },
  {
   "cell_type": "code",
   "execution_count": null,
   "metadata": {},
   "outputs": [],
   "source": [
    "class Solution:\n",
    "    def brokenCalc(self, X: int, Y: int) -> int:\n",
    "        '''Get the minimum number of operations needed to display the number Y by greedy.'''\n",
    "        # *2-1-1 -> -1*2\n",
    "        double_combo = 0\n",
    "        decrement_combo = 0\n",
    "        while X < Y:\n",
    "            X <<= 1\n",
    "            double_combo += 1\n",
    "        decrement_combo = X - Y\n",
    "        ans = 0\n",
    "        for i in range(double_combo):\n",
    "            if double_combo == 0:\n",
    "                break\n",
    "            ans += decrement_combo & 1\n",
    "            decrement_combo >>= 1\n",
    "        return ans + double_combo + decrement_combo"
   ]
  },
  {
   "cell_type": "code",
   "execution_count": null,
   "metadata": {},
   "outputs": [],
   "source": [
    "# test\n",
    "eq(Solution().brokenCalc(2, 3), 2)\n",
    "eq(Solution().brokenCalc(5, 8), 2)\n",
    "eq(Solution().brokenCalc(3, 10), 3)\n",
    "eq(Solution().brokenCalc(1024, 1), 1023)\n",
    "eq(Solution().brokenCalc(1, 1000000000), 39)"
   ]
  },
  {
   "cell_type": "markdown",
   "metadata": {},
   "source": [
    "### Better Greedy"
   ]
  },
  {
   "cell_type": "markdown",
   "metadata": {},
   "source": [
    "* Runtime: 24 ms, faster than 83.81% of Python3 online submissions for Broken Calculator.\n",
    "* Memory Usage: 12.9 MB, less than 100.00% of Python3 online submissions for Broken Calculator."
   ]
  },
  {
   "cell_type": "code",
   "execution_count": null,
   "metadata": {},
   "outputs": [],
   "source": [
    "class Solution:\n",
    "    def brokenCalc(self, X: int, Y: int) -> int:\n",
    "        '''Get the minimum number of operations needed to display the number Y by greedy.'''\n",
    "        ans = 0\n",
    "        while Y > X:\n",
    "            if Y&1:\n",
    "                Y += 1\n",
    "            else:\n",
    "                Y >>= 1\n",
    "            ans += 1\n",
    "        return ans + X - Y"
   ]
  },
  {
   "cell_type": "code",
   "execution_count": null,
   "metadata": {},
   "outputs": [],
   "source": [
    "# test\n",
    "eq(Solution().brokenCalc(2, 3), 2)\n",
    "eq(Solution().brokenCalc(5, 8), 2)\n",
    "eq(Solution().brokenCalc(3, 10), 3)\n",
    "eq(Solution().brokenCalc(1024, 1), 1023)\n",
    "eq(Solution().brokenCalc(1, 1000000000), 39)"
   ]
  },
  {
   "cell_type": "markdown",
   "metadata": {},
   "source": [
    "## 649 [Dota2 Senate](https://leetcode.com/problems/dota2-senate/) - M "
   ]
  },
  {
   "cell_type": "markdown",
   "metadata": {},
   "source": [
    "### Greedy "
   ]
  },
  {
   "cell_type": "markdown",
   "metadata": {},
   "source": [
    "* Runtime: 132 ms, faster than 16.53% of Python3 online submissions for Dota2 Senate.\n",
    "* Memory Usage: 13.1 MB, less than 100.00% of Python3 online submissions for Dota2 Senate."
   ]
  },
  {
   "cell_type": "code",
   "execution_count": null,
   "metadata": {},
   "outputs": [],
   "source": [
    "class Solution:\n",
    "    def predictPartyVictory(self, senate: str) -> str:\n",
    "        '''Predict the party victory by greedy.'''\n",
    "        senate = [ch for ch in senate]\n",
    "        l, r = 0, 1\n",
    "        same_cnt = 0\n",
    "        while len(senate) > 1 and len(senate) != same_cnt:\n",
    "            if senate[r] == senate[l]:\n",
    "                r = (r+1) % len(senate)\n",
    "                same_cnt += 1\n",
    "            else:\n",
    "                del(senate[r])\n",
    "                same_cnt = 0\n",
    "                l = (l+1) % len(senate) if l < r else l % len(senate)\n",
    "                r %= len(senate)\n",
    "        return 'Radiant' if senate[0] == 'R' else 'Dire'"
   ]
  },
  {
   "cell_type": "code",
   "execution_count": null,
   "metadata": {},
   "outputs": [],
   "source": [
    "eq(Solution().predictPartyVictory(\"RD\"), \"Radiant\")\n",
    "eq(Solution().predictPartyVictory(\"RDD\"), \"Dire\")\n",
    "eq(Solution().predictPartyVictory(\"RDDR\"), \"Radiant\")\n",
    "eq(Solution().predictPartyVictory(\"DDRRR\"), \"Dire\")\n",
    "eq(Solution().predictPartyVictory(\"DDD\"), \"Dire\")\n",
    "eq(Solution().predictPartyVictory(\"DDDR\"), \"Dire\")"
   ]
  },
  {
   "cell_type": "markdown",
   "metadata": {},
   "source": [
    "### Simulation "
   ]
  },
  {
   "cell_type": "markdown",
   "metadata": {},
   "source": [
    "* Runtime: 80 ms, faster than 49.59% of Python3 online submissions for Dota2 Senate.\n",
    "* Memory Usage: 13 MB, less than 100.00% of Python3 online submissions for Dota2 Senate."
   ]
  },
  {
   "cell_type": "code",
   "execution_count": null,
   "metadata": {},
   "outputs": [],
   "source": [
    "from collections import deque\n",
    "class Solution:\n",
    "    def predictPartyVictory(self, senate: str) -> str:\n",
    "        '''Predict the party victory by simulation.'''\n",
    "        # 0 for D, 1 for R\n",
    "        queue = deque()\n",
    "        people, bans = [0, 0], [0, 0]\n",
    "        \n",
    "        for person in senate:\n",
    "            x = person == 'R'\n",
    "            people[x] += 1\n",
    "            queue.append(x)\n",
    "            \n",
    "        while all(people):\n",
    "            x = queue.popleft()\n",
    "            if bans[x]:\n",
    "                bans[x] -= 1\n",
    "                people[x] -= 1\n",
    "            else:\n",
    "                bans[x^1] += 1\n",
    "                queue.append(x)\n",
    "        \n",
    "        return \"Radiant\" if people[1] else \"Dire\""
   ]
  },
  {
   "cell_type": "code",
   "execution_count": null,
   "metadata": {},
   "outputs": [],
   "source": [
    "eq(Solution().predictPartyVictory(\"RD\"), \"Radiant\")\n",
    "eq(Solution().predictPartyVictory(\"RDD\"), \"Dire\")\n",
    "eq(Solution().predictPartyVictory(\"RDDR\"), \"Radiant\")\n",
    "eq(Solution().predictPartyVictory(\"DDRRR\"), \"Dire\")\n",
    "eq(Solution().predictPartyVictory(\"DDD\"), \"Dire\")\n",
    "eq(Solution().predictPartyVictory(\"DDDR\"), \"Dire\")"
   ]
  },
  {
   "cell_type": "markdown",
   "metadata": {},
   "source": [
    "## 765 [Couples Holding Hands](https://leetcode.com/problems/couples-holding-hands/) - H "
   ]
  },
  {
   "cell_type": "markdown",
   "metadata": {},
   "source": [
    "### Union Find (UFS)"
   ]
  },
  {
   "cell_type": "markdown",
   "metadata": {},
   "source": [
    "* Runtime: 28 ms, faster than 84.12% of Python3 online submissions for Couples Holding Hands.\n",
    "* Memory Usage: 13 MB, less than 100.00% of Python3 online submissions for Couples Holding Hands."
   ]
  },
  {
   "cell_type": "code",
   "execution_count": null,
   "metadata": {},
   "outputs": [],
   "source": [
    "from collections import Counter\n",
    "class UFS:\n",
    "    def __init__(self, N: int):\n",
    "        self.root = [i for i in range(N)]\n",
    "    \n",
    "    def find(self, x: int) -> int:\n",
    "        if x != self.root[x]:\n",
    "            self.root[x] = self.find(self.root[x])\n",
    "        return self.root[x]\n",
    "    \n",
    "    def union(self, x: int, y: int):\n",
    "        self.root[self.find(x)] = self.find(y)\n",
    "    \n",
    "class Solution:\n",
    "    def minSwapsCouples(self, row: List[int]) -> int:\n",
    "        N = len(row) // 2\n",
    "        if N == 0:\n",
    "            return 0\n",
    "        ufs = UFS(N)\n",
    "        hash = {row[i]:i//2 for i in range(2*N)}\n",
    "        for i in range(N):\n",
    "            ufs.union(hash[2*i], hash[2*i+1])\n",
    "        cnt = Counter([ufs.find(i) for i in range(N)])\n",
    "        return sum(cnt.values()) - len(cnt)"
   ]
  },
  {
   "cell_type": "code",
   "execution_count": null,
   "metadata": {},
   "outputs": [],
   "source": [
    "# test\n",
    "eq(Solution().minSwapsCouples([0,2,1,3]), 1)\n",
    "eq(Solution().minSwapsCouples([3,2,0,1]), 0)"
   ]
  }
 ],
 "metadata": {
  "file_extension": ".py",
  "kernelspec": {
   "display_name": "Python 3",
   "language": "python",
   "name": "python3"
  },
  "language_info": {
   "codemirror_mode": {
    "name": "ipython",
    "version": 3
   },
   "file_extension": ".py",
   "mimetype": "text/x-python",
   "name": "python",
   "nbconvert_exporter": "python",
   "pygments_lexer": "ipython3",
   "version": "3.6.9"
  },
  "mimetype": "text/x-python",
  "name": "python",
  "npconvert_exporter": "python",
  "pygments_lexer": "ipython3",
  "toc": {
   "base_numbering": 1,
   "nav_menu": {},
   "number_sections": false,
   "sideBar": true,
   "skip_h1_title": true,
   "title_cell": "Table of Contents",
   "title_sidebar": "Contents",
   "toc_cell": false,
   "toc_position": {
    "height": "calc(100% - 180px)",
    "left": "10px",
    "top": "150px",
    "width": "165px"
   },
   "toc_section_display": true,
   "toc_window_display": true
  },
  "version": 3
 },
 "nbformat": 4,
 "nbformat_minor": 2
}
