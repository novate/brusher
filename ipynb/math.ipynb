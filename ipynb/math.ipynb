{
 "cells": [
  {
   "cell_type": "markdown",
   "metadata": {},
   "source": [
    "# Math"
   ]
  },
  {
   "cell_type": "markdown",
   "metadata": {},
   "source": [
    "And Brainteasers hahaha! "
   ]
  },
  {
   "cell_type": "markdown",
   "metadata": {},
   "source": [
    "## Pre run"
   ]
  },
  {
   "cell_type": "code",
   "execution_count": null,
   "metadata": {
    "ExecuteTime": {
     "end_time": "2020-02-23T15:42:58.168163Z",
     "start_time": "2020-02-23T15:42:58.161171Z"
    }
   },
   "outputs": [],
   "source": [
    "from typing import List\n",
    "from helpers.misc import *"
   ]
  },
  {
   "cell_type": "markdown",
   "metadata": {},
   "source": [
    "## 1227 [Airplane Seat Assignment Probability](https://leetcode.com/problems/airplane-seat-assignment-probability/) - M"
   ]
  },
  {
   "cell_type": "markdown",
   "metadata": {},
   "source": [
    "### Brainteaser "
   ]
  },
  {
   "cell_type": "markdown",
   "metadata": {},
   "source": [
    " f(1) = 1\n",
    " \n",
    " f(2) = 1/2 * 1 + 1/2 * 0\n",
    " \n",
    " f(3) = 1/3 * 1 + 1/3 * f(2) + 1/3 * 0\n",
    "      = 1/3 * 1 + 1/3 * 1/2 + 1/3 * 0\n",
    "      = 1/2\n",
    " \n",
    " ...\n",
    " \n",
    " \n",
    " f(n) = 1/n * 1 + 1/n * 0 + (n-2)/n * 1/2\n",
    "      = 1/2"
   ]
  },
  {
   "cell_type": "code",
   "execution_count": null,
   "metadata": {
    "ExecuteTime": {
     "end_time": "2020-02-23T15:47:21.383174Z",
     "start_time": "2020-02-23T15:47:21.379171Z"
    }
   },
   "outputs": [],
   "source": [
    "class Solution:\n",
    "    def nthPersonGetsNthSeat(self, n: int) -> float:\n",
    "        '''Wow! such a brain teaser!'''\n",
    "        return 1.0 if n == 1 else 0.5"
   ]
  },
  {
   "cell_type": "code",
   "execution_count": null,
   "metadata": {
    "ExecuteTime": {
     "end_time": "2020-02-23T15:47:52.991111Z",
     "start_time": "2020-02-23T15:47:52.987140Z"
    }
   },
   "outputs": [],
   "source": [
    "# test\n",
    "eq(Solution().nthPersonGetsNthSeat(1), 1.0)\n",
    "eq(Solution().nthPersonGetsNthSeat(666), 0.5)"
   ]
  }
 ],
 "metadata": {
  "file_extension": ".py",
  "kernelspec": {
   "display_name": "Python 3",
   "language": "python",
   "name": "python3"
  },
  "language_info": {
   "codemirror_mode": {
    "name": "ipython",
    "version": 3
   },
   "file_extension": ".py",
   "mimetype": "text/x-python",
   "name": "python",
   "nbconvert_exporter": "python",
   "pygments_lexer": "ipython3",
   "version": "3.8.1"
  },
  "mimetype": "text/x-python",
  "name": "python",
  "npconvert_exporter": "python",
  "pygments_lexer": "ipython3",
  "toc": {
   "base_numbering": 1,
   "nav_menu": {},
   "number_sections": false,
   "sideBar": true,
   "skip_h1_title": true,
   "title_cell": "Table of Contents",
   "title_sidebar": "Contents",
   "toc_cell": false,
   "toc_position": {},
   "toc_section_display": true,
   "toc_window_display": true
  },
  "version": 3
 },
 "nbformat": 4,
 "nbformat_minor": 2
}
