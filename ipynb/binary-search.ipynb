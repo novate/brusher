{
 "cells": [
  {
   "cell_type": "markdown",
   "metadata": {},
   "source": [
    "# Binary Search"
   ]
  },
  {
   "cell_type": "markdown",
   "metadata": {},
   "source": [
    "## Pre-run "
   ]
  },
  {
   "cell_type": "code",
   "execution_count": null,
   "metadata": {},
   "outputs": [],
   "source": [
    "from typing import List\n",
    "from helpers.misc import *"
   ]
  },
  {
   "cell_type": "markdown",
   "metadata": {},
   "source": [
    "## General"
   ]
  },
  {
   "cell_type": "markdown",
   "metadata": {},
   "source": [
    "\\[Solution 1\\]\n",
    "1. sort list\n",
    "2. `l = 0, r = len(list)`\n",
    "3. while `l < r`, `m = (l+r) / 2`\n",
    "4. compare `target` and `list[m]`:\n",
    "    * `==`: `return m`\n",
    "    * `<`: `r = m`\n",
    "    * `>`: `l = m+1`\n",
    "5. if not found, `l` or `r` is the place of insertion\n",
    "\n",
    "\\[Solution 2\\]\n",
    "1. sort list\n",
    "2. `l = 0, r = len(list)-1`\n",
    "3. while `l <= r`, `m = (l+r) / 2`\n",
    "4. compare `target` and `list[m]`:\n",
    "    * `==`: `return m`\n",
    "    * `<`: `r = m-1`\n",
    "    * `>`: `l = m+1`\n",
    "5. if not found, `l` or `r-1` is the place of insertion\n",
    "\n",
    "\n",
    "* **CAUTION**: always take care of `<` and `>` in step 4\n",
    "* **TRICK**: to avoid a mistake, put `target` to the front of `num[m]`"
   ]
  },
  {
   "cell_type": "markdown",
   "metadata": {},
   "source": [
    "## Note "
   ]
  },
  {
   "cell_type": "markdown",
   "metadata": {},
   "source": [
    "* Traditional BS: [35](https://leetcode.com/problems/search-insert-position), [704](https://leetcode.com/problems/binary-search/)\n",
    "* Lower and Upper bound by BS: [34](https://leetcode.com/problems/find-first-and-last-position-of-element-in-sorted-array/)\n",
    "* Rotated Sorted Arrays: [33](https://leetcode.com/problems/search-in-rotated-sorted-array), [81](https://leetcode.com/problems/search-in-rotated-sorted-array-ii), [153](https://leetcode.com/problems/find-minimum-in-rotated-sorted-array), [154](https://leetcode.com/problems/find-minimum-in-rotated-sorted-array-ii)\n",
    "    * For sorted arrays with duplicates, recursion with tree trimming is recommended."
   ]
  },
  {
   "cell_type": "markdown",
   "metadata": {},
   "source": [
    "## 35 [Search Insert Position](https://leetcode.com/problems/search-insert-position) - E"
   ]
  },
  {
   "cell_type": "markdown",
   "metadata": {},
   "source": [
    "* Runtime: 44 ms, faster than 91.82% of Python3 online submissions for Search Insert Position.\n",
    "* Memory Usage: 13.6 MB, less than 83.58% of Python3 online submissions for Search Insert Position."
   ]
  },
  {
   "cell_type": "code",
   "execution_count": null,
   "metadata": {},
   "outputs": [],
   "source": [
    "class Solution:\n",
    "    def searchInsert(self, nums: List[int], target: int) -> int:\n",
    "        '''Search the insertion place by BS.'''\n",
    "        l, r = 0, len(nums)\n",
    "        while l < r:\n",
    "            m = (l+r) // 2\n",
    "            if target == nums[m]:\n",
    "                return m\n",
    "            elif target < nums[m]:\n",
    "                r = m\n",
    "            else:\n",
    "                l = m+1\n",
    "        return l"
   ]
  },
  {
   "cell_type": "code",
   "execution_count": null,
   "metadata": {},
   "outputs": [],
   "source": [
    "class Solution:\n",
    "    def searchInsert(self, nums: List[int], target: int) -> int:\n",
    "        '''A simple binary search.'''\n",
    "        l, r = 0, len(nums)-1\n",
    "        while l <= r:\n",
    "            m = (l+r) // 2\n",
    "            if target == nums[m]:\n",
    "                return m\n",
    "            elif target < nums[m]:\n",
    "                r = m-1\n",
    "            else:\n",
    "                l = m+1\n",
    "        return l"
   ]
  },
  {
   "cell_type": "code",
   "execution_count": null,
   "metadata": {},
   "outputs": [],
   "source": [
    "# test\n",
    "eq(Solution().searchInsert([1,3,5,6], 5), 2)\n",
    "eq(Solution().searchInsert([1,3,5,6], 1), 0)\n",
    "eq(Solution().searchInsert([1,3,5,6], 6), 3)\n",
    "eq(Solution().searchInsert([1,3,5,6], 0), 0)\n",
    "eq(Solution().searchInsert([1,3,5,6], 7), 4)"
   ]
  },
  {
   "cell_type": "markdown",
   "metadata": {},
   "source": [
    "## 34 [Find First and Last Position of Element in Sorted Array](https://leetcode.com/problems/find-first-and-last-position-of-element-in-sorted-array/) - M"
   ]
  },
  {
   "cell_type": "markdown",
   "metadata": {},
   "source": [
    "* Runtime: 80 ms, faster than 96.99% of Python3 online submissions for Find First and Last Position of Element in Sorted Array.\n",
    "* Memory Usage: 14.1 MB, less than 5.36% of Python3 online submissions for Find First and Last Position of Element in Sorted Array."
   ]
  },
  {
   "cell_type": "code",
   "execution_count": null,
   "metadata": {},
   "outputs": [],
   "source": [
    "class Solution:\n",
    "    def searchRange(self, nums: List[int], target: int) -> List[int]:\n",
    "        '''Search the lower and upper pos in sorted array.'''\n",
    "        def lower_pos() -> int:\n",
    "            '''Search the lower pos.'''\n",
    "            l, r = 0, len(nums)\n",
    "            while l < r:\n",
    "                m = (l+r) // 2\n",
    "                if target <= nums[m]:\n",
    "                    r = m\n",
    "                else:\n",
    "                    l = m+1\n",
    "            if l == len(nums) or nums[l] != target:\n",
    "                return -1\n",
    "            else:\n",
    "                return l\n",
    "            \n",
    "        def upper_pos() -> int:\n",
    "            '''Search the upper pos.'''\n",
    "            l, r = 0, len(nums)\n",
    "            while l < r:\n",
    "                m = (l+r) // 2\n",
    "                if target < nums[m]:\n",
    "                    r = m\n",
    "                else:\n",
    "                    l = m+1\n",
    "            l -= 1\n",
    "            if l == -1 or nums[l] != target:\n",
    "                return -1\n",
    "            else:\n",
    "                return l\n",
    "        \n",
    "        return [lower_pos(), upper_pos()]"
   ]
  },
  {
   "cell_type": "code",
   "execution_count": null,
   "metadata": {},
   "outputs": [],
   "source": [
    "# test\n",
    "eq(Solution().searchRange([5,7,7,8,8,10], 8), [3,4])\n",
    "eq(Solution().searchRange([5,7,7,8,8,10], 6), [-1,-1])"
   ]
  },
  {
   "cell_type": "markdown",
   "metadata": {},
   "source": [
    "## 704 [Binary Search](https://leetcode.com/problems/binary-search/) - E"
   ]
  },
  {
   "cell_type": "markdown",
   "metadata": {},
   "source": [
    "* Runtime: 252 ms, faster than 94.05% of Python3 online submissions for Binary Search.\n",
    "* Memory Usage: 14.2 MB, less than 41.94% of Python3 online submissions for Binary Search."
   ]
  },
  {
   "cell_type": "code",
   "execution_count": null,
   "metadata": {},
   "outputs": [],
   "source": [
    "class Solution:\n",
    "    def search(self, nums: List[int], target: int) -> int:\n",
    "        '''A simple binary search.'''\n",
    "        l, r = 0, len(nums)\n",
    "        while l < r:\n",
    "            m = (l+r) // 2\n",
    "            if target == nums[m]:\n",
    "                return m\n",
    "            elif target < nums[m]:\n",
    "                r = m\n",
    "            else:\n",
    "                l = m+1\n",
    "        return -1"
   ]
  },
  {
   "cell_type": "code",
   "execution_count": null,
   "metadata": {},
   "outputs": [],
   "source": [
    "class Solution:\n",
    "    def search(self, nums: List[int], target: int) -> int:\n",
    "        '''A simple binary search.'''\n",
    "        l, r = 0, len(nums)-1\n",
    "        while l <= r:\n",
    "            m = (l+r) // 2\n",
    "            if target == nums[m]:\n",
    "                return m\n",
    "            elif target < nums[m]:\n",
    "                r = m-1\n",
    "            else:\n",
    "                l = m+1\n",
    "        return -1"
   ]
  },
  {
   "cell_type": "code",
   "execution_count": null,
   "metadata": {},
   "outputs": [],
   "source": [
    "# test\n",
    "eq(Solution().search([-1,0,3,5,9,12], 9), 4)\n",
    "eq(Solution().search([-1,0,3,5,9,12], 12), 5)\n",
    "eq(Solution().search([-1,0,3,5,9,12], -1), 0)\n",
    "eq(Solution().search([-1,0,3,5,9,12], 6), -1)"
   ]
  },
  {
   "cell_type": "markdown",
   "metadata": {},
   "source": [
    "## 981 [Time Based Key-Value Store](https://leetcode.com/problems/time-based-key-value-store/) - M"
   ]
  },
  {
   "cell_type": "markdown",
   "metadata": {},
   "source": [
    "### HashMap + BS  "
   ]
  },
  {
   "cell_type": "markdown",
   "metadata": {},
   "source": [
    "* Runtime: 872 ms, faster than 24.62% of Python3 online submissions for Time Based Key-Value Store.\n",
    "* Memory Usage: 68.4 MB, less than 20.00% of Python3 online submissions for Time Based Key-Value Store."
   ]
  },
  {
   "cell_type": "code",
   "execution_count": null,
   "metadata": {},
   "outputs": [],
   "source": [
    "class TimeMap:\n",
    "\n",
    "    def __init__(self):\n",
    "        \"\"\"\n",
    "        Initialize your data structure here.\n",
    "        \"\"\"\n",
    "        # key: key, value: (timestamp, value)\n",
    "        self.h = {}\n",
    "\n",
    "    def set(self, key: str, value: str, timestamp: int) -> None:\n",
    "        '''Set the hashmap.'''\n",
    "#         if key not in self.h:\n",
    "#             self.h[key] = [(timestamp, value)]\n",
    "#         else:\n",
    "#             self.h[key].append((timestamp, value))\n",
    "        self.h[key] = self.h.get(key, []) + [(timestamp, value)]\n",
    "        \n",
    "\n",
    "    def get(self, key: str, timestamp: int) -> str:\n",
    "        '''Get string from hashmap.'''\n",
    "        if key not in self.h:\n",
    "            return \"\"\n",
    "        tvs = self.h[key]\n",
    "        l, r = 0, len(tvs)\n",
    "        while l < r:\n",
    "            m = (l+r) // 2\n",
    "            if timestamp == tvs[m][0]:\n",
    "                return tvs[m][1]\n",
    "            elif timestamp < tvs[m][0]:\n",
    "                r = m\n",
    "            else:\n",
    "                l = m+1\n",
    "        if l == 0:\n",
    "            return \"\"\n",
    "        else:\n",
    "            return tvs[l-1][1]"
   ]
  },
  {
   "cell_type": "code",
   "execution_count": null,
   "metadata": {},
   "outputs": [],
   "source": [
    "# test\n",
    "obj = TimeMap()\n",
    "obj.set(\"foo\", \"bar\", 1)\n",
    "eq(obj.get(\"foo\", 1), \"bar\")\n",
    "eq(obj.get(\"foo\", 3), \"bar\")\n",
    "obj.set(\"foo\", \"bar2\", 4)\n",
    "eq(obj.get(\"foo\", 3), \"bar\")\n",
    "eq(obj.get(\"foo\", 4), \"bar2\")\n",
    "eq(obj.get(\"foo\", 5), \"bar2\")"
   ]
  },
  {
   "cell_type": "markdown",
   "metadata": {},
   "source": [
    "## 33 [Search in Rotated Sorted Array](https://leetcode.com/problems/search-in-rotated-sorted-array/) - M "
   ]
  },
  {
   "cell_type": "markdown",
   "metadata": {},
   "source": [
    "### Recursion "
   ]
  },
  {
   "cell_type": "markdown",
   "metadata": {},
   "source": [
    "* Runtime: 44 ms, faster than 28.19% of Python3 online submissions for Search in Rotated Sorted Array.\n",
    "* Memory Usage: 13.2 MB, less than 83.92% of Python3 online submissions for Search in Rotated Sorted Array."
   ]
  },
  {
   "cell_type": "code",
   "execution_count": null,
   "metadata": {},
   "outputs": [],
   "source": [
    "class Solution:\n",
    "    def search(self, nums: List[int], target: int) -> int:\n",
    "        '''Search in Rotated Sorted Array by recursion.'''\n",
    "        if not nums:\n",
    "            return -1\n",
    "        if len(nums) == 1:\n",
    "            return 0 if nums[0] == target else -1\n",
    "        # TRICK: trim tree if sorted\n",
    "        if nums[0] < nums[-1] and (target < nums[0] or target > nums[-1]):\n",
    "            return -1\n",
    "        a = self.search(nums[:len(nums)//2], target)\n",
    "        if a != -1:\n",
    "            return a\n",
    "        else:\n",
    "            a = self.search(nums[len(nums)//2:], target)\n",
    "            return len(nums)//2+a if a != -1 else -1"
   ]
  },
  {
   "cell_type": "code",
   "execution_count": null,
   "metadata": {
    "scrolled": false
   },
   "outputs": [],
   "source": [
    "# test\n",
    "eq(Solution().search([4,5,6,7,0,1,2], 0), 4)\n",
    "eq(Solution().search([4,5,6,7,0,1,2], 3), -1)\n",
    "eq(Solution().search([3,1], 1), 1)\n",
    "eq(Solution().search([1], 1), 0)\n",
    "eq(Solution().search([5,1,3], 1), 1)"
   ]
  },
  {
   "cell_type": "markdown",
   "metadata": {},
   "source": [
    "### Iteration 1"
   ]
  },
  {
   "cell_type": "markdown",
   "metadata": {},
   "source": [
    "* Runtime: 40 ms, faster than 65.54% of Python3 online submissions for Search in Rotated Sorted Array.\n",
    "* Memory Usage: 13.2 MB, less than 72.03% of Python3 online submissions for Search in Rotated Sorted Array."
   ]
  },
  {
   "cell_type": "code",
   "execution_count": null,
   "metadata": {},
   "outputs": [],
   "source": [
    "class Solution:\n",
    "    def search(self, nums: List[int], target: int) -> int:\n",
    "        '''Search in rotated sorted array using Binary Search.\n",
    "        \n",
    "        There are two monotonically increasing intervals.\n",
    "        Suppose the index of pivot is p, then the two intervals are:\n",
    "        big_interval = nums[:p] and small_interval = nums[p:]\n",
    "        The smallest number in big_interval is greater than the greatest number in small_interval,\n",
    "        thus every number in big_interval is greater than every number in small_interval.\n",
    "        '''\n",
    "        return self._recursive_bs(nums, target, 0, len(nums))\n",
    "    \n",
    "    def _recursive_bs(self, nums: List[int], target: int, l: int, r: int) -> int:\n",
    "        '''Recursive Binary Search.\n",
    "        \n",
    "        Find target in nums[l:r].\n",
    "        If found return index, else return -1.\n",
    "        '''\n",
    "        while l < r:\n",
    "            m = (l + r - 1) // 2\n",
    "            if target == nums[m]:\n",
    "                return m\n",
    "            elif (nums[l] <= target and target < nums[m]) or (nums[l] > nums[m] and (target < nums[m] or nums[l] <= target)):\n",
    "                return self._recursive_bs(nums, target, l, m)\n",
    "            else:\n",
    "                return self._recursive_bs(nums, target, m+1, len(nums))\n",
    "        return -1"
   ]
  },
  {
   "cell_type": "code",
   "execution_count": null,
   "metadata": {
    "scrolled": false
   },
   "outputs": [],
   "source": [
    "# test\n",
    "eq(Solution().search([4,5,6,7,0,1,2], 0), 4)\n",
    "eq(Solution().search([4,5,6,7,0,1,2], 3), -1)\n",
    "eq(Solution().search([3,1], 1), 1)\n",
    "eq(Solution().search([1], 1), 0)\n",
    "eq(Solution().search([5,1,3], 1), 1)"
   ]
  },
  {
   "cell_type": "markdown",
   "metadata": {},
   "source": [
    "### Iteration 2"
   ]
  },
  {
   "cell_type": "markdown",
   "metadata": {},
   "source": [
    "* Runtime: 32 ms, faster than 96.80% of Python3 online submissions for Search in Rotated Sorted Array.\n",
    "* Memory Usage: 13.2 MB, less than 76.22% of Python3 online submissions for Search in Rotated Sorted Array."
   ]
  },
  {
   "cell_type": "code",
   "execution_count": null,
   "metadata": {},
   "outputs": [],
   "source": [
    "class Solution:\n",
    "    def search(self, nums: List[int], target: int) -> int:\n",
    "        '''Search in rotated sorted array using Binary Search.'''\n",
    "        if not nums:\n",
    "            return -1\n",
    "        # find the smallest\n",
    "        # CAUTION: Should not use r = len(nums)\n",
    "        l, r = 0, len(nums)-1\n",
    "        while l < r:\n",
    "            m = (l+r) // 2\n",
    "            if nums[m] > nums[r]:\n",
    "                l = m+1\n",
    "            else:\n",
    "                r = m\n",
    "        \n",
    "        p = l\n",
    "        if p != 0 and nums[0] <= target <= nums[p-1]:\n",
    "            l, r = 0, p\n",
    "        else:\n",
    "            l, r = p, len(nums)\n",
    "        \n",
    "        # do general BS\n",
    "        while l < r:\n",
    "            m = (l+r) // 2\n",
    "            if target == nums[m]:\n",
    "                return m\n",
    "            elif target < nums[m]:\n",
    "                r = m\n",
    "            else:\n",
    "                l = m+1\n",
    "        \n",
    "        return -1"
   ]
  },
  {
   "cell_type": "code",
   "execution_count": null,
   "metadata": {},
   "outputs": [],
   "source": [
    "class Solution:\n",
    "    def search(self, nums: List[int], target: int) -> int:\n",
    "        '''Search in rotated sorted array using Binary Search.'''\n",
    "        if not nums:\n",
    "            return -1\n",
    "        # find the smallest\n",
    "        # CAUTION: Should not use r = len(nums)\n",
    "        l, r = 0, len(nums)-1\n",
    "        while l < r:\n",
    "            m = (l+r) // 2\n",
    "            if nums[m] > nums[r]:\n",
    "                l = m+1\n",
    "            else:\n",
    "                r = m\n",
    "        \n",
    "        p = l\n",
    "        if p != 0 and nums[0] <= target <= nums[p-1]:\n",
    "            l, r = 0, p-1\n",
    "        else:\n",
    "            l, r = p, len(nums)-1\n",
    "        \n",
    "        # do general BS\n",
    "        while l <= r:\n",
    "            m = (l+r) // 2\n",
    "            if target == nums[m]:\n",
    "                return m\n",
    "            elif target < nums[m]:\n",
    "                r = m-1\n",
    "            else:\n",
    "                l = m+1\n",
    "        \n",
    "        return -1"
   ]
  },
  {
   "cell_type": "code",
   "execution_count": null,
   "metadata": {},
   "outputs": [],
   "source": [
    "# test\n",
    "eq(Solution().search([4,5,6,7,0,1,2], 0), 4)\n",
    "eq(Solution().search([4,5,6,7,0,1,2], 3), -1)\n",
    "eq(Solution().search([3,1], 1), 1)\n",
    "eq(Solution().search([1], 1), 0)\n",
    "eq(Solution().search([5,1,3], 1), 1)\n",
    "eq(Solution().search([1,3], 1), 0)"
   ]
  },
  {
   "cell_type": "markdown",
   "metadata": {},
   "source": [
    "## 81 [Search in Rotated Sorted Array II](https://leetcode.com/problems/search-in-rotated-sorted-array-ii/) - M"
   ]
  },
  {
   "cell_type": "markdown",
   "metadata": {},
   "source": [
    "### Recursion"
   ]
  },
  {
   "cell_type": "markdown",
   "metadata": {},
   "source": [
    "* Runtime: 48 ms, faster than 91.03% of Python3 online submissions for Search in Rotated Sorted Array II.\n",
    "* Memory Usage: 13 MB, less than 100.00% of Python3 online submissions for Search in Rotated Sorted Array II."
   ]
  },
  {
   "cell_type": "code",
   "execution_count": null,
   "metadata": {},
   "outputs": [],
   "source": [
    "class Solution:\n",
    "    def search(self, nums: List[int], target: int) -> bool:\n",
    "        '''Search in rotated sorted array with duplicates by recursion.'''\n",
    "        if len(nums) == 0:\n",
    "            return False\n",
    "        if len(nums) == 1:\n",
    "            return nums[0] == target\n",
    "        # TRICK: trim tree if sorted\n",
    "        if nums[0] < nums[-1] and (target < nums[0] or target > nums[-1]):\n",
    "            return False\n",
    "        return self.search(nums[:len(nums)//2], target) or self.search(nums[len(nums)//2:], target)"
   ]
  },
  {
   "cell_type": "code",
   "execution_count": null,
   "metadata": {},
   "outputs": [],
   "source": [
    "# test\n",
    "eq(Solution().search([2,5,6,0,0,1,2], 0), True)\n",
    "eq(Solution().search([2,5,6,0,0,1,2], 3), False)"
   ]
  },
  {
   "cell_type": "markdown",
   "metadata": {},
   "source": [
    "## 153 [Find Minimum in Rotated Sorted Array](https://leetcode.com/problems/find-minimum-in-rotated-sorted-array/) - M"
   ]
  },
  {
   "cell_type": "markdown",
   "metadata": {},
   "source": [
    "### Recursion"
   ]
  },
  {
   "cell_type": "markdown",
   "metadata": {},
   "source": [
    "* Runtime: 44 ms, faster than 18.25% of Python3 online submissions for Find Minimum in Rotated Sorted Array.\n",
    "* Memory Usage: 13.2 MB, less than 72.00% of Python3 online submissions for Find Minimum in Rotated Sorted Array."
   ]
  },
  {
   "cell_type": "code",
   "execution_count": null,
   "metadata": {},
   "outputs": [],
   "source": [
    "class Solution:\n",
    "    def findMin(self, nums: List[int]) -> int:\n",
    "        '''Find minimum in rotated sorted array by recursion.'''\n",
    "        if len(nums) == 1:\n",
    "            return nums[0]\n",
    "        if nums[0] < nums[-1]:\n",
    "            return nums[0]\n",
    "        m = len(nums) // 2\n",
    "        return min(self.findMin(nums[:m]), self.findMin(nums[m:]))"
   ]
  },
  {
   "cell_type": "code",
   "execution_count": null,
   "metadata": {},
   "outputs": [],
   "source": [
    "# test\n",
    "eq(Solution().findMin([3,4,5,1,2]), 1)\n",
    "eq(Solution().findMin([3,4,5,6,7]), 3)\n",
    "eq(Solution().findMin([3,4,5,6,0]), 0)"
   ]
  },
  {
   "cell_type": "markdown",
   "metadata": {},
   "source": [
    "### Iteration 1 "
   ]
  },
  {
   "cell_type": "markdown",
   "metadata": {},
   "source": [
    "* Runtime: 40 ms, faster than 60.39% of Python3 online submissions for Find Minimum in Rotated Sorted Array.\n",
    "* Memory Usage: 13.1 MB, less than 90.00% of Python3 online submissions for Find Minimum in Rotated Sorted Array."
   ]
  },
  {
   "cell_type": "code",
   "execution_count": null,
   "metadata": {},
   "outputs": [],
   "source": [
    "class Solution:\n",
    "    def findMin(self, nums: List[int]) -> int:\n",
    "        '''Find minimum in rotated sorted array by iteration 1.'''\n",
    "        l, r = 0, len(nums)\n",
    "        while l < r:\n",
    "            m = (l+r) // 2\n",
    "            if nums[m] > nums[-1]:\n",
    "                l = m+1\n",
    "            else:\n",
    "                r = m\n",
    "        return nums[l]"
   ]
  },
  {
   "cell_type": "code",
   "execution_count": null,
   "metadata": {},
   "outputs": [],
   "source": [
    "# test\n",
    "eq(Solution().findMin([3,4,5,1,2]), 1)\n",
    "eq(Solution().findMin([3,4,5,6,7]), 3)\n",
    "eq(Solution().findMin([3,4,5,6,0]), 0)"
   ]
  },
  {
   "cell_type": "markdown",
   "metadata": {},
   "source": [
    "### Iteration 2"
   ]
  },
  {
   "cell_type": "markdown",
   "metadata": {},
   "source": [
    "* Runtime: 36 ms, faster than 83.75% of Python3 online submissions for Find Minimum in Rotated Sorted Array.\n",
    "* Memory Usage: 13.2 MB, less than 74.00% of Python3 online submissions for Find Minimum in Rotated Sorted Array."
   ]
  },
  {
   "cell_type": "code",
   "execution_count": null,
   "metadata": {},
   "outputs": [],
   "source": [
    "class Solution:\n",
    "    def findMin(self, nums: List[int]) -> int:\n",
    "        '''Find minimum in rotated sorted array by iteration 2.'''\n",
    "        l, r = 0, len(nums)-1\n",
    "        while l < r:\n",
    "            m = (l+r) // 2\n",
    "            if nums[m] > nums[r]:\n",
    "                l = m+1\n",
    "            else:\n",
    "                # TRICK: beware, r is not m-1 but m\n",
    "                r = m\n",
    "        return nums[l]"
   ]
  },
  {
   "cell_type": "code",
   "execution_count": null,
   "metadata": {},
   "outputs": [],
   "source": [
    "# test\n",
    "eq(Solution().findMin([3,4,5,1,2]), 1)\n",
    "eq(Solution().findMin([3,4,5,6,7]), 3)\n",
    "eq(Solution().findMin([3,4,5,6,0]), 0)"
   ]
  },
  {
   "cell_type": "markdown",
   "metadata": {},
   "source": [
    "## 154 [Find Minimum in Rotated Sorted Array II](https://leetcode.com/problems/find-minimum-in-rotated-sorted-array-ii) - H"
   ]
  },
  {
   "cell_type": "markdown",
   "metadata": {},
   "source": [
    "* Runtime: 52 ms, faster than 70.78% of Python3 online submissions for Find Minimum in Rotated Sorted Array II.\n",
    "* Memory Usage: 13.3 MB, less than 82.35% of Python3 online submissions for Find Minimum in Rotated Sorted Array II."
   ]
  },
  {
   "cell_type": "code",
   "execution_count": null,
   "metadata": {},
   "outputs": [],
   "source": [
    "class Solution:\n",
    "    def findMin(self, nums: List[int]) -> int:\n",
    "        if len(nums) == 1:\n",
    "            return nums[0]\n",
    "        if nums[0] < nums[-1]:\n",
    "            return nums[0]\n",
    "        m = len(nums) // 2\n",
    "        return min(self.findMin(nums[:m]), self.findMin(nums[m:]))"
   ]
  },
  {
   "cell_type": "code",
   "execution_count": null,
   "metadata": {},
   "outputs": [],
   "source": [
    "# test\n",
    "eq(Solution().findMin([3,4,5,5,2]), 2)\n",
    "eq(Solution().findMin([3,4,5,6,3]), 3)\n",
    "eq(Solution().findMin([3,3,5,0,0]), 0)"
   ]
  },
  {
   "cell_type": "markdown",
   "metadata": {},
   "source": [
    "## 162 [Find Peak Element](https://leetcode.com/problems/find-peak-element/) - M"
   ]
  },
  {
   "cell_type": "markdown",
   "metadata": {},
   "source": [
    "### Recursive Linear Scan"
   ]
  },
  {
   "cell_type": "markdown",
   "metadata": {},
   "source": [
    "* Runtime: 56 ms, faster than 11.69% of Python3 online submissions for Find Peak Element.\n",
    "* Memory Usage: 13.1 MB, less than 52.94% of Python3 online submissions for Find Peak Element."
   ]
  },
  {
   "cell_type": "code",
   "execution_count": null,
   "metadata": {},
   "outputs": [],
   "source": [
    "class Solution:\n",
    "    def findPeakElement(self, nums: List[int]) -> int:\n",
    "        '''Find the index of peak element by Linear Recursion.'''\n",
    "        if len(nums) == 1:\n",
    "            return 0\n",
    "        if len(nums) == 2:\n",
    "            return 0 if nums[0] > nums[1] else 1\n",
    "        if len(nums) == 3:\n",
    "            if nums[1] > nums[0] and nums[1] > nums[2]:\n",
    "                return 1\n",
    "            elif nums[1] < nums[0]:\n",
    "                return 0\n",
    "            else:\n",
    "                return 2\n",
    "        half = len(nums)//2\n",
    "        l = self.findPeakElement(nums[:half])\n",
    "        r = self.findPeakElement(nums[half:])\n",
    "        if l == half-1 or r == 0:\n",
    "            return l if nums[l] > nums[l+1] else half+r\n",
    "        else:\n",
    "            return l"
   ]
  },
  {
   "cell_type": "code",
   "execution_count": null,
   "metadata": {},
   "outputs": [],
   "source": [
    "# test\n",
    "eq(Solution().findPeakElement([1,2,1,3,5,6,4]) in (1,5), True)\n",
    "eq(Solution().findPeakElement([1,2,3,6,5,4]), 3)\n",
    "eq(Solution().findPeakElement([1,2,3,4]), 3)\n",
    "eq(Solution().findPeakElement([6,5,4,3]), 0)"
   ]
  },
  {
   "cell_type": "markdown",
   "metadata": {},
   "source": [
    "### Recursive Binary Search "
   ]
  },
  {
   "cell_type": "markdown",
   "metadata": {},
   "source": [
    "* Runtime: 44 ms, faster than 73.23% of Python3 online submissions for Find Peak Element.\n",
    "* Memory Usage: 12.8 MB, less than 100.00% of Python3 online submissions for Find Peak Element."
   ]
  },
  {
   "cell_type": "code",
   "execution_count": null,
   "metadata": {},
   "outputs": [],
   "source": [
    "class Solution:\n",
    "    def findPeakElement(self, nums: List[int]) -> int:\n",
    "        '''Find the index of peak element by BS.'''\n",
    "        if len(nums) == 1:\n",
    "            return 0\n",
    "        if len(nums) == 2:\n",
    "            return 0 if nums[0] > nums[1] else 1\n",
    "        if len(nums) == 3:\n",
    "            if nums[1] > nums[0] and nums[1] > nums[2]:\n",
    "                return 1\n",
    "            elif nums[1] < nums[0]:\n",
    "                return 0\n",
    "            else:\n",
    "                return 2\n",
    "        half = len(nums)//2\n",
    "        if nums[half-1] < nums[half]:\n",
    "            return self.findPeakElement(nums[half:])+half\n",
    "        else:\n",
    "            return self.findPeakElement(nums[:half])"
   ]
  },
  {
   "cell_type": "code",
   "execution_count": null,
   "metadata": {},
   "outputs": [],
   "source": [
    "# test\n",
    "eq(Solution().findPeakElement([1,2,1,3,5,6,4]) in (1,5), True)\n",
    "eq(Solution().findPeakElement([1,2,3,6,5,4]), 3)\n",
    "eq(Solution().findPeakElement([1,2,3,4]), 3)\n",
    "eq(Solution().findPeakElement([6,5,4,3]), 0)"
   ]
  },
  {
   "cell_type": "markdown",
   "metadata": {},
   "source": [
    "### Iterative Binary Search "
   ]
  },
  {
   "cell_type": "markdown",
   "metadata": {},
   "source": [
    "* Runtime: 44 ms, faster than 73.23% of Python3 online submissions for Find Peak Element.\n",
    "* Memory Usage: 13 MB, less than 94.12% of Python3 online submissions for Find Peak Element."
   ]
  },
  {
   "cell_type": "code",
   "execution_count": null,
   "metadata": {},
   "outputs": [],
   "source": [
    "class Solution:\n",
    "    def findPeakElement(self, nums: List[int]) -> int:\n",
    "        '''Find the index of peak element by BS.'''\n",
    "        l, r = 0, len(nums)-1\n",
    "        while l < r:\n",
    "            m = (l+r) // 2\n",
    "            if nums[m] > nums[m+1]:\n",
    "                r = m\n",
    "            else:\n",
    "                l = m+1\n",
    "        return l"
   ]
  },
  {
   "cell_type": "code",
   "execution_count": null,
   "metadata": {},
   "outputs": [],
   "source": [
    "# test\n",
    "eq(Solution().findPeakElement([1,2,1,3,5,6,4]) in (1,5), True)\n",
    "eq(Solution().findPeakElement([1,2,3,6,5,4]), 3)\n",
    "eq(Solution().findPeakElement([1,2,3,4]), 3)\n",
    "eq(Solution().findPeakElement([6,5,4,3]), 0)"
   ]
  },
  {
   "cell_type": "markdown",
   "metadata": {},
   "source": [
    "## 852 [Peak Index in a Mountain Array](https://leetcode.com/problems/peak-index-in-a-mountain-array/) - E"
   ]
  },
  {
   "cell_type": "markdown",
   "metadata": {},
   "source": [
    "### Iteration "
   ]
  },
  {
   "cell_type": "markdown",
   "metadata": {},
   "source": [
    "* Runtime: 76 ms, faster than 82.80% of Python3 online submissions for Peak Index in a Mountain Array.\n",
    "* Memory Usage: 14.3 MB, less than 30.30% of Python3 online submissions for Peak Index in a Mountain Array."
   ]
  },
  {
   "cell_type": "code",
   "execution_count": null,
   "metadata": {},
   "outputs": [],
   "source": [
    "class Solution:\n",
    "    def peakIndexInMountainArray(self, A: List[int]) -> int:\n",
    "        '''Find mountain by BS.'''\n",
    "        l, r = 0, len(A)-1\n",
    "        m = (l+r) // 2\n",
    "        while 0 < m < len(A)-1:\n",
    "            m = (l+r) // 2\n",
    "            if A[m] > A[m-1] and A[m] > A[m+1]:\n",
    "                return m\n",
    "            elif A[m] <= A[m-1]:\n",
    "                r = m-1\n",
    "            else:\n",
    "                l = m+1\n",
    "        return -1"
   ]
  },
  {
   "cell_type": "code",
   "execution_count": null,
   "metadata": {},
   "outputs": [],
   "source": [
    "# test\n",
    "eq(Solution().peakIndexInMountainArray([0,2,1,0]), 1)\n",
    "eq(Solution().peakIndexInMountainArray([3,4,5,1]), 2)"
   ]
  },
  {
   "cell_type": "markdown",
   "metadata": {},
   "source": [
    "## 69 [Sqrt(x)](https://leetcode.com/problems/sqrtx/) - E"
   ]
  },
  {
   "cell_type": "markdown",
   "metadata": {},
   "source": [
    "* Runtime: 20 ms, faster than 99.27% of Python3 online submissions for Sqrt(x).\n",
    "* Memory Usage: 13 MB, less than 100.00% of Python3 online submissions for Sqrt(x)."
   ]
  },
  {
   "cell_type": "code",
   "execution_count": null,
   "metadata": {},
   "outputs": [],
   "source": [
    "class Solution:\n",
    "    def mySqrt(self, x: int) -> int:\n",
    "        '''Implement sqrt(x) by BS.'''\n",
    "        # the answer should come from 0 to x//2.\n",
    "        l, r = 0, x+1\n",
    "        while l < r:\n",
    "            m = (l+r) // 2\n",
    "            sq = m * m\n",
    "            if x == sq:\n",
    "                return m\n",
    "            elif x < sq:\n",
    "                r = m\n",
    "            else:\n",
    "                l = m+1\n",
    "        return l-1"
   ]
  },
  {
   "cell_type": "code",
   "execution_count": null,
   "metadata": {},
   "outputs": [],
   "source": [
    "# test\n",
    "from math import sqrt\n",
    "from time import time\n",
    "N = 100000\n",
    "before = time()\n",
    "for i in range(N):\n",
    "    eq(Solution().mySqrt(i), int(sqrt(i)))\n",
    "print('Avg time: {0} us.'.format(1000000 * (time() - before) / N))"
   ]
  }
 ],
 "metadata": {
  "file_extension": ".py",
  "kernelspec": {
   "display_name": "Python 3",
   "language": "python",
   "name": "python3"
  },
  "language_info": {
   "codemirror_mode": {
    "name": "ipython",
    "version": 3
   },
   "file_extension": ".py",
   "mimetype": "text/x-python",
   "name": "python",
   "nbconvert_exporter": "python",
   "pygments_lexer": "ipython3",
   "version": "3.6.9"
  },
  "mimetype": "text/x-python",
  "name": "python",
  "npconvert_exporter": "python",
  "pygments_lexer": "ipython3",
  "toc": {
   "base_numbering": 1,
   "nav_menu": {},
   "number_sections": false,
   "sideBar": true,
   "skip_h1_title": false,
   "title_cell": "Table of Contents",
   "title_sidebar": "Contents",
   "toc_cell": false,
   "toc_position": {
    "height": "calc(100% - 180px)",
    "left": "10px",
    "top": "150px",
    "width": "267px"
   },
   "toc_section_display": true,
   "toc_window_display": true
  },
  "version": 3
 },
 "nbformat": 4,
 "nbformat_minor": 2
}
