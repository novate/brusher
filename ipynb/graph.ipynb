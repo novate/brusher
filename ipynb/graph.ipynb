{
 "cells": [
  {
   "cell_type": "markdown",
   "metadata": {},
   "source": [
    "# Graph"
   ]
  },
  {
   "cell_type": "markdown",
   "metadata": {},
   "source": [
    "## Pre-run "
   ]
  },
  {
   "cell_type": "code",
   "execution_count": null,
   "metadata": {},
   "outputs": [],
   "source": [
    "from typing import List\n",
    "from helpers.misc import *"
   ]
  },
  {
   "cell_type": "markdown",
   "metadata": {},
   "source": [
    "## Union Find (UFS) "
   ]
  },
  {
   "cell_type": "markdown",
   "metadata": {},
   "source": [
    "* **TRICK 1**: DO NOT STORE ALL EDGES! UFS must be stored in O(n) space, not O(N\\*N) space!\n",
    "* **TRICK 2**: UFS `find` can make faster by **updating the root list** each time when find cannot be done in no more than 2 iterations.\n",
    "* [1202](https://leetcode.com/problems/smallest-string-with-swaps), [924](https://leetcode.com/problems/minimize-malware-spread/)"
   ]
  },
  {
   "cell_type": "code",
   "execution_count": null,
   "metadata": {},
   "outputs": [],
   "source": [
    "class UFS:\n",
    "    def __init__(self, N: int):\n",
    "        # TRICK 1: do not store all edges!\n",
    "        self.root = [i for i in range(N)]\n",
    "        \n",
    "    def find(self, x: int) -> int:\n",
    "        '''Find the root number of the union.'''\n",
    "        # TRICK 2: by doing so can make next search faster.\n",
    "        if x != self.root[x]:\n",
    "            self.root[x] = self.find(self.root[x])\n",
    "        return self.root[x]\n",
    "    \n",
    "    def union(self, x: int, y: int):\n",
    "        '''Union x and y.'''\n",
    "        x_root = self.find(x)\n",
    "        y_root = self.find(y)\n",
    "        self.root[x_root] = y_root"
   ]
  },
  {
   "cell_type": "markdown",
   "metadata": {},
   "source": [
    "## 133 [Clone Graph](https://leetcode.com/problems/clone-graph) - M"
   ]
  },
  {
   "cell_type": "markdown",
   "metadata": {},
   "source": [
    "### DFS - Queue + Hashtable "
   ]
  },
  {
   "cell_type": "markdown",
   "metadata": {},
   "source": [
    "* Runtime: 24 ms, faster than 99.82% of Python3 online submissions for Clone Graph.\n",
    "* Memory Usage: 12.7 MB, less than 100.00% of Python3 online submissions for Clone Graph."
   ]
  },
  {
   "cell_type": "code",
   "execution_count": null,
   "metadata": {},
   "outputs": [],
   "source": [
    "\"\"\"\n",
    "# Definition for a Node.\n",
    "class Node:\n",
    "    def __init__(self, x: int, next: 'Node' = None, random: 'Node' = None):\n",
    "        self.val = int(x)\n",
    "        self.next = next\n",
    "        self.random = random\n",
    "\"\"\"\n",
    "\n",
    "from collections import deque\n",
    "class Solution:\n",
    "    def cloneGraph(self, node: 'Node') -> 'Node':\n",
    "        '''Clone a graph using DFS.'''\n",
    "        # empty graph\n",
    "        if node == None:\n",
    "            return None\n",
    "\n",
    "        # final result\n",
    "        res = Node(node.val, [])\n",
    "        # traversed nodes\n",
    "        resp = {node.val:res}\n",
    "        # traversing nodes queue\n",
    "        q = deque([node])\n",
    "        \n",
    "        def dfs(cur: 'Node'):\n",
    "            '''Using DFS to solve the problem.\n",
    "            \n",
    "            cur: current node.\n",
    "            '''\n",
    "            # if queue is empty, stop traversing\n",
    "            if not q:\n",
    "                return\n",
    "            for nr in q.popleft().neighbors:\n",
    "                if nr.val not in resp:\n",
    "                    q.append(nr)\n",
    "                    resp[nr.val] = Node(nr.val, [])\n",
    "                cur.neighbors.append(resp[nr.val])\n",
    "                dfs(resp[nr.val])\n",
    "        \n",
    "        dfs(res)\n",
    "        return res"
   ]
  },
  {
   "cell_type": "markdown",
   "metadata": {},
   "source": [
    "## 138 [Copy List with Random Pointer](https://leetcode.com/problems/copy-list-with-random-pointer/) - M"
   ]
  },
  {
   "cell_type": "markdown",
   "metadata": {},
   "source": [
    "### Hashtable "
   ]
  },
  {
   "cell_type": "markdown",
   "metadata": {},
   "source": [
    "* Runtime: 36 ms, faster than 51.35% of Python3 online submissions for Copy List with Random Pointer.\n",
    "* Memory Usage: 13.6 MB, less than 100.00% of Python3 online submissions for Copy List with Random Pointer.\n",
    "* **CAUTION**: cannot use val as keys! vals are not an ID of nodes! vals can be the same!\n",
    "* **CAUTION**: always use keys that cannot be the same!"
   ]
  },
  {
   "cell_type": "code",
   "execution_count": null,
   "metadata": {},
   "outputs": [],
   "source": [
    "\"\"\"\n",
    "# Definition for a Node.\n",
    "class Node:\n",
    "    def __init__(self, x: int, next: 'Node' = None, random: 'Node' = None):\n",
    "        self.val = int(x)\n",
    "        self.next = next\n",
    "        self.random = random\n",
    "\"\"\"\n",
    "class Solution:\n",
    "    def copyRandomList(self, head: 'Node') -> 'Node':\n",
    "        '''Deep copy a random list.'''\n",
    "        if not head:\n",
    "            return None\n",
    "        \n",
    "        res = Node(head.val)\n",
    "        # TRICK: pointers are hashable.\n",
    "        # CAUTION: cannot use val as keys! vals are not an ID of nodes! vals \n",
    "        # can be the same!\n",
    "        # CAUTION: always use keys that cannot be the same!\n",
    "        res_done = {head: res}\n",
    "        \n",
    "        def dfs(cr: 'Node', cl: 'Node'):\n",
    "            '''Using DFS to solve problem.\n",
    "            \n",
    "            cr:    current node in result\n",
    "            cl:    current node in list to copy\n",
    "            '''\n",
    "            if not cl.random:\n",
    "                cr.random = None\n",
    "            else:\n",
    "                if cl.random not in res_done:\n",
    "                    res_done[cl.random] = Node(cl.random.val)\n",
    "                cr.random = res_done[cl.random]\n",
    "            \n",
    "            if not cl.next:\n",
    "                cr.next = None\n",
    "                return\n",
    "            else:\n",
    "                if cl.next not in res_done:\n",
    "                    res_done[cl.next] = Node(cl.next.val)\n",
    "                cr.next = res_done[cl.next]\n",
    "                dfs(cr.next, cl.next)\n",
    "            \n",
    "        dfs(res, head)\n",
    "        return res"
   ]
  },
  {
   "cell_type": "markdown",
   "metadata": {},
   "source": [
    "## 1202 [Smallest String With Swaps](https://leetcode.com/problems/smallest-string-with-swaps) - M"
   ]
  },
  {
   "cell_type": "markdown",
   "metadata": {},
   "source": [
    "### Union Find (UFS)"
   ]
  },
  {
   "cell_type": "markdown",
   "metadata": {},
   "source": [
    "* UFS must be stored in O(n) space, not O(N\\*N) space!\n",
    "* UFS `find` can be made faster by **updating the root list** each time when find cannot be done in no more than 2 iterations.\n",
    "* Runtime: 804 ms, faster than 51.70% of Python3 online submissions for Smallest String With Swaps.\n",
    "* Memory Usage: 49.4 MB, less than 100.00% of Python3 online submissions for Smallest String With Swaps."
   ]
  },
  {
   "cell_type": "code",
   "execution_count": null,
   "metadata": {},
   "outputs": [],
   "source": [
    "class UFS:\n",
    "    def __init__(self, N: int):\n",
    "        self.root = [i for i in range(N)]\n",
    "        \n",
    "    def find(self, x: int) -> int:\n",
    "        '''Find the root number of the union.'''\n",
    "        # TRICK: by doing so can make next search faster.\n",
    "        if x != self.root[x]:\n",
    "            self.root[x] = self.find(self.root[x])\n",
    "        return self.root[x]\n",
    "    \n",
    "    def union(self, x: int, y: int):\n",
    "        '''Union x and y.'''\n",
    "        x_root = self.find(x)\n",
    "        y_root = self.find(y)\n",
    "        self.root[x_root] = y_root\n",
    "\n",
    "class Solution:\n",
    "    def smallestStringWithSwaps(self, s: str, pairs: List[List[int]]) -> str:\n",
    "        '''Get smallest string with swaps using DFU.'''\n",
    "        N = len(s)\n",
    "        ufs = UFS(N)\n",
    "        \n",
    "        for pair in pairs:\n",
    "            ufs.union(*pair)\n",
    "        \n",
    "        groups = {}\n",
    "        \n",
    "        for i in range(N):\n",
    "            root = ufs.find(i)\n",
    "            if root not in groups:\n",
    "                groups[root] = []\n",
    "            # TRICK: already sorted!\n",
    "            groups[root].append(i)\n",
    "        \n",
    "        s = list(s)\n",
    "        for group in groups.values():\n",
    "            chars = sorted([s[i] for i in group])\n",
    "            \n",
    "            for i, char in zip(group, chars):\n",
    "                s[i] = char\n",
    "        \n",
    "        return ''.join(s)"
   ]
  },
  {
   "cell_type": "code",
   "execution_count": null,
   "metadata": {},
   "outputs": [],
   "source": [
    "# test\n",
    "eq(Solution().smallestStringWithSwaps(\"dcab\", [[0,3],[1,2]]), \"bacd\")\n",
    "eq(Solution().smallestStringWithSwaps(\"dcab\", [[0,3],[1,2],[0,2]]), \"abcd\")\n",
    "eq(Solution().smallestStringWithSwaps(\"cba\", [[0,1],[1,2]]), \"abc\")\n",
    "eq(Solution().smallestStringWithSwaps(\"d\", []), \"d\")\n",
    "eq(Solution().smallestStringWithSwaps(\"dc\", []), \"dc\")\n",
    "eq(Solution().smallestStringWithSwaps(\"dc\", [[0,1]]), \"cd\")\n",
    "eq(Solution().smallestStringWithSwaps(\"yhiihxbordwyjybyt\", [[9,1],[5,11],[9,7],[2,7],[14,16],[6,16],[0,5],[12,9],[6,5],[9,10],[4,7],[3,2],[10,1],[3,15],[12,4],[10,10],[15,12]]), \"bdhhibtirjoxwyyyy\")"
   ]
  },
  {
   "cell_type": "markdown",
   "metadata": {},
   "source": [
    "##  924 [Minimize Malware Spread](https://leetcode.com/problems/minimize-malware-spread/) - H"
   ]
  },
  {
   "cell_type": "markdown",
   "metadata": {},
   "source": [
    "* [Solution](https://leetcode.com/articles/minimize-malware-spread/)"
   ]
  },
  {
   "cell_type": "markdown",
   "metadata": {},
   "source": [
    "### Brute Hashmap"
   ]
  },
  {
   "cell_type": "markdown",
   "metadata": {},
   "source": [
    "* Runtime: 4152 ms, faster than 5.76% of Python3 online submissions for Minimize Malware Spread.\n",
    "* Memory Usage: 15.2 MB, less than 75.00% of Python3 online submissions for Minimize Malware Spread."
   ]
  },
  {
   "cell_type": "code",
   "execution_count": null,
   "metadata": {},
   "outputs": [],
   "source": [
    "class Solution:\n",
    "    def minMalwareSpread(self, graph: List[List[int]], initial: List[int]) -> int:\n",
    "        '''Find the node to remove to make the whole graph less infected by\n",
    "        malware.'''\n",
    "        l = len(graph)\n",
    "        h = {i:{i} for i in range(l)}\n",
    "        for x in range(l):\n",
    "            for y in range(x, l):\n",
    "                if graph[x][y]:\n",
    "                    h[x] = h[x] | h[y]\n",
    "                    for n in h[x]:\n",
    "                        h[n] = h[x]\n",
    "        max_conn = 0\n",
    "        ans = initial[0]\n",
    "        for n in initial:\n",
    "            n_conn = len(h[n])\n",
    "            if n_conn > max_conn:\n",
    "                max_conn = n_conn\n",
    "                ans = n\n",
    "            if n_conn == max_conn and n < ans:\n",
    "                ans = n\n",
    "        return ans"
   ]
  },
  {
   "cell_type": "code",
   "execution_count": null,
   "metadata": {},
   "outputs": [],
   "source": [
    "# test\n",
    "eq(Solution().minMalwareSpread([[1,0,0,0,1,0,0,0,0,0],[0,1,1,0,0,0,0,0,0,0],\n",
    "                                [0,1,1,0,0,1,0,0,0,0],[0,0,0,1,0,0,0,0,0,0],\n",
    "                                [1,0,0,0,1,0,0,0,0,0],[0,0,1,0,0,1,0,0,0,0],\n",
    "                                [0,0,0,0,0,0,1,0,0,1],[0,0,0,0,0,0,0,1,0,0],\n",
    "                                [0,0,0,0,0,0,0,0,1,0],[0,0,0,0,0,0,1,0,0,1]],\n",
    "                               [1,3,0]), 1)"
   ]
  },
  {
   "cell_type": "markdown",
   "metadata": {},
   "source": [
    "### DFS "
   ]
  },
  {
   "cell_type": "markdown",
   "metadata": {},
   "source": [
    "* Runtime: 1696 ms, faster than 78.40% of Python3 online submissions for Minimize Malware Spread.\n",
    "* Memory Usage: 21.5 MB, less than 25.00% of Python3 online submissions for Minimize Malware Spread."
   ]
  },
  {
   "cell_type": "code",
   "execution_count": null,
   "metadata": {},
   "outputs": [],
   "source": [
    "from collections import Counter\n",
    "class Solution:\n",
    "    def minMalwareSpread(self, graph: List[List[int]], initial: List[int]) -> int:\n",
    "        '''Find the node to remove to make the whole graph less infected by\n",
    "        malware by DFS.'''\n",
    "        # color each component.\n",
    "        N = len(graph)\n",
    "        # hash table for colors: keys are nodes, values are colors.\n",
    "        colors = {}\n",
    "        # color palette: same number, same color.\n",
    "        c = 0\n",
    "        \n",
    "        def dfs(node: int, color: int):\n",
    "            '''Set color for node.'''\n",
    "            # set color for this node\n",
    "            colors[node] = color\n",
    "            # set color for nodes connected to this node\n",
    "            for i, adj in enumerate(graph[node]):\n",
    "                if adj and i not in colors:\n",
    "                    dfs(i, color)\n",
    "        # set color for each node            \n",
    "        for node in range(N):\n",
    "            if node not in colors:\n",
    "                dfs(node, c)\n",
    "                # after dfs, all nodes connected to node are colored in the \n",
    "                # same color, thus we should set a different color.\n",
    "                c += 1\n",
    "        \n",
    "        # size of each color\n",
    "        # size[color] = number of occurrences of this color.\n",
    "        size = Counter(colors.values())\n",
    "        \n",
    "        # find unique colors.\n",
    "        color_count = Counter(colors[node] for node in initial)\n",
    "            \n",
    "        # answer\n",
    "        ans = float('inf')\n",
    "        for x in initial:\n",
    "            c = colors[x]\n",
    "            # if two nodes are in the same sub-graph, removing one node cannot\n",
    "            # prevent the malware spread by other node in the same sub-graph.\n",
    "            if color_count[c] == 1:\n",
    "                if (ans == float('inf')) or (size[c] > size[colors[ans]]) or (size[c] == size[colors[ans]] and x < ans):\n",
    "                    ans = x\n",
    "        # if ans not changed, removing nodes in initial will not make the malware less infected.\n",
    "        return ans if ans < float('inf') else min(initial)"
   ]
  },
  {
   "cell_type": "code",
   "execution_count": null,
   "metadata": {},
   "outputs": [],
   "source": [
    "# test\n",
    "eq(Solution().minMalwareSpread([[1,0,0,0,1,0,0,0,0,0],[0,1,1,0,0,0,0,0,0,0],\n",
    "                                [0,1,1,0,0,1,0,0,0,0],[0,0,0,1,0,0,0,0,0,0],\n",
    "                                [1,0,0,0,1,0,0,0,0,0],[0,0,1,0,0,1,0,0,0,0],\n",
    "                                [0,0,0,0,0,0,1,0,0,1],[0,0,0,0,0,0,0,1,0,0],\n",
    "                                [0,0,0,0,0,0,0,0,1,0],[0,0,0,0,0,0,1,0,0,1]],\n",
    "                               [1,3,0]), 1)"
   ]
  },
  {
   "cell_type": "markdown",
   "metadata": {},
   "source": [
    "### Union Find (UFS) "
   ]
  },
  {
   "cell_type": "markdown",
   "metadata": {},
   "source": [
    "* Runtime: 1832 ms, faster than 39.53% of Python3 online submissions for Minimize Malware Spread.\n",
    "* Memory Usage: 15.2 MB, less than 75.00% of Python3 online submissions for Minimize Malware Spread."
   ]
  },
  {
   "cell_type": "code",
   "execution_count": null,
   "metadata": {},
   "outputs": [],
   "source": [
    "from collections import Counter\n",
    "class UFS:\n",
    "    '''This UFS is not a standard UFS.'''\n",
    "    def __init__(self, N: int):\n",
    "        # p stores the relationship of connectivity. i and p[i] is connected.\n",
    "        # when i == p[i], i is the greatest node in the sub-graph.\n",
    "        self.p = [x for x in range(N)]\n",
    "        # sz stores the size of sub-graphs efficiently.\n",
    "        # sz is valid only when i is the greatest node in the \n",
    "        # sub-graph(i == p[i]).\n",
    "        self.sz = [1] * N\n",
    "    \n",
    "    def find(self, x: int) -> int:\n",
    "        '''In standard UFS, find should take 2 nodes and return a bool.\n",
    "        \n",
    "        This find take 1 node and return the greatest node in the sub-graph.\n",
    "        '''\n",
    "        if self.p[x] != x:\n",
    "            # TRICK: this makes next find quicker\n",
    "            self.p[x] = self.find(self.p[x])\n",
    "        return self.p[x]\n",
    "    \n",
    "    def union(self, x: int, y: int):\n",
    "        '''Union node x and node y together in UFS.'''\n",
    "        # find the greatest node connected to node x or node y.\n",
    "        xr = self.find(x)\n",
    "        yr = self.find(y)\n",
    "        # xr should be less than yr.\n",
    "        if xr > yr:\n",
    "            xr, yr = yr, xr\n",
    "        # update p and sz.\n",
    "        self.p[xr] = yr\n",
    "        self.sz[yr] += self.sz[xr]\n",
    "        \n",
    "    def size(self, x: int) -> int:\n",
    "        '''Get the size of the sub-graph to which x is connected.\n",
    "        \n",
    "        sz is valid only when i is the greatest node in the sub-graph(i == p[i]).\n",
    "        '''\n",
    "        return self.sz[self.find(x)]\n",
    "\n",
    "class Solution:\n",
    "    def minMalwareSpread(self, graph: List[List[int]], initial: List[int]) -> int:\n",
    "        '''Find the node to remove to make the whole graph less infected by\n",
    "        malware by DSU.'''\n",
    "        ufs = UFS(len(graph))\n",
    "        # transfer graph into dsu\n",
    "        for j, row in enumerate(graph):\n",
    "            for i in range(j):\n",
    "                if row[i]:\n",
    "                    ufs.union(i, j)\n",
    "        # count occurence of the sub-graphs.\n",
    "        count = Counter(ufs.find(u) for u in initial)\n",
    "        # ans = (min_count, min_node of this count)\n",
    "        ans = (-1, min(initial))\n",
    "        for node in initial:\n",
    "            root = ufs.find(node)\n",
    "            # if two nodes are in the same sub-graph, removing one node cannot\n",
    "            # prevent the malware spread by other node in the same sub-graph.\n",
    "            if count[root] == 1:\n",
    "                if ufs.size(root) > ans[0]:\n",
    "                    ans = ufs.size(root), node\n",
    "                elif ufs.size(root) == ans[0] and node < ans[1]:\n",
    "                    ans = ufs.size(root), node\n",
    "        return ans[1]"
   ]
  },
  {
   "cell_type": "code",
   "execution_count": null,
   "metadata": {},
   "outputs": [],
   "source": [
    "# test\n",
    "eq(Solution().minMalwareSpread([[1,0,0,0,1,0,0,0,0,0],[0,1,1,0,0,0,0,0,0,0],\n",
    "                                [0,1,1,0,0,1,0,0,0,0],[0,0,0,1,0,0,0,0,0,0],\n",
    "                                [1,0,0,0,1,0,0,0,0,0],[0,0,1,0,0,1,0,0,0,0],\n",
    "                                [0,0,0,0,0,0,1,0,0,1],[0,0,0,0,0,0,0,1,0,0],\n",
    "                                [0,0,0,0,0,0,0,0,1,0],[0,0,0,0,0,0,1,0,0,1]],\n",
    "                               [1,3,0]), 1)"
   ]
  },
  {
   "cell_type": "markdown",
   "metadata": {},
   "source": [
    "## 417 [Pacific Atlantic Water Flow](https://leetcode.com/problems/pacific-atlantic-water-flow/) - M "
   ]
  },
  {
   "cell_type": "markdown",
   "metadata": {},
   "source": [
    "### DFS - Queue + Hashtable"
   ]
  },
  {
   "cell_type": "markdown",
   "metadata": {},
   "source": [
    "* Runtime: 280 ms, faster than 97.37% of Python3 online submissions for Pacific Atlantic Water Flow.\n",
    "* Memory Usage: 14.1 MB, less than 55.00% of Python3 online submissions for Pacific Atlantic Water Flow.\n",
    "* Caution: the table is a rectangle, not a square!"
   ]
  },
  {
   "cell_type": "code",
   "execution_count": null,
   "metadata": {},
   "outputs": [],
   "source": [
    "from collections import deque\n",
    "class Solution:\n",
    "    def pacificAtlantic(self, matrix: List[List[int]]) -> List[List[int]]:\n",
    "        '''Find the list of grid coordinates where water can flow to both \n",
    "        Pacific and Atlantic Ocean.'''\n",
    "        if not matrix:\n",
    "            return []\n",
    "        # possible waterflow directions\n",
    "        flows = [(0, 1), (0, -1), (1, 0), (-1, 0)]\n",
    "        lx = len(matrix)\n",
    "        ly = len(matrix[0])\n",
    "        # positions that can reach pacific/atlantic ocean waters\n",
    "        pacific = {(x, 0) for x in range(lx)} | {(0, y) for y in range(ly)}\n",
    "        atlantic = {(x, ly-1) for x in range(lx)} | {(lx-1, y) for y in range(ly)}\n",
    "        \n",
    "        # queues\n",
    "        qp = deque(pacific)\n",
    "        qa = deque(atlantic)\n",
    "        \n",
    "        # search positions that can reach pacific ocean\n",
    "        while qp:\n",
    "            px, py = qp.popleft()\n",
    "            for fx, fy in flows:\n",
    "                nx = px+fx\n",
    "                ny = py+fy\n",
    "                if (nx, ny) in pacific or nx < 0 or nx >= lx or ny < 0 or ny >= ly:\n",
    "                    continue\n",
    "                if matrix[nx][ny] >= matrix[px][py]:\n",
    "                    qp.append((nx, ny))\n",
    "                    pacific.add((nx, ny))\n",
    "                    \n",
    "        # search positions that can reach pacific ocean\n",
    "        while qa:\n",
    "            px, py = qa.popleft()\n",
    "            for fx, fy in flows:\n",
    "                nx = px+fx\n",
    "                ny = py+fy\n",
    "                if (nx, ny) in atlantic or nx < 0 or nx >= lx or ny < 0 or ny >= ly:\n",
    "                    continue\n",
    "                if matrix[nx][ny] >= matrix[px][py]:\n",
    "                    qa.append((nx, ny))\n",
    "                    atlantic.add((nx, ny))\n",
    "        \n",
    "        return [list(a) for a in pacific & atlantic]"
   ]
  }
 ],
 "metadata": {
  "file_extension": ".py",
  "kernelspec": {
   "display_name": "Python 3",
   "language": "python",
   "name": "python3"
  },
  "language_info": {
   "codemirror_mode": {
    "name": "ipython",
    "version": 3
   },
   "file_extension": ".py",
   "mimetype": "text/x-python",
   "name": "python",
   "nbconvert_exporter": "python",
   "pygments_lexer": "ipython3",
   "version": "3.6.9"
  },
  "mimetype": "text/x-python",
  "name": "python",
  "npconvert_exporter": "python",
  "pygments_lexer": "ipython3",
  "toc": {
   "base_numbering": 1,
   "nav_menu": {},
   "number_sections": false,
   "sideBar": true,
   "skip_h1_title": true,
   "title_cell": "Table of Contents",
   "title_sidebar": "Contents",
   "toc_cell": false,
   "toc_position": {
    "height": "calc(100% - 180px)",
    "left": "10px",
    "top": "150px",
    "width": "255.594px"
   },
   "toc_section_display": true,
   "toc_window_display": true
  },
  "version": 3
 },
 "nbformat": 4,
 "nbformat_minor": 2
}
