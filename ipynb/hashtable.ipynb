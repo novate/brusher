{
 "cells": [
  {
   "cell_type": "markdown",
   "metadata": {},
   "source": [
    "# Hashtable"
   ]
  },
  {
   "cell_type": "markdown",
   "metadata": {},
   "source": [
    "## Pre-run"
   ]
  },
  {
   "cell_type": "code",
   "execution_count": null,
   "metadata": {
    "ExecuteTime": {
     "end_time": "2020-02-21T05:09:27.344739Z",
     "start_time": "2020-02-21T05:09:27.340740Z"
    }
   },
   "outputs": [],
   "source": [
    "from typing import List\n",
    "from helpers.misc import *"
   ]
  },
  {
   "cell_type": "markdown",
   "metadata": {},
   "source": [
    "## 1 [Two Sum](https://leetcode.com/problems/two-sum/) - E - Google Frequent"
   ]
  },
  {
   "cell_type": "markdown",
   "metadata": {},
   "source": [
    "* [Answer from Huahua](https://www.youtube.com/watch?v=tNtk_rwbaIk)"
   ]
  },
  {
   "cell_type": "markdown",
   "metadata": {},
   "source": [
    "### One Pass HashTable"
   ]
  },
  {
   "cell_type": "markdown",
   "metadata": {},
   "source": [
    "* Runtime: 44 ms, faster than 92.55% of Python3 online submissions for Two Sum.\n",
    "* Memory Usage: 14.1 MB, less than 61.16% of Python3 online submissions for Two Sum."
   ]
  },
  {
   "cell_type": "code",
   "execution_count": null,
   "metadata": {
    "ExecuteTime": {
     "end_time": "2020-02-21T05:09:27.353741Z",
     "start_time": "2020-02-21T05:09:27.346741Z"
    }
   },
   "outputs": [],
   "source": [
    "class Solution:\n",
    "    def twoSum(self, nums: List[int], target: int) -> List[int]:\n",
    "        '''Given an array of integers, return indices of the two numbers such that they add up to a specific target.'''\n",
    "        hash = {}   # One-pass growing hash\n",
    "        for i, num in enumerate(nums):\n",
    "            if target-num not in hash:\n",
    "                hash[num] = i\n",
    "            else:\n",
    "                return [hash[target-num], i]\n",
    "        return [0,0]"
   ]
  },
  {
   "cell_type": "code",
   "execution_count": null,
   "metadata": {
    "ExecuteTime": {
     "end_time": "2020-02-21T05:09:27.360775Z",
     "start_time": "2020-02-21T05:09:27.356753Z"
    }
   },
   "outputs": [],
   "source": [
    "# test\n",
    "eq(Solution().twoSum([2, 7, 11, 15], 9), [0, 1])"
   ]
  },
  {
   "cell_type": "markdown",
   "metadata": {},
   "source": [
    "## 15 [3Sum](https://leetcode.com/problems/3sum/) - M"
   ]
  },
  {
   "cell_type": "markdown",
   "metadata": {},
   "source": [
    "* [Answer](https://fizzbuzzed.com/top-interview-questions-1/)"
   ]
  },
  {
   "cell_type": "markdown",
   "metadata": {},
   "source": [
    "### Two Pointer"
   ]
  },
  {
   "cell_type": "markdown",
   "metadata": {},
   "source": [
    "* The Two Pointer trick gives a really nice solution to 3Sum that does not require any extra data structures. It runs really quickly and some interviewers expect this solution.\n",
    "* Runtime: 968 ms, faster than 55.93% of Python3 online submissions for 3Sum.\n",
    "* Memory Usage: 16.2 MB, less than 100.00% of Python3 online submissions for 3Sum."
   ]
  },
  {
   "cell_type": "code",
   "execution_count": null,
   "metadata": {
    "ExecuteTime": {
     "end_time": "2020-02-21T05:09:27.370740Z",
     "start_time": "2020-02-21T05:09:27.362737Z"
    }
   },
   "outputs": [],
   "source": [
    "class Solution:\n",
    "    def threeSum(self, nums: List[int]) -> List[List[int]]:\n",
    "        '''3Sum using two pointer trick.'''\n",
    "        ans = []\n",
    "        nums.sort()\n",
    "        for l in range(len(nums)-2):\n",
    "            # avoid same left numbers\n",
    "            if l > 0 and nums[l] == nums[l-1]:\n",
    "                continue\n",
    "            m, r = l+1, len(nums)-1\n",
    "            while m < r:\n",
    "                s = nums[l] + nums[m] + nums[r]\n",
    "                if s == 0:\n",
    "                    ans.append([nums[l], nums[m], nums[r]])\n",
    "                    # same left number, different answer, middle number must not be the same.\n",
    "                    m += 1\n",
    "                    while m > l+1 and m < r and nums[m] == nums[m-1]:\n",
    "                        m += 1\n",
    "                elif s < 0:\n",
    "                    m += 1\n",
    "                else:\n",
    "                    r -= 1\n",
    "        return ans"
   ]
  },
  {
   "cell_type": "code",
   "execution_count": null,
   "metadata": {
    "ExecuteTime": {
     "end_time": "2020-02-21T05:09:27.378771Z",
     "start_time": "2020-02-21T05:09:27.372809Z"
    }
   },
   "outputs": [],
   "source": [
    "# test\n",
    "eq(Solution().threeSum([-1, 0, 1, 2, -1, -4]), [[-1, -1, 2], [-1, 0, 1]])"
   ]
  },
  {
   "cell_type": "markdown",
   "metadata": {},
   "source": [
    "## 18 [4Sum](https://leetcode.com/problems/4sum/) - M"
   ]
  },
  {
   "cell_type": "markdown",
   "metadata": {},
   "source": [
    "### 1 + 3Sum"
   ]
  },
  {
   "cell_type": "markdown",
   "metadata": {},
   "source": [
    "* Runtime: 976 ms, faster than 46.43% of Python3 online submissions for 4Sum.\n",
    "* Memory Usage: 12.7 MB, less than 100.00% of Python3 online submissions for 4Sum."
   ]
  },
  {
   "cell_type": "code",
   "execution_count": null,
   "metadata": {
    "ExecuteTime": {
     "end_time": "2020-02-21T05:09:27.392742Z",
     "start_time": "2020-02-21T05:09:27.379741Z"
    }
   },
   "outputs": [],
   "source": [
    "class Solution:\n",
    "    def fourSum(self, nums: List[int], target: int) -> List[List[int]]:\n",
    "        '''4Sum using 3Sum.'''\n",
    "        def threeSum(nums: List[int], target: int) -> List[List[int]]:\n",
    "            '''3Sum using two pointer trick.\n",
    "            \n",
    "            Assert that nums are already sorted.\n",
    "            '''\n",
    "            ans = []\n",
    "            for l in range(len(nums)-2):\n",
    "                # avoid same left numbers\n",
    "                if l > 0 and nums[l] == nums[l-1]:\n",
    "                    continue\n",
    "                m, r = l+1, len(nums)-1\n",
    "                while m < r:\n",
    "                    s = nums[l] + nums[m] + nums[r]\n",
    "                    if s == target:\n",
    "                        ans.append([nums[l], nums[m], nums[r]])\n",
    "                        # same left number, different answer, middle number must not be the same.\n",
    "                        m += 1\n",
    "                        while m < r and nums[m] == nums[m-1]:\n",
    "                            m += 1\n",
    "                    elif s < target:\n",
    "                        m += 1\n",
    "                    else:\n",
    "                        r -= 1\n",
    "            return ans\n",
    "        nums.sort()\n",
    "        ans = []\n",
    "        for l in range(len(nums)-3):\n",
    "            if l > 0 and nums[l] == nums[l-1]:\n",
    "                continue\n",
    "            else:\n",
    "                for a in threeSum(nums[l+1:], target - nums[l]):\n",
    "                    a.append(nums[l])\n",
    "                    ans.append(a)\n",
    "        return ans"
   ]
  },
  {
   "cell_type": "code",
   "execution_count": null,
   "metadata": {
    "ExecuteTime": {
     "end_time": "2020-02-21T05:09:27.400738Z",
     "start_time": "2020-02-21T05:09:27.394740Z"
    }
   },
   "outputs": [],
   "source": [
    "# test\n",
    "eq(Solution().fourSum([1, 0, -1, 0, -2, 2], 0), [[-1, 1, 2, -2], [0, 0, 2, -2], [0, 0, 1, -1]])"
   ]
  },
  {
   "cell_type": "markdown",
   "metadata": {},
   "source": [
    "## 410 [Split Array Largest Sum](https://leetcode.com/problems/split-array-largest-sum/) - H - Google Frequent"
   ]
  },
  {
   "cell_type": "markdown",
   "metadata": {},
   "source": [
    "* [Answer from Huahua](https://www.youtube.com/watch?v=_k-Jb4b7b_0)\n",
    "* DP, Binary Search"
   ]
  },
  {
   "cell_type": "markdown",
   "metadata": {},
   "source": [
    "## 560 [Subarray Sum Equals K](https://leetcode.com/problems/subarray-sum-equals-k/) - M"
   ]
  },
  {
   "cell_type": "markdown",
   "metadata": {},
   "source": [
    "* [Answer from Huahua](https://www.youtube.com/watch?v=mKXIH9GnhgU)\n",
    "* Prefix Sum, Hash Table"
   ]
  },
  {
   "cell_type": "markdown",
   "metadata": {},
   "source": [
    "## 136 [Single Number](https://leetcode.com/problems/single-number/) - E "
   ]
  },
  {
   "cell_type": "markdown",
   "metadata": {},
   "source": [
    "### HashTable"
   ]
  },
  {
   "cell_type": "markdown",
   "metadata": {},
   "source": [
    "* Runtime: 84 ms, faster than 85.38% of Python3 online submissions for Single Number.\n",
    "* Memory Usage: 16.4 MB, less than 6.56% of Python3 online submissions for Single Number."
   ]
  },
  {
   "cell_type": "code",
   "execution_count": null,
   "metadata": {},
   "outputs": [],
   "source": [
    "class Solution:\n",
    "    def singleNumber(self, nums: List[int]) -> int:\n",
    "        '''Solving single number problem by hash table.'''\n",
    "        hash = {}\n",
    "        for num in nums:\n",
    "            if num not in hash:\n",
    "                hash[num] = 0\n",
    "            hash[num] += 1\n",
    "        for k in hash:\n",
    "            if hash[k] == 1:\n",
    "                return k"
   ]
  },
  {
   "cell_type": "markdown",
   "metadata": {},
   "source": [
    "### Bit Manipulation (XOR)"
   ]
  },
  {
   "cell_type": "markdown",
   "metadata": {},
   "source": [
    "* If we take `XOR` of zero and some bit, it will return that bit\n",
    "    * `a ⊕ 0 = a`\n",
    "* If we take `XOR` of two same bits, it will return 0\n",
    "    * `a ⊕ a = 0`\n",
    "    * `a ⊕ b ⊕ a = (a ⊕ a) ⊕ b = 0 ⊕ b = b`\n",
    "* So we can `XOR` all bits together to find the unique number.\n",
    "* Runtime: 80 ms, faster than 95.52% of Python3 online submissions for Single Number.\n",
    "* Memory Usage: 16.4 MB, less than 6.56% of Python3 online submissions for Single Number."
   ]
  },
  {
   "cell_type": "code",
   "execution_count": null,
   "metadata": {},
   "outputs": [],
   "source": [
    "class Solution:\n",
    "    def singleNumber(self, nums: List[int]) -> int:\n",
    "        '''Solving single number problem by bit manipulation (XOR).'''\n",
    "        ans = 0\n",
    "        for num in nums:\n",
    "            ans ^= num\n",
    "        return ans"
   ]
  },
  {
   "cell_type": "code",
   "execution_count": null,
   "metadata": {},
   "outputs": [],
   "source": [
    "# test\n",
    "eq(Solution().singleNumber([2,2,1]), 1)\n",
    "eq(Solution().singleNumber([4,1,2,1,2]), 4)"
   ]
  },
  {
   "cell_type": "markdown",
   "metadata": {},
   "source": [
    "## 49 [Group Anagrams](https://leetcode.com/problems/group-anagrams/) - M"
   ]
  },
  {
   "cell_type": "markdown",
   "metadata": {},
   "source": [
    "###  Categorize by Sorted String"
   ]
  },
  {
   "cell_type": "markdown",
   "metadata": {},
   "source": [
    "* Runtime: 152 ms, faster than 10.13% of Python3 online submissions for Group Anagrams.\n",
    "* Memory Usage: 17.7 MB, less than 30.19% of Python3 online submissions for Group Anagrams."
   ]
  },
  {
   "cell_type": "code",
   "execution_count": null,
   "metadata": {},
   "outputs": [],
   "source": [
    "class Solution:\n",
    "    def groupAnagrams(self, strs: List[str]) -> List[List[str]]:\n",
    "        '''Categorize by sorted string.'''\n",
    "        # key: tuple(sorted(val))\n",
    "        # val: [val1, val2, ...] that has the same key\n",
    "        anagram_dict = {}\n",
    "        for str in strs:\n",
    "            tup_set_str = tuple(sorted(str))\n",
    "            if tup_set_str not in anagram_dict:\n",
    "                anagram_dict[tup_set_str] = []\n",
    "            anagram_dict[tup_set_str].append(str)\n",
    "        return list(anagram_dict.values())"
   ]
  },
  {
   "cell_type": "markdown",
   "metadata": {},
   "source": [
    "### Categorize by Count"
   ]
  },
  {
   "cell_type": "markdown",
   "metadata": {},
   "source": [
    "* Runtime: 220 ms, faster than 5.01% of Python3 online submissions for Group Anagrams.\n",
    "* Memory Usage: 18.8 MB, less than 11.32% of Python3 online submissions for Group Anagrams."
   ]
  },
  {
   "cell_type": "code",
   "execution_count": null,
   "metadata": {},
   "outputs": [],
   "source": [
    "class Solution:\n",
    "    def groupAnagrams(self, strs: List[str]) -> List[List[str]]:\n",
    "        '''Categorize by alphabet count.'''\n",
    "        # key: tuple of alphabet count\n",
    "        # val: [val1, val2, ...] that has the same alphabet count\n",
    "        anagram_dict = {}\n",
    "        for str in strs:\n",
    "            count = [0] * 26\n",
    "            for ch in str:\n",
    "                count[ord(ch) - ord('a')] += 1\n",
    "            tup_count = tuple(count)\n",
    "            if tup_count not in anagram_dict:\n",
    "                anagram_dict[tup_count] = []\n",
    "            anagram_dict[tup_count].append(str)\n",
    "        return list(anagram_dict.values())"
   ]
  },
  {
   "cell_type": "code",
   "execution_count": null,
   "metadata": {},
   "outputs": [],
   "source": [
    "# test\n",
    "eq(len(Solution().groupAnagrams([\"eat\", \"tea\", \"tan\", \"ate\", \"nat\", \"bat\"])), 3)"
   ]
  },
  {
   "cell_type": "markdown",
   "metadata": {},
   "source": [
    "## 525 [Contiguous Array](https://leetcode.com/problems/contiguous-array/) - M"
   ]
  },
  {
   "cell_type": "markdown",
   "metadata": {},
   "source": [
    "### Hash Table "
   ]
  },
  {
   "cell_type": "markdown",
   "metadata": {},
   "source": [
    "* Runtime: 920 ms, faster than 67.15% of Python3 online submissions for Contiguous Array.\n",
    "* Memory Usage: 18.4 MB, less than 16.67% of Python3 online submissions for Contiguous Array."
   ]
  },
  {
   "cell_type": "code",
   "execution_count": null,
   "metadata": {},
   "outputs": [],
   "source": [
    "class Solution:\n",
    "    def findMaxLength(self, nums: List[int]) -> int:\n",
    "        map = {}\n",
    "        map[0] = -1\n",
    "        maxlen = 0\n",
    "        count = 0\n",
    "        for i in range(len(nums)):\n",
    "            count += 1 if nums[i] == 1 else -1\n",
    "            if count in map:\n",
    "                maxlen = max(maxlen, i-map[count])\n",
    "            else:\n",
    "                map[count] = i\n",
    "        return maxlen"
   ]
  },
  {
   "cell_type": "code",
   "execution_count": null,
   "metadata": {},
   "outputs": [],
   "source": [
    "# test\n",
    "eq(Solution().findMaxLength([0,1,0]), 2)\n",
    "eq(Solution().findMaxLength([0,1,1,0,0,1,0]), 6)\n",
    "eq(Solution().findMaxLength([0,1,1,0,1,1,1,0]), 4)"
   ]
  }
 ],
 "metadata": {
  "file_extension": ".py",
  "kernelspec": {
   "display_name": "Python 3",
   "language": "python",
   "name": "python3"
  },
  "language_info": {
   "codemirror_mode": {
    "name": "ipython",
    "version": 3
   },
   "file_extension": ".py",
   "mimetype": "text/x-python",
   "name": "python",
   "nbconvert_exporter": "python",
   "pygments_lexer": "ipython3",
   "version": "3.7.3"
  },
  "mimetype": "text/x-python",
  "name": "python",
  "npconvert_exporter": "python",
  "pygments_lexer": "ipython3",
  "toc": {
   "base_numbering": 1,
   "nav_menu": {},
   "number_sections": false,
   "sideBar": true,
   "skip_h1_title": true,
   "title_cell": "Table of Contents",
   "title_sidebar": "Contents",
   "toc_cell": false,
   "toc_position": {},
   "toc_section_display": true,
   "toc_window_display": false
  },
  "version": 3
 },
 "nbformat": 4,
 "nbformat_minor": 2
}
