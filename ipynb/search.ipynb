{
 "cells": [
  {
   "cell_type": "markdown",
   "metadata": {},
   "source": [
    "# Search"
   ]
  },
  {
   "cell_type": "markdown",
   "metadata": {},
   "source": [
    "* The key to the status of DFS is current path.\n",
    "* DFS <-> DP Top Down <-> Memoization Table <-> Recursion\n",
    "    * When finding all possible routes, we should use DFS to touch every end, i.e. [Word Break II](https://leetcode.com/problems/word-break-ii/).\n",
    "\n",
    "* The key to the status of BFS is level.\n",
    "* BFS <-> DP Bottom Up <-> Growing Table"
   ]
  },
  {
   "cell_type": "markdown",
   "metadata": {},
   "source": [
    "## Pre-run"
   ]
  },
  {
   "cell_type": "code",
   "execution_count": null,
   "metadata": {
    "ExecuteTime": {
     "end_time": "2020-03-09T15:35:36.795016Z",
     "start_time": "2020-03-09T15:35:36.787980Z"
    }
   },
   "outputs": [],
   "source": [
    "from typing import List\n",
    "from helpers.misc import *"
   ]
  },
  {
   "cell_type": "markdown",
   "metadata": {},
   "source": [
    "## 17 [Letter Combinations of a Phone Number](https://leetcode.com/problems/letter-combinations-of-a-phone-number/) - M"
   ]
  },
  {
   "cell_type": "markdown",
   "metadata": {},
   "source": [
    "### BFS"
   ]
  },
  {
   "cell_type": "markdown",
   "metadata": {},
   "source": [
    "* Runtime: 28 ms, faster than 67.82% of Python3 online submissions for Letter Combinations of a Phone Number.\n",
    "* Memory Usage: 12.7 MB, less than 100.00% of Python3 online submissions for Letter Combinations of a Phone Number."
   ]
  },
  {
   "cell_type": "code",
   "execution_count": null,
   "metadata": {
    "ExecuteTime": {
     "end_time": "2020-02-26T08:26:54.278177Z",
     "start_time": "2020-02-26T08:26:54.271175Z"
    }
   },
   "outputs": [],
   "source": [
    "class Solution:\n",
    "    def letterCombinations(self, digits: str) -> List[str]:\n",
    "        '''Given a string containing digits from 2-9 inclusive, return all \n",
    "        possible letter combinations that the number could represent.'''\n",
    "        # no digit\n",
    "        if not digits:\n",
    "            return []\n",
    "        key_map = {\n",
    "            2 : ['a', 'b', 'c'],\n",
    "            3 : ['d', 'e', 'f'],\n",
    "            4 : ['g', 'h', 'i'],\n",
    "            5 : ['j', 'k', 'l'],\n",
    "            6 : ['m', 'n', 'o'],\n",
    "            7 : ['p', 'q', 'r', 's'],\n",
    "            8 : ['t', 'u', 'v'],\n",
    "            9 : ['w', 'x', 'y', 'z']\n",
    "        }\n",
    "        ans = ['']\n",
    "        for d in digits:\n",
    "            new_ans = [x+y for x in ans for y in key_map[int(d)]]\n",
    "            ans = new_ans\n",
    "        return ans"
   ]
  },
  {
   "cell_type": "code",
   "execution_count": null,
   "metadata": {
    "ExecuteTime": {
     "end_time": "2020-02-26T08:27:05.114980Z",
     "start_time": "2020-02-26T08:27:05.110970Z"
    }
   },
   "outputs": [],
   "source": [
    "# test\n",
    "eq(Solution().letterCombinations(\"293\"), ['awd', 'awe', 'awf', 'axd', 'axe', \n",
    "                                          'axf', 'ayd', 'aye', 'ayf', 'azd', \n",
    "                                          'aze', 'azf', 'bwd', 'bwe', 'bwf', \n",
    "                                          'bxd', 'bxe', 'bxf', 'byd', 'bye', \n",
    "                                          'byf', 'bzd', 'bze', 'bzf', 'cwd', \n",
    "                                          'cwe', 'cwf', 'cxd', 'cxe', 'cxf', \n",
    "                                          'cyd', 'cye', 'cyf', 'czd', 'cze', \n",
    "                                          'czf'])"
   ]
  },
  {
   "cell_type": "markdown",
   "metadata": {},
   "source": [
    "### DFS (Backtracking)"
   ]
  },
  {
   "cell_type": "markdown",
   "metadata": {},
   "source": [
    "* Runtime: 44 ms, faster than 6.92% of Python3 online submissions for Letter Combinations of a Phone Number.\n",
    "* Memory Usage: 12.8 MB, less than 98.53% of Python3 online submissions for Letter Combinations of a Phone Number."
   ]
  },
  {
   "cell_type": "code",
   "execution_count": null,
   "metadata": {
    "ExecuteTime": {
     "end_time": "2020-02-26T08:27:18.342554Z",
     "start_time": "2020-02-26T08:27:18.335554Z"
    }
   },
   "outputs": [],
   "source": [
    "class Solution:\n",
    "    def letterCombinations(self, digits: str) -> List[str]:\n",
    "        '''Given a string containing digits from 2-9 inclusive, return all \n",
    "        possible letter combinations that the number could represent.'''\n",
    "        key_map = {\n",
    "            2 : ['a', 'b', 'c'],\n",
    "            3 : ['d', 'e', 'f'],\n",
    "            4 : ['g', 'h', 'i'],\n",
    "            5 : ['j', 'k', 'l'],\n",
    "            6 : ['m', 'n', 'o'],\n",
    "            7 : ['p', 'q', 'r', 's'],\n",
    "            8 : ['t', 'u', 'v'],\n",
    "            9 : ['w', 'x', 'y', 'z']\n",
    "        }\n",
    "        ans = []\n",
    "        \n",
    "        def dfs(track: str, digits: str) -> None:\n",
    "            '''Do DFS search in backtracking method\n",
    "            \n",
    "            track:  Current track\n",
    "            digits: Digits to parse\n",
    "            '''\n",
    "            # no digit for parsing, take the result\n",
    "            if not digits:\n",
    "                ans.append(track)\n",
    "            else:\n",
    "                # parse the first digit\n",
    "                for ch in key_map[int(digits[0])]:\n",
    "                    dfs(track+ch, digits[1:])\n",
    "        \n",
    "        # no digit causes empty answer\n",
    "        if digits:\n",
    "            dfs(\"\", digits)\n",
    "        return ans"
   ]
  },
  {
   "cell_type": "code",
   "execution_count": null,
   "metadata": {
    "ExecuteTime": {
     "end_time": "2020-02-26T08:27:20.333075Z",
     "start_time": "2020-02-26T08:27:20.328044Z"
    }
   },
   "outputs": [],
   "source": [
    "# test\n",
    "eq(Solution().letterCombinations(\"293\"), ['awd', 'awe', 'awf', 'axd', 'axe', \n",
    "                                          'axf', 'ayd', 'aye', 'ayf', 'azd', \n",
    "                                          'aze', 'azf', 'bwd', 'bwe', 'bwf', \n",
    "                                          'bxd', 'bxe', 'bxf', 'byd', 'bye', \n",
    "                                          'byf', 'bzd', 'bze', 'bzf', 'cwd', \n",
    "                                          'cwe', 'cwf', 'cxd', 'cxe', 'cxf', \n",
    "                                          'cyd', 'cye', 'cyf', 'czd', 'cze', \n",
    "                                          'czf'])"
   ]
  },
  {
   "cell_type": "markdown",
   "metadata": {},
   "source": [
    "## 39 [Combination Sum](https://leetcode.com/problems/combination-sum/) - M"
   ]
  },
  {
   "cell_type": "markdown",
   "metadata": {},
   "source": [
    "### DFS"
   ]
  },
  {
   "cell_type": "markdown",
   "metadata": {},
   "source": [
    "* Runtime: 84 ms, faster than 52.18% of Python3 online submissions for Combination Sum.\n",
    "* Memory Usage: 12.8 MB, less than 100.00% of Python3 online submissions for Combination Sum."
   ]
  },
  {
   "cell_type": "code",
   "execution_count": null,
   "metadata": {
    "ExecuteTime": {
     "end_time": "2020-02-26T08:27:23.982288Z",
     "start_time": "2020-02-26T08:27:23.975305Z"
    }
   },
   "outputs": [],
   "source": [
    "class Solution:\n",
    "    def combinationSum(self, candidates: List[int], target: int) -> List[List[int]]:\n",
    "        '''Given a set of candidate numbers (candidates) (without duplicates) \n",
    "        and a target number (target), find all unique combinations in \n",
    "        candidates where the candidate numbers sums to target.'''\n",
    "        res = []\n",
    "        \n",
    "        def dfs(current: List[int], candidates: List[int], target: int):\n",
    "            '''DFS way to find the result.\n",
    "            \n",
    "            current:    current answer\n",
    "            candidates: candidates of numbers\n",
    "            target:     target number\n",
    "            '''\n",
    "            # no possible result\n",
    "            if target < 0:\n",
    "                pass\n",
    "            # result found\n",
    "            elif target == 0:\n",
    "                res.append(current)\n",
    "            else:\n",
    "                # TRICK: prevent duplicate combinations\n",
    "                for i, candidate in enumerate(candidates):\n",
    "                    dfs(current+[candidate], candidates[i:], target-candidate)\n",
    "                    \n",
    "        dfs([], candidates, target)\n",
    "        return res"
   ]
  },
  {
   "cell_type": "code",
   "execution_count": null,
   "metadata": {
    "ExecuteTime": {
     "end_time": "2020-02-26T08:29:24.908498Z",
     "start_time": "2020-02-26T08:29:24.903511Z"
    }
   },
   "outputs": [],
   "source": [
    "# test\n",
    "eq(len(Solution().combinationSum([2,3,6,7], 7)), len([[7], [2,2,3]]))"
   ]
  },
  {
   "cell_type": "markdown",
   "metadata": {},
   "source": [
    "## 40 [Combination Sum II](https://leetcode.com/problems/combination-sum-ii) - M"
   ]
  },
  {
   "cell_type": "markdown",
   "metadata": {},
   "source": [
    "### DFS"
   ]
  },
  {
   "cell_type": "markdown",
   "metadata": {},
   "source": [
    "* Runtime: 44 ms, faster than 85.75% of Python3 online submissions for Combination Sum.\n",
    "* Memory Usage: 12.6 MB, less than 100.00% of Python3 online submissions for Combination Sum."
   ]
  },
  {
   "cell_type": "code",
   "execution_count": null,
   "metadata": {},
   "outputs": [],
   "source": [
    "from copy import deepcopy\n",
    "class Solution:\n",
    "    def combinationSum2(self, candidates: List[int], target: int) -> List[List[int]]:\n",
    "        '''Combination Sum II using DFS'''\n",
    "        ans = []\n",
    "        cur = []\n",
    "        # TRICK: sort for easier deduplication\n",
    "        candidates.sort()\n",
    "        \n",
    "        def dfs(seq: int, t: int):\n",
    "            '''Use DFS to solve problem.\n",
    "            \n",
    "            seq:    current seq in candidates.\n",
    "            t:      current target\n",
    "            '''\n",
    "            if t == 0:\n",
    "                ans.append(deepcopy(cur))\n",
    "                return\n",
    "            for i in range(seq, len(candidates)):\n",
    "                num = candidates[i]\n",
    "                # prune\n",
    "                if num > t:\n",
    "                    return\n",
    "                # TRICK: deduplication\n",
    "                if i > seq and candidates[i] == candidates[i-1]:\n",
    "                    continue\n",
    "                cur.append(num)\n",
    "                dfs(i+1, t-num)\n",
    "                cur.pop()\n",
    "        \n",
    "        dfs(0, target)\n",
    "        return ans"
   ]
  },
  {
   "cell_type": "code",
   "execution_count": null,
   "metadata": {},
   "outputs": [],
   "source": [
    "# test"
   ]
  },
  {
   "cell_type": "markdown",
   "metadata": {},
   "source": [
    "## 77 [Combinations](https://leetcode.com/problems/combinations/) - M "
   ]
  },
  {
   "cell_type": "markdown",
   "metadata": {},
   "source": [
    "### DFS "
   ]
  },
  {
   "cell_type": "markdown",
   "metadata": {},
   "source": [
    "* Runtime: 584 ms, faster than 32.65% of Python3 online submissions for Combination Sum.\n",
    "* Memory Usage: 14.1 MB, less than 100.00% of Python3 online submissions for Combination Sum."
   ]
  },
  {
   "cell_type": "code",
   "execution_count": null,
   "metadata": {},
   "outputs": [],
   "source": [
    "from copy import deepcopy\n",
    "class Solution:\n",
    "    def combine(self, n: int, k: int) -> List[List[int]]:\n",
    "        '''Given two integers n and k, return all possible COMBINATIONs of k numbers out of 1 ... n.\n",
    "        \n",
    "        CAUTION: COMBINATION means that all subresult is ordered.\n",
    "        '''\n",
    "        ans = []    # final answer\n",
    "        cur = []    # answer buffer\n",
    "        def dfs(cn: int):\n",
    "            '''Use DFS to solve this problem\n",
    "            \n",
    "            cn: current number for processing\n",
    "            '''\n",
    "            if len(cur) == k:\n",
    "                ans.append(deepcopy(cur))\n",
    "                return\n",
    "            else:\n",
    "                for i in range(cn, n):\n",
    "                    cur.append(i+1)\n",
    "                    dfs(i+1)\n",
    "                    # TRICK: use only 1 cur to store current answer, no need to have slices for all answers or make cur as an argument.\n",
    "                    cur.pop()\n",
    "        dfs(0)\n",
    "        return ans"
   ]
  },
  {
   "cell_type": "code",
   "execution_count": null,
   "metadata": {},
   "outputs": [],
   "source": [
    "# test\n",
    "eq(len(Solution().combine(4, 2)), 6)"
   ]
  },
  {
   "cell_type": "markdown",
   "metadata": {},
   "source": [
    "## 78 [Subsets](https://leetcode.com/problems/subsets/) - M"
   ]
  },
  {
   "cell_type": "markdown",
   "metadata": {},
   "source": [
    "### BFS Iteration "
   ]
  },
  {
   "cell_type": "markdown",
   "metadata": {},
   "source": [
    "* Runtime: 28 ms, faster than 88.37% of Python3 online submissions for Subsets.\n",
    "* Memory Usage: 12.9 MB, less than 100.00% of Python3 online submissions for Subsets."
   ]
  },
  {
   "cell_type": "code",
   "execution_count": null,
   "metadata": {
    "ExecuteTime": {
     "end_time": "2020-03-09T11:46:41.541560Z",
     "start_time": "2020-03-09T11:46:41.532558Z"
    }
   },
   "outputs": [],
   "source": [
    "class Solution:\n",
    "    def subsets(self, nums: List[int]) -> List[List[int]]:\n",
    "        '''Get all possible subsets from a list using BFS iteration.'''\n",
    "        ans = [[]]\n",
    "        h = {v:i for i, v in enumerate(nums)}\n",
    "        pre = []\n",
    "        for i in range(len(nums)):\n",
    "            if i == 0:\n",
    "                pre = [[x] for x in nums]\n",
    "            else:\n",
    "                nxt = []\n",
    "                for p in pre:\n",
    "                    seq = h[p[-1]]\n",
    "                    nxt += [p+[x] for x in nums[seq+1:]]\n",
    "                ans += pre\n",
    "                pre = nxt\n",
    "        return ans + pre"
   ]
  },
  {
   "cell_type": "code",
   "execution_count": null,
   "metadata": {
    "ExecuteTime": {
     "end_time": "2020-03-09T11:48:11.208242Z",
     "start_time": "2020-03-09T11:48:11.205132Z"
    }
   },
   "outputs": [],
   "source": [
    "# test\n",
    "eq(len(Solution().subsets([1,2,3])), len([[],[1],[2],[3],[1,2],[1,3],[2,3],\n",
    "                                          [1,2,3]]))"
   ]
  },
  {
   "cell_type": "markdown",
   "metadata": {},
   "source": [
    "### BFS Recursion"
   ]
  },
  {
   "cell_type": "markdown",
   "metadata": {},
   "source": [
    "* Runtime: 24 ms, faster than 97.27% of Python3 online submissions for Subsets.\n",
    "* Memory Usage: 12.9 MB, less than 100.00% of Python3 online submissions for Subsets."
   ]
  },
  {
   "cell_type": "code",
   "execution_count": null,
   "metadata": {
    "ExecuteTime": {
     "end_time": "2020-03-09T11:54:26.146295Z",
     "start_time": "2020-03-09T11:54:26.141242Z"
    }
   },
   "outputs": [],
   "source": [
    "class Solution:\n",
    "    def subsets(self, nums: List[int]) -> List[List[int]]:\n",
    "        '''Get all possible subsets from a list using BFS Recursion.'''\n",
    "        ans = [[]]\n",
    "        \n",
    "        def rec(nums: List[int]) -> List[List[int]]:\n",
    "            '''Recursion function.'''\n",
    "            if not nums:\n",
    "                return ans\n",
    "            num = nums.pop()\n",
    "            for s in ans[:len(ans)]:\n",
    "                ans.append([num] + s)\n",
    "            return rec(nums)\n",
    "            \n",
    "        return rec(nums)"
   ]
  },
  {
   "cell_type": "code",
   "execution_count": null,
   "metadata": {
    "ExecuteTime": {
     "end_time": "2020-03-09T11:54:28.086471Z",
     "start_time": "2020-03-09T11:54:28.082458Z"
    }
   },
   "outputs": [],
   "source": [
    "# test\n",
    "eq(len(Solution().subsets([1,2,3])), len([[],[1],[2],[3],[1,2],[1,3],[2,3],\n",
    "                                          [1,2,3]]))"
   ]
  },
  {
   "cell_type": "markdown",
   "metadata": {},
   "source": [
    "##  90 [Subsets II](https://leetcode.com/problems/subsets-ii/) - M"
   ]
  },
  {
   "cell_type": "markdown",
   "metadata": {},
   "source": [
    "### Brute BFS Recursion "
   ]
  },
  {
   "cell_type": "markdown",
   "metadata": {},
   "source": [
    "* Runtime: 44 ms, faster than 25.60% of Python3 online submissions for Subsets II.\n",
    "* Memory Usage: 12.8 MB, less than 100.00% of Python3 online submissions for Subsets II."
   ]
  },
  {
   "cell_type": "code",
   "execution_count": null,
   "metadata": {
    "ExecuteTime": {
     "end_time": "2020-03-09T12:06:11.689334Z",
     "start_time": "2020-03-09T12:06:11.684341Z"
    }
   },
   "outputs": [],
   "source": [
    "class Solution:\n",
    "    def subsetsWithDup(self, nums: List[int]) -> List[List[int]]:\n",
    "        '''Get all possible subsets from a list using BFS Recursion.'''\n",
    "        ans = [[]]\n",
    "        nums.sort()\n",
    "        \n",
    "        def rec(nums: List[int]) -> List[List[int]]:\n",
    "            '''Recursion function.'''\n",
    "            if not nums:\n",
    "                return ans\n",
    "            num = nums.pop()\n",
    "            for s in ans[:len(ans)]:\n",
    "                if [num]+s not in ans:\n",
    "                    ans.append([num] + s)\n",
    "            return rec(nums)\n",
    "            \n",
    "        return rec(nums)"
   ]
  },
  {
   "cell_type": "code",
   "execution_count": null,
   "metadata": {
    "ExecuteTime": {
     "end_time": "2020-03-09T12:06:43.296111Z",
     "start_time": "2020-03-09T12:06:43.291994Z"
    }
   },
   "outputs": [],
   "source": [
    "# test\n",
    "eq(len(Solution().subsetsWithDup([4,4,4,1,4])), len([[],[1],[1,4],[1,4,4],\n",
    "                                                     [1,4,4,4],[1,4,4,4,4],[4],[4,4],[4,4,4],[4,4,4,4]]))"
   ]
  },
  {
   "cell_type": "markdown",
   "metadata": {},
   "source": [
    "### DFS Recursion"
   ]
  },
  {
   "cell_type": "markdown",
   "metadata": {},
   "source": [
    "* Runtime: 36 ms, faster than 68.35% of Python3 online submissions for Subsets II.\n",
    "* Memory Usage: 13 MB, less than 100.00% of Python3 online submissions for Subsets II."
   ]
  },
  {
   "cell_type": "code",
   "execution_count": null,
   "metadata": {
    "ExecuteTime": {
     "end_time": "2020-03-09T15:35:39.410792Z",
     "start_time": "2020-03-09T15:35:39.404778Z"
    }
   },
   "outputs": [],
   "source": [
    "from copy import deepcopy\n",
    "class Solution:\n",
    "    def subsetsWithDup(self, nums: List[int]) -> List[List[int]]:\n",
    "        '''Get all possible subsets from a list using DFS recursion.'''\n",
    "        ans = []\n",
    "        cur = []\n",
    "        nums.sort()\n",
    "        def dfs(n: int):\n",
    "            '''DFS recursion'''\n",
    "            ans.append(deepcopy(cur))\n",
    "            for i in range(n, len(nums)):\n",
    "                # TRICK: discard duplicate answers\n",
    "                if i > n and nums[i] == nums[i-1]:\n",
    "                    continue\n",
    "                cur.append(nums[i])\n",
    "                dfs(i+1)\n",
    "                cur.pop()\n",
    "        dfs(0)\n",
    "        return ans"
   ]
  },
  {
   "cell_type": "code",
   "execution_count": null,
   "metadata": {
    "ExecuteTime": {
     "end_time": "2020-03-09T15:35:40.273992Z",
     "start_time": "2020-03-09T15:35:40.268983Z"
    }
   },
   "outputs": [],
   "source": [
    "# test\n",
    "eq(len(Solution().subsetsWithDup([4,4,4,1,4])), len([[],[1],[1,4],[1,4,4],\n",
    "                                                     [1,4,4,4],[1,4,4,4,4],[4],[4,4],[4,4,4],[4,4,4,4]]))"
   ]
  },
  {
   "cell_type": "markdown",
   "metadata": {},
   "source": [
    "## 79 [Word Search](https://leetcode.com/problems/word-search/) - M "
   ]
  },
  {
   "cell_type": "markdown",
   "metadata": {},
   "source": [
    "### DFS"
   ]
  },
  {
   "cell_type": "markdown",
   "metadata": {},
   "source": [
    "* Runtime: 800 ms, faster than 5.00% of Python3 online submissions for Word Search.\n",
    "* Memory Usage: 18.2 MB, less than 14.89% of Python3 online submissions for Word Search."
   ]
  },
  {
   "cell_type": "code",
   "execution_count": null,
   "metadata": {},
   "outputs": [],
   "source": [
    "from collections import deque\n",
    "class Solution:\n",
    "    def exist(self, board: List[List[str]], word: str) -> bool:\n",
    "        '''Do word search by DFS.'''\n",
    "        if not word:\n",
    "            return False\n",
    "        N = len(word)\n",
    "        # key: letters\n",
    "        # val: list of coordinations\n",
    "        dictionary = {}\n",
    "        \n",
    "        # build the dictionary\n",
    "        for x, row in enumerate(board):\n",
    "            for y, letter in enumerate(row):\n",
    "                if letter not in dictionary:\n",
    "                    dictionary[letter] = deque()\n",
    "                dictionary[letter].append([x, y])\n",
    "        \n",
    "        # search\n",
    "        init_letter = word[0]\n",
    "        if len(word) == 1:\n",
    "            return init_letter in dictionary\n",
    "        if init_letter not in dictionary:\n",
    "            return False\n",
    "        \n",
    "        moves = {(-1, 0), (1, 0), (0, 1), (0, -1)}\n",
    "        \n",
    "        def dfs(index: int, x: int, y: int) -> bool:\n",
    "            '''Search by DFS from index.'''\n",
    "            if index == N:\n",
    "                return True\n",
    "            if word[index] not in dictionary:\n",
    "                return False\n",
    "            cnt = 0\n",
    "            cnt_max = len(dictionary[word[index]])\n",
    "            while cnt < cnt_max:\n",
    "                nx, ny = dictionary[word[index]].popleft()\n",
    "                if ((nx-x, ny-y) in moves) and (dfs(index+1, nx, ny) == True):\n",
    "                    return True\n",
    "                dictionary[word[index]].append((nx, ny))\n",
    "                cnt += 1\n",
    "            return False\n",
    "        \n",
    "        cnt = 0\n",
    "        cnt_max = len(dictionary[init_letter])\n",
    "        while cnt < cnt_max:\n",
    "            x, y = dictionary[init_letter].popleft()\n",
    "            if dfs(1, x, y) == True:\n",
    "                return True\n",
    "            dictionary[init_letter].append((x, y))\n",
    "            cnt += 1\n",
    "        return False"
   ]
  },
  {
   "cell_type": "code",
   "execution_count": null,
   "metadata": {},
   "outputs": [],
   "source": [
    "# test\n",
    "eq(Solution().exist([[\"A\",\"B\",\"C\",\"E\"],[\"S\",\"F\",\"C\",\"S\"],[\"A\",\"D\",\"E\",\"E\"]], \"ABCCED\"), True)\n",
    "eq(Solution().exist([[\"A\",\"B\",\"C\",\"E\"],[\"S\",\"F\",\"C\",\"S\"],[\"A\",\"D\",\"E\",\"E\"]], \"ABCCFB\"), False)"
   ]
  },
  {
   "cell_type": "markdown",
   "metadata": {},
   "source": [
    " ## 542 [01 Matrix](https://leetcode.com/problems/01-matrix/) - M "
   ]
  },
  {
   "cell_type": "markdown",
   "metadata": {},
   "source": [
    "### DP"
   ]
  },
  {
   "cell_type": "markdown",
   "metadata": {},
   "source": [
    "* [Solution](https://leetcode.com/articles/01-matrix/)\n",
    "* **CAUTION**: must not use `ans = [[float('inf')]*ly]*lx`, for `*` makes **SHALLOW COPY**!!!\n",
    "* Runtime: 680 ms, faster than 77.21% of Python3 online submissions for 01 Matrix.\n",
    "* Memory Usage: 15.9 MB, less than 25.00% of Python3 online submissions for 01 Matrix."
   ]
  },
  {
   "cell_type": "code",
   "execution_count": null,
   "metadata": {},
   "outputs": [],
   "source": [
    "class Solution:\n",
    "    def updateMatrix(self, matrix: List[List[int]]) -> List[List[int]]:\n",
    "        '''Find the distance of the nearest 0 for each cell.'''\n",
    "        if not matrix:\n",
    "            return []\n",
    "        lx = len(matrix)\n",
    "        ly = len(matrix[0])\n",
    "        \n",
    "        # CAUTION: must not use ans = [[float('inf')]*ly]*lx, for * makes \n",
    "        # SHALLOW COPY!!!\n",
    "#         ans = []\n",
    "#         for x in range(lx):\n",
    "#             ans.append([])\n",
    "#             for y in range(ly):\n",
    "#                 ans[x].append(float('inf'))\n",
    "        ans = [[float('inf') for _ in range(ly)] for _ in range(lx)]\n",
    "    \n",
    "        # traverse right and down\n",
    "        for x in range(lx):\n",
    "            for y in range(ly):\n",
    "                if matrix[x][y] == 0:\n",
    "                    ans[x][y] = 0\n",
    "                else:\n",
    "                    if x > 0:\n",
    "                        ans[x][y] = min(ans[x][y], ans[x-1][y]+1)\n",
    "                    if y > 0:\n",
    "                        ans[x][y] = min(ans[x][y], ans[x][y-1]+1)\n",
    "        # traverse left and up\n",
    "        for x in range(lx-1, -1, -1):\n",
    "            for y in range(ly-1, -1, -1):\n",
    "                if matrix[x][y] == 0:\n",
    "                    ans[x][y] = 0\n",
    "                else:\n",
    "                    if x < lx-1:\n",
    "                        ans[x][y] = min(ans[x][y], ans[x+1][y]+1)\n",
    "                    if y < ly-1:\n",
    "                        ans[x][y] = min(ans[x][y], ans[x][y+1]+1)\n",
    "        return ans"
   ]
  },
  {
   "cell_type": "code",
   "execution_count": null,
   "metadata": {},
   "outputs": [],
   "source": [
    "# test\n",
    "eq(Solution().updateMatrix([[0,0,0],[0,1,0],[1,1,1]]), [[0,0,0],[0,1,0],\n",
    "                                                        [1,2,1]])"
   ]
  },
  {
   "cell_type": "markdown",
   "metadata": {},
   "source": [
    "## 386 [Lexicographical Numbers](https://leetcode.com/problems/lexicographical-numbers/) - ByteDance - M"
   ]
  },
  {
   "cell_type": "markdown",
   "metadata": {},
   "source": [
    "### O(1) Iteration"
   ]
  },
  {
   "cell_type": "markdown",
   "metadata": {},
   "source": [
    "* Get the O(n) answer by generating next number one by one.\n",
    "* Runtime: 124 ms, faster than 32.65% of Python3 online submissions for Lexicographical Numbers.\n",
    "* Memory Usage: 18.5 MB, less than 100.00% of Python3 online submissions for Lexicographical Numbers."
   ]
  },
  {
   "cell_type": "code",
   "execution_count": null,
   "metadata": {},
   "outputs": [],
   "source": [
    "class Solution:\n",
    "    def lexicalOrder(self, n: int) -> List[int]:\n",
    "        '''Get lexical order from 1-n.'''\n",
    "        lex = []\n",
    "        len_lex = 0\n",
    "        current_number = 1\n",
    "        length_of_str_n = len(str(n))\n",
    "        while len_lex < n:\n",
    "            lex.append(current_number)\n",
    "            len_lex += 1\n",
    "            if len(str(current_number)) < length_of_str_n:\n",
    "                current_number *= 10\n",
    "                if current_number > n:\n",
    "                    current_number //= 10\n",
    "                    while current_number%10 == 9:\n",
    "                        current_number //= 10\n",
    "                    current_number += 1\n",
    "            elif current_number < n and current_number%10 != 9:\n",
    "                current_number += 1\n",
    "            else:\n",
    "                current_number //= 10\n",
    "                while current_number%10 == 9:\n",
    "                    current_number //= 10\n",
    "                current_number += 1\n",
    "        return lex"
   ]
  },
  {
   "cell_type": "markdown",
   "metadata": {},
   "source": [
    "### Brute Force"
   ]
  },
  {
   "cell_type": "markdown",
   "metadata": {},
   "source": [
    "* Runtime: 112 ms, faster than 53.35% of Python3 online submissions for Lexicographical Numbers.\n",
    "* Memory Usage: 19.8 MB, less than 50.00% of Python3 online submissions for Lexicographical Numbers."
   ]
  },
  {
   "cell_type": "code",
   "execution_count": null,
   "metadata": {},
   "outputs": [],
   "source": [
    "class Solution:\n",
    "    def lexicalOrder(self, n: int) -> List[int]:\n",
    "        '''Get lexical order from 1-n.'''\n",
    "        return sorted([i for i in range(1, n+1)], key=lambda k : str(k))"
   ]
  },
  {
   "cell_type": "code",
   "execution_count": null,
   "metadata": {},
   "outputs": [],
   "source": [
    "# test\n",
    "Solution().lexicalOrder(10)"
   ]
  }
 ],
 "metadata": {
  "file_extension": ".py",
  "kernelspec": {
   "display_name": "Python 3",
   "language": "python",
   "name": "python3"
  },
  "language_info": {
   "codemirror_mode": {
    "name": "ipython",
    "version": 3
   },
   "file_extension": ".py",
   "mimetype": "text/x-python",
   "name": "python",
   "nbconvert_exporter": "python",
   "pygments_lexer": "ipython3",
   "version": "3.6.9"
  },
  "mimetype": "text/x-python",
  "name": "python",
  "npconvert_exporter": "python",
  "pygments_lexer": "ipython3",
  "toc": {
   "base_numbering": 1,
   "nav_menu": {
    "height": "130px",
    "width": "160px"
   },
   "number_sections": false,
   "sideBar": true,
   "skip_h1_title": false,
   "title_cell": "Table of Contents",
   "title_sidebar": "Contents",
   "toc_cell": false,
   "toc_position": {
    "height": "calc(100% - 180px)",
    "left": "10px",
    "top": "150px",
    "width": "216px"
   },
   "toc_section_display": true,
   "toc_window_display": true
  },
  "version": 3
 },
 "nbformat": 4,
 "nbformat_minor": 2
}
