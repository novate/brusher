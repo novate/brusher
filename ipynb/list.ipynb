{
 "cells": [
  {
   "cell_type": "markdown",
   "metadata": {},
   "source": [
    "# List"
   ]
  },
  {
   "cell_type": "markdown",
   "metadata": {},
   "source": [
    "* Mostly, we can solve this kind of problem by using recursion.\n",
    "* Tricks:\n",
    "    * Fast and slow pointers: split list, check cycle.\n",
    "    * Dummy head: tail insertion.\n",
    "    * Swap heads: merge sort."
   ]
  },
  {
   "cell_type": "markdown",
   "metadata": {},
   "source": [
    "## Pre-run"
   ]
  },
  {
   "cell_type": "code",
   "execution_count": null,
   "metadata": {
    "ExecuteTime": {
     "end_time": "2020-02-21T05:16:10.473222Z",
     "start_time": "2020-02-21T05:16:10.469224Z"
    }
   },
   "outputs": [],
   "source": [
    "from typing import List\n",
    "from helpers.misc import *\n",
    "from helpers.list import *"
   ]
  },
  {
   "cell_type": "markdown",
   "metadata": {},
   "source": [
    "## 2 [Add Two Numbers](https://leetcode.com/problems/add-two-numbers/) - M"
   ]
  },
  {
   "cell_type": "markdown",
   "metadata": {},
   "source": [
    "* [Answer from Huahua](https://www.youtube.com/watch?v=-UBiYuIVErM)\n",
    "* List, Simulation"
   ]
  },
  {
   "cell_type": "markdown",
   "metadata": {},
   "source": [
    "### Traditional"
   ]
  },
  {
   "cell_type": "markdown",
   "metadata": {},
   "source": [
    "* Runtime: 68 ms, faster than 72.85% of Python3 online submissions for Add Two Numbers.\n",
    "* Memory Usage: 12.8 MB, less than 100.00% of Python3 online submissions for Add Two Numbers."
   ]
  },
  {
   "cell_type": "code",
   "execution_count": null,
   "metadata": {
    "ExecuteTime": {
     "end_time": "2020-02-21T05:16:10.484226Z",
     "start_time": "2020-02-21T05:16:10.478222Z"
    }
   },
   "outputs": [],
   "source": [
    "class Solution:\n",
    "    def addTwoNumbers(self, l1: ListNode, l2: ListNode) -> ListNode:\n",
    "        '''Add two numbers represented in linked list.\n",
    "        \n",
    "        TC: O(l1 + l2)\n",
    "        SC: O(max(l1, l2))\n",
    "        '''\n",
    "        head = tail = None\n",
    "        sum = 0\n",
    "        while l1 or l2 or sum:\n",
    "            if l1:\n",
    "                sum += l1.val\n",
    "                l1 = l1.next\n",
    "            if l2:\n",
    "                sum += l2.val\n",
    "                l2 = l2.next\n",
    "            if not tail:\n",
    "                head = tail = ListNode(sum % 10)\n",
    "            else:\n",
    "                tail.next = ListNode(sum % 10)\n",
    "                tail = tail.next\n",
    "            sum //= 10\n",
    "        return head"
   ]
  },
  {
   "cell_type": "code",
   "execution_count": null,
   "metadata": {
    "ExecuteTime": {
     "end_time": "2020-02-21T05:16:10.492221Z",
     "start_time": "2020-02-21T05:16:10.486225Z"
    }
   },
   "outputs": [],
   "source": [
    "# Test\n",
    "l1 = string_to_list_node('[1,4,3]')\n",
    "l2 = string_to_list_node('[2,5,7]')\n",
    "l = Solution().addTwoNumbers(l1, l2)\n",
    "eq(list_node_to_string(l), '[3, 9, 0, 1]')"
   ]
  },
  {
   "cell_type": "markdown",
   "metadata": {},
   "source": [
    "### Dummy Head"
   ]
  },
  {
   "cell_type": "markdown",
   "metadata": {},
   "source": [
    "* For head insert, we can have a dummy head when initializing a list head.\n",
    "* Runtime: 68 ms, faster than 72.85% of Python3 online submissions for Add Two Numbers.\n",
    "* Memory Usage: 12.8 MB, less than 100.00% of Python3 online submissions for Add Two Numbers."
   ]
  },
  {
   "cell_type": "code",
   "execution_count": null,
   "metadata": {
    "ExecuteTime": {
     "end_time": "2020-02-21T05:16:10.502258Z",
     "start_time": "2020-02-21T05:16:10.494225Z"
    }
   },
   "outputs": [],
   "source": [
    "class Solution:\n",
    "    def addTwoNumbers(self, l1: ListNode, l2: ListNode) -> ListNode:\n",
    "        '''Add two numbers represented in linked list.\n",
    "        \n",
    "        TC: O(l1 + l2)\n",
    "        SC: O(max(l1, l2))\n",
    "        '''\n",
    "        dummy_head = tail = ListNode(0)\n",
    "        sum = 0\n",
    "        while l1 or l2 or sum:\n",
    "            if l1:\n",
    "                if not l2 and not sum:\n",
    "                    tail.next = l1\n",
    "                    break\n",
    "                else:\n",
    "                    sum += l1.val\n",
    "                    l1 = l1.next\n",
    "            if l2:\n",
    "                if not l1 and not sum:\n",
    "                    tail.next = l2\n",
    "                    break\n",
    "                else:\n",
    "                    sum += l2.val\n",
    "                    l2 = l2.next\n",
    "            tail.next = ListNode(sum % 10)\n",
    "            tail = tail.next\n",
    "            sum //= 10\n",
    "        return dummy_head.next"
   ]
  },
  {
   "cell_type": "code",
   "execution_count": null,
   "metadata": {
    "ExecuteTime": {
     "end_time": "2020-02-21T05:16:10.509257Z",
     "start_time": "2020-02-21T05:16:10.504225Z"
    }
   },
   "outputs": [],
   "source": [
    "# Test\n",
    "l1 = string_to_list_node('[1,4,3]')\n",
    "l2 = string_to_list_node('[2,5,7]')\n",
    "l = Solution().addTwoNumbers(l1, l2)\n",
    "eq(list_node_to_string(l), '[3, 9, 0, 1]')"
   ]
  },
  {
   "cell_type": "markdown",
   "metadata": {},
   "source": [
    "## 445 [Add Two Numbers II](https://leetcode.com/problems/add-two-numbers-ii/) - M"
   ]
  },
  {
   "cell_type": "markdown",
   "metadata": {},
   "source": [
    "* [Answer from Huahua](https://zxi.mytechroad.com/blog/list/leetcode-445-add-two-numbers-ii/)"
   ]
  },
  {
   "cell_type": "markdown",
   "metadata": {},
   "source": [
    "### Conversion"
   ]
  },
  {
   "cell_type": "markdown",
   "metadata": {},
   "source": [
    "* Runtime: 72 ms, faster than 69.52% of Python3 online submissions for Add Two Numbers II.\n",
    "* Memory Usage: 12.7 MB, less than 100.00% of Python3 online submissions for Add Two Numbers II."
   ]
  },
  {
   "cell_type": "code",
   "execution_count": null,
   "metadata": {
    "ExecuteTime": {
     "end_time": "2020-02-21T05:16:10.517256Z",
     "start_time": "2020-02-21T05:16:10.510224Z"
    }
   },
   "outputs": [],
   "source": [
    "# Definition for singly-linked list.\n",
    "# class ListNode:\n",
    "#     def __init__(self, x):\n",
    "#         self.val = x\n",
    "#         self.next = None\n",
    "\n",
    "class Solution:\n",
    "    def addTwoNumbers(self, l1: ListNode, l2: ListNode) -> ListNode:\n",
    "        '''Add two numbers represented in linked list.'''\n",
    "        def list_to_num(l: ListNode) -> int:\n",
    "            '''Convert linked list to integer.'''\n",
    "            ans = 0\n",
    "            while l:\n",
    "                ans = ans * 10 + l.val\n",
    "                l = l.next\n",
    "            return ans\n",
    "        \n",
    "        def num_to_list(n: int) -> ListNode:\n",
    "            '''Convert integer to linked list.'''\n",
    "            l = ListNode(n % 10)\n",
    "            while n >= 10:\n",
    "                n //= 10\n",
    "                p = ListNode(n % 10)\n",
    "                p.next = l\n",
    "                l = p\n",
    "            return l\n",
    "\n",
    "        return num_to_list(list_to_num(l1) + list_to_num(l2))\n"
   ]
  },
  {
   "cell_type": "code",
   "execution_count": null,
   "metadata": {
    "ExecuteTime": {
     "end_time": "2020-02-21T05:16:10.525257Z",
     "start_time": "2020-02-21T05:16:10.519225Z"
    }
   },
   "outputs": [],
   "source": [
    "# Test\n",
    "l1 = string_to_list_node('[1,4,3]')\n",
    "l2 = string_to_list_node('[2,5,7]')\n",
    "l = Solution().addTwoNumbers(l1, l2)\n",
    "eq(list_node_to_string(l), '[4, 0, 0]')"
   ]
  },
  {
   "cell_type": "markdown",
   "metadata": {},
   "source": [
    "### Stack"
   ]
  },
  {
   "cell_type": "markdown",
   "metadata": {},
   "source": [
    "* Runtime: 64 ms, faster than 94.66% of Python3 online submissions for Add Two Numbers II.\n",
    "* Memory Usage: 12.8 MB, less than 100.00% of Python3 online submissions for Add Two Numbers II."
   ]
  },
  {
   "cell_type": "code",
   "execution_count": null,
   "metadata": {
    "ExecuteTime": {
     "end_time": "2020-02-21T05:16:10.533225Z",
     "start_time": "2020-02-21T05:16:10.527225Z"
    }
   },
   "outputs": [],
   "source": [
    "# Definition for singly-linked list.\n",
    "# class ListNode:\n",
    "#     def __init__(self, x):\n",
    "#         self.val = x\n",
    "#         self.next = None\n",
    "\n",
    "class Solution:\n",
    "    def addTwoNumbers(self, l1: ListNode, l2: ListNode) -> ListNode:\n",
    "        '''Add two numbers represented in linked list.\n",
    "        \n",
    "        TC: O(l1 + l2)\n",
    "        SC: O(max(l1, l2))\n",
    "        '''\n",
    "        # reverse the list by a stack\n",
    "        s1, s2 = [], []\n",
    "        while l1:\n",
    "            s1.append(l1.val)\n",
    "            l1 = l1.next\n",
    "        while l2:\n",
    "            s2.append(l2.val)\n",
    "            l2 = l2.next\n",
    "        head = None\n",
    "        sum = 0\n",
    "        while s1 or s2 or sum:\n",
    "            if s1:\n",
    "                sum += s1.pop()\n",
    "            if s2:\n",
    "                sum += s2.pop()\n",
    "            p = ListNode(sum % 10)\n",
    "            sum //= 10\n",
    "            p.next = head\n",
    "            head = p\n",
    "        return head"
   ]
  },
  {
   "cell_type": "code",
   "execution_count": null,
   "metadata": {
    "ExecuteTime": {
     "end_time": "2020-02-21T05:16:10.542221Z",
     "start_time": "2020-02-21T05:16:10.535225Z"
    }
   },
   "outputs": [],
   "source": [
    "# Test\n",
    "l1 = string_to_list_node('[1,4,3]')\n",
    "l2 = string_to_list_node('[2,5,7]')\n",
    "l = Solution().addTwoNumbers(l1, l2)\n",
    "eq(list_node_to_string(l), '[4, 0, 0]')"
   ]
  },
  {
   "cell_type": "markdown",
   "metadata": {},
   "source": [
    "## 24 [Swap Nodes in Pairs](https://leetcode.com/problems/swap-nodes-in-pairs) - M"
   ]
  },
  {
   "cell_type": "markdown",
   "metadata": {},
   "source": [
    "* [Answer from Huahua](https://zxi.mytechroad.com/blog/list/leetcode-24-swap-nodes-in-pairs/)"
   ]
  },
  {
   "cell_type": "markdown",
   "metadata": {},
   "source": [
    "### Recursion"
   ]
  },
  {
   "cell_type": "markdown",
   "metadata": {},
   "source": [
    "* Runtime: 28 ms, faster than 73.70% of Python3 online submissions for Swap Nodes in Pairs.\n",
    "* Memory Usage: 12.7 MB, less than 100.00% of Python3 online submissions for Swap Nodes in Pairs."
   ]
  },
  {
   "cell_type": "code",
   "execution_count": null,
   "metadata": {
    "ExecuteTime": {
     "end_time": "2020-02-21T05:16:10.551255Z",
     "start_time": "2020-02-21T05:16:10.544223Z"
    }
   },
   "outputs": [],
   "source": [
    "# Definition for singly-linked list.\n",
    "# class ListNode:\n",
    "#     def __init__(self, x):\n",
    "#         self.val = x\n",
    "#         self.next = None\n",
    "\n",
    "class Solution:\n",
    "    def swapPairs(self, head: ListNode) -> ListNode:\n",
    "        '''Swap every two adjacent nodes in place by recursion.'''\n",
    "        # length is 0 or 1\n",
    "        if not head or not head.next:\n",
    "            return head\n",
    "        # p points to the third node, do swap recursively.\n",
    "        p = self.swapPairs(head.next.next)\n",
    "        # swap the first two nodes.\n",
    "        first = head.next\n",
    "        second = head\n",
    "        first.next = second\n",
    "        second.next = p\n",
    "        return first"
   ]
  },
  {
   "cell_type": "code",
   "execution_count": null,
   "metadata": {
    "ExecuteTime": {
     "end_time": "2020-02-21T05:16:10.557250Z",
     "start_time": "2020-02-21T05:16:10.553223Z"
    }
   },
   "outputs": [],
   "source": [
    "# Test\n",
    "l = string_to_list_node('[1,2,3,4,5]')\n",
    "l = Solution().swapPairs(l)\n",
    "eq(list_node_to_string(l), '[2, 1, 4, 3, 5]')"
   ]
  },
  {
   "cell_type": "markdown",
   "metadata": {},
   "source": [
    "## 206 [Reverse Linked List](https://leetcode.com/problems/reverse-linked-list) - E"
   ]
  },
  {
   "cell_type": "markdown",
   "metadata": {},
   "source": [
    "* [Answer from Huahua](https://zxi.mytechroad.com/blog/list/leetcode-206-reverse-linked-list/)"
   ]
  },
  {
   "cell_type": "markdown",
   "metadata": {},
   "source": [
    "Python3 - Iterative"
   ]
  },
  {
   "cell_type": "markdown",
   "metadata": {},
   "source": [
    "* Runtime: 36 ms, faster than 55.59% of Python3 online submissions for Reverse Linked List.\n",
    "* Memory Usage: 13.9 MB, less than 100.00% of Python3 online submissions for Reverse Linked List."
   ]
  },
  {
   "cell_type": "code",
   "execution_count": null,
   "metadata": {
    "ExecuteTime": {
     "end_time": "2020-02-21T05:16:10.564257Z",
     "start_time": "2020-02-21T05:16:10.558223Z"
    }
   },
   "outputs": [],
   "source": [
    "# Definition for singly-linked list.\n",
    "# class ListNode:\n",
    "#     def __init__(self, x):\n",
    "#         self.val = x\n",
    "#         self.next = None\n",
    "\n",
    "class Solution:\n",
    "    def reverseList(self, head: ListNode) -> ListNode:\n",
    "        '''Reverse a singly linked list iteratively.'''\n",
    "        if not head or not head.next:\n",
    "            return head\n",
    "        new_head = None\n",
    "        while head:\n",
    "            p = head\n",
    "            head = head.next\n",
    "            p.next = new_head\n",
    "            new_head = p\n",
    "            \n",
    "        return new_head"
   ]
  },
  {
   "cell_type": "code",
   "execution_count": null,
   "metadata": {
    "ExecuteTime": {
     "end_time": "2020-02-21T05:16:10.573221Z",
     "start_time": "2020-02-21T05:16:10.565225Z"
    }
   },
   "outputs": [],
   "source": [
    "# Test\n",
    "l = string_to_list_node('[1,2,3,4,5]')\n",
    "l = Solution().reverseList(l)\n",
    "print(list_node_to_string(l))"
   ]
  },
  {
   "cell_type": "markdown",
   "metadata": {},
   "source": [
    "### Recursion"
   ]
  },
  {
   "cell_type": "markdown",
   "metadata": {},
   "source": [
    "* **TRICK**: head.next is the tail of p\n",
    "* **CAUTION**: head is the new tail, thus we must nullify head.next\n",
    "* Runtime: 36 ms, faster than 55.59% of Python3 online submissions for Reverse Linked List.\n",
    "* Memory Usage: 17.3 MB, less than 22.73% of Python3 online submissions for Reverse Linked List."
   ]
  },
  {
   "cell_type": "code",
   "execution_count": null,
   "metadata": {
    "ExecuteTime": {
     "end_time": "2020-02-21T05:16:10.581225Z",
     "start_time": "2020-02-21T05:16:10.575232Z"
    }
   },
   "outputs": [],
   "source": [
    "# Definition for singly-linked list.\n",
    "# class ListNode:\n",
    "#     def __init__(self, x):\n",
    "#         self.val = x\n",
    "#         self.next = None\n",
    "\n",
    "class Solution:\n",
    "    def reverseList(self, head: ListNode) -> ListNode:\n",
    "        '''Reverse a singly linked list recursively.'''\n",
    "        if not head or not head.next:\n",
    "            return head\n",
    "        p = self.reverseList(head.next)\n",
    "        # TRICK: head.next is the tail of p\n",
    "        head.next.next = head\n",
    "        # CAUTION: head is the new tail, thus we must nullify head.next\n",
    "        head.next = None\n",
    "        return p"
   ]
  },
  {
   "cell_type": "code",
   "execution_count": null,
   "metadata": {
    "ExecuteTime": {
     "end_time": "2020-02-21T05:16:10.589243Z",
     "start_time": "2020-02-21T05:16:10.582228Z"
    }
   },
   "outputs": [],
   "source": [
    "# Test\n",
    "l = string_to_list_node('[1,2,3,4,5]')\n",
    "l = Solution().reverseList(l)\n",
    "eq(list_node_to_string(l), '[5, 4, 3, 2, 1]')"
   ]
  },
  {
   "cell_type": "markdown",
   "metadata": {},
   "source": [
    "## 141 [Linked List Cycle](https://leetcode.com/problems/linked-list-cycle) - E"
   ]
  },
  {
   "cell_type": "markdown",
   "metadata": {},
   "source": [
    "* [Answer from Huahua](https://zxi.mytechroad.com/blog/list/leetcode-141-linked-list-cycle/)"
   ]
  },
  {
   "cell_type": "markdown",
   "metadata": {},
   "source": [
    "### Set(HashTable)"
   ]
  },
  {
   "cell_type": "markdown",
   "metadata": {},
   "source": [
    "* Runtime: 48 ms, faster than 64.91% of Python3 online submissions for Linked List Cycle.\n",
    "* Memory Usage: 16.2 MB, less than 100.00% of Python3 online submissions for Linked List Cycle."
   ]
  },
  {
   "cell_type": "code",
   "execution_count": null,
   "metadata": {
    "ExecuteTime": {
     "end_time": "2020-02-21T05:16:10.597223Z",
     "start_time": "2020-02-21T05:16:10.591222Z"
    }
   },
   "outputs": [],
   "source": [
    "# Definition for singly-linked list.\n",
    "# class ListNode:\n",
    "#     def __init__(self, x):\n",
    "#         self.val = x\n",
    "#         self.next = None\n",
    "\n",
    "class Solution:\n",
    "    def hasCycle(self, head: ListNode) -> bool:\n",
    "        '''Check if there is a cycle.'''\n",
    "        nodes = set()\n",
    "        while head:\n",
    "            if head in nodes:\n",
    "                return True\n",
    "            else:\n",
    "                nodes.add(head)\n",
    "                head = head.next\n",
    "        return False"
   ]
  },
  {
   "cell_type": "code",
   "execution_count": null,
   "metadata": {
    "ExecuteTime": {
     "end_time": "2020-02-21T05:16:10.603232Z",
     "start_time": "2020-02-21T05:16:10.599226Z"
    }
   },
   "outputs": [],
   "source": [
    "# Test\n",
    "l = string_to_cycle_list('[3,2,0,-4]', 2)\n",
    "eq(Solution().hasCycle(l), True)\n",
    "l = string_to_cycle_list('[3,2,0,-4]', -1)\n",
    "eq(Solution().hasCycle(l), False)"
   ]
  },
  {
   "cell_type": "markdown",
   "metadata": {},
   "source": [
    "### Fast Slow Pointers"
   ]
  },
  {
   "cell_type": "markdown",
   "metadata": {},
   "source": [
    "* This technique reduces SC from O(n) to O(1)\n",
    "* Runtime: 44 ms, faster than 85.67% of Python3 online submissions for Linked List Cycle.\n",
    "* Memory Usage: 16.1 MB, less than 100.00% of Python3 online submissions for Linked List Cycle."
   ]
  },
  {
   "cell_type": "code",
   "execution_count": null,
   "metadata": {
    "ExecuteTime": {
     "end_time": "2020-02-21T05:17:30.592935Z",
     "start_time": "2020-02-21T05:17:30.587935Z"
    }
   },
   "outputs": [],
   "source": [
    "# Definition for singly-linked list.\n",
    "# class ListNode:\n",
    "#     def __init__(self, x):\n",
    "#         self.val = x\n",
    "#         self.next = None\n",
    "\n",
    "class Solution:\n",
    "    def hasCycle(self, head: ListNode) -> bool:\n",
    "        '''Check if there is a cycle using fast and slow pointers.'''\n",
    "        slow = head\n",
    "        fast = head\n",
    "        while fast:\n",
    "            if not fast.next:\n",
    "                return False\n",
    "            fast = fast.next.next\n",
    "            slow = slow.next\n",
    "            if fast == slow:\n",
    "                return True\n",
    "        return False"
   ]
  },
  {
   "cell_type": "code",
   "execution_count": null,
   "metadata": {
    "ExecuteTime": {
     "end_time": "2020-02-21T05:17:32.944515Z",
     "start_time": "2020-02-21T05:17:32.940538Z"
    }
   },
   "outputs": [],
   "source": [
    "# Test\n",
    "l = string_to_cycle_list('[3,2,0,-4]', 2)\n",
    "eq(Solution().hasCycle(l), True)\n",
    "l = string_to_cycle_list('[3,2,0,-4]', -1)\n",
    "eq(Solution().hasCycle(l), False)"
   ]
  },
  {
   "cell_type": "markdown",
   "metadata": {},
   "source": [
    "## 142 [Linked List Cycle II](https://leetcode.com/problems/linked-list-cycle-ii) - M"
   ]
  },
  {
   "cell_type": "markdown",
   "metadata": {},
   "source": [
    "### Fast Slow Pointers "
   ]
  },
  {
   "cell_type": "markdown",
   "metadata": {},
   "source": [
    "* Runtime: 56 ms, faster than 19.63% of Python3 online submissions for Linked List Cycle II.\n",
    "* Memory Usage: 16.1 MB, less than 100.00% of Python3 online submissions for Linked List Cycle II."
   ]
  },
  {
   "cell_type": "code",
   "execution_count": null,
   "metadata": {},
   "outputs": [],
   "source": [
    "class Solution:\n",
    "    def detectCycle(self, head: ListNode) -> ListNode:\n",
    "        '''Detect cycle along with the starting position by fast slow pointers.'''\n",
    "        slow = head\n",
    "        fast = head\n",
    "        while fast:\n",
    "            if not fast.next:\n",
    "                return None\n",
    "            fast = fast.next.next\n",
    "            slow = slow.next\n",
    "            if fast == slow:\n",
    "                while head != slow:\n",
    "                    head = head.next\n",
    "                    slow = slow.next\n",
    "                return head\n",
    "        return None"
   ]
  },
  {
   "cell_type": "markdown",
   "metadata": {},
   "source": [
    "## 148 [Sort List](https://leetcode.com/problems/sort-list/) - Pony.ai - M"
   ]
  },
  {
   "cell_type": "markdown",
   "metadata": {},
   "source": [
    "* [Answer from Huahua](https://zxi.mytechroad.com/blog/divide-and-conquer/leetcode-148-sort-list/)\n",
    "* Merge Sort O(1) Space"
   ]
  },
  {
   "cell_type": "markdown",
   "metadata": {},
   "source": [
    "### Merge Sort Top Down"
   ]
  },
  {
   "cell_type": "markdown",
   "metadata": {},
   "source": [
    "* TRICK: split list by slow and fast pointers.\n",
    "* TRICK: swap lists to avoid more comparisons.\n",
    "* Runtime: 248 ms, faster than 41.09% of Python3 online submissions for Sort List.\n",
    "* Memory Usage: 21.9 MB, less than 15.38% of Python3 online submissions for Sort List."
   ]
  },
  {
   "cell_type": "code",
   "execution_count": null,
   "metadata": {
    "ExecuteTime": {
     "end_time": "2020-02-21T05:18:11.524991Z",
     "start_time": "2020-02-21T05:18:11.516997Z"
    }
   },
   "outputs": [],
   "source": [
    "# Definition for singly-linked list.\n",
    "# class ListNode:\n",
    "#     def __init__(self, x):\n",
    "#         self.val = x\n",
    "#         self.next = None\n",
    "\n",
    "class Solution:\n",
    "    def sortList(self, head: ListNode) -> ListNode:\n",
    "        '''Sort a linked list in O(n log n) by Top-down recursion using O(1) space complexity.\n",
    "        \n",
    "        Solved by merge sort.\n",
    "        TC: O(n) for split and merge, repeated recursively for log n times, thus O(n log n)\n",
    "        SC: O(1).\n",
    "        '''\n",
    "        def merge(l1: ListNode, l2: ListNode) -> ListNode:\n",
    "            '''Merge two sorted lists.'''\n",
    "            dummy = ListNode(0)\n",
    "            tail = dummy\n",
    "            while l1 and l2:\n",
    "                # TRICK: swap lists to avoid more comparisons.\n",
    "                if l1.val > l2.val:\n",
    "                    l1, l2 = l2, l1\n",
    "                tail.next = l1\n",
    "                l1 = l1.next\n",
    "                tail = tail.next\n",
    "            tail.next = l1 if l1 else l2\n",
    "            return dummy.next\n",
    "        \n",
    "        # list length is 0 or 1\n",
    "        if not head or not head.next:\n",
    "            return head\n",
    "        \n",
    "        # TRICK: split list by slow and fast pointers\n",
    "        slow = head\n",
    "        fast = head.next\n",
    "        while fast and fast.next:\n",
    "            fast = fast.next.next\n",
    "            slow = slow.next\n",
    "        mid = slow.next\n",
    "        slow.next = None\n",
    "        return merge(self.sortList(head), self.sortList(mid))"
   ]
  },
  {
   "cell_type": "code",
   "execution_count": null,
   "metadata": {
    "ExecuteTime": {
     "end_time": "2020-02-21T05:18:23.480918Z",
     "start_time": "2020-02-21T05:18:23.476920Z"
    }
   },
   "outputs": [],
   "source": [
    "# Test\n",
    "l = string_to_list_node('[-1,6,2,0,-4,9]')\n",
    "l = Solution().sortList(l)\n",
    "eq(list_node_to_string(l), '[-4, -1, 0, 2, 6, 9]')"
   ]
  },
  {
   "cell_type": "markdown",
   "metadata": {},
   "source": [
    "## 876 [Middle of the Linked List](https://leetcode.com/problems/middle-of-the-linked-list/) - E"
   ]
  },
  {
   "cell_type": "markdown",
   "metadata": {},
   "source": [
    "### Fast Slow Pointers"
   ]
  },
  {
   "cell_type": "markdown",
   "metadata": {},
   "source": [
    "* Runtime: 32 ms, faster than 18.70% of Python3 online submissions for Middle of the Linked List.\n",
    "* Memory Usage: 14 MB, less than 7.14% of Python3 online submissions for Middle of the Linked List."
   ]
  },
  {
   "cell_type": "code",
   "execution_count": null,
   "metadata": {},
   "outputs": [],
   "source": [
    "class Solution:\n",
    "    def middleNode(self, head: ListNode) -> ListNode:\n",
    "        '''Solve this by fast slow pointers.'''\n",
    "        slow = head\n",
    "        fast = head\n",
    "        while fast.next and fast.next.next:\n",
    "            slow = slow.next\n",
    "            fast = fast.next.next\n",
    "        return slow.next if fast.next else slow "
   ]
  },
  {
   "cell_type": "code",
   "execution_count": null,
   "metadata": {},
   "outputs": [],
   "source": [
    "# test\n",
    "eq(list_node_to_string(Solution().middleNode(string_to_list_node('[1]'))), '[1]')\n",
    "eq(list_node_to_string(Solution().middleNode(string_to_list_node('[1,2,3,4,5]'))), '[3, 4, 5]')\n",
    "eq(list_node_to_string(Solution().middleNode(string_to_list_node('[1,2,3,4,5,6]'))), '[4, 5, 6]')"
   ]
  }
 ],
 "metadata": {
  "file_extension": ".py",
  "kernelspec": {
   "display_name": "Python 3",
   "language": "python",
   "name": "python3"
  },
  "language_info": {
   "codemirror_mode": {
    "name": "ipython",
    "version": 3
   },
   "file_extension": ".py",
   "mimetype": "text/x-python",
   "name": "python",
   "nbconvert_exporter": "python",
   "pygments_lexer": "ipython3",
   "version": "3.7.3"
  },
  "mimetype": "text/x-python",
  "name": "python",
  "npconvert_exporter": "python",
  "pygments_lexer": "ipython3",
  "toc": {
   "base_numbering": 1,
   "nav_menu": {
    "height": "200px",
    "width": "217px"
   },
   "number_sections": false,
   "sideBar": true,
   "skip_h1_title": true,
   "title_cell": "Table of Contents",
   "title_sidebar": "Contents",
   "toc_cell": false,
   "toc_position": {
    "height": "262px",
    "left": "743px",
    "top": "323px",
    "width": "236.594px"
   },
   "toc_section_display": true,
   "toc_window_display": true
  },
  "version": 3
 },
 "nbformat": 4,
 "nbformat_minor": 2
}
